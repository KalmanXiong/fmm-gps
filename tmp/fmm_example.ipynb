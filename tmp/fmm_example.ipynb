{
 "cells": [
  {
   "cell_type": "markdown",
   "metadata": {},
   "source": [
    "## Demo of fmm Python API"
   ]
  },
  {
   "cell_type": "code",
   "execution_count": 32,
   "metadata": {},
   "outputs": [],
   "source": [
    "from fmm import Network,NetworkGraph,FastMapMatch,FastMapMatchConfig,UBODT\n",
    "from fmm import UBODTGenAlgorithm\n",
    "#! pip2 install pyarrow\n",
    "import pyarrow\n",
    "import pyarrow.parquet as pq\n",
    "import os\n",
    "import pandas as pd\n",
    "import ast\n",
    "import numpy as np\n",
    "#pd.options.mode.chained_assignment = None"
   ]
  },
  {
   "cell_type": "code",
   "execution_count": 6,
   "metadata": {},
   "outputs": [],
   "source": [
    "\n",
    "def getPoints(file_path):\n",
    "    if os.path.isfile(file_path):\n",
    "        text_file = open(file_path, \"r\")\n",
    "        wkt = text_file.read()\n",
    "        text_file.close()\n",
    "    return wkt\n",
    "def save_results(file_base_name, cpath, opath, indices, m_wkt, e_wkt, distance):\n",
    "  text_file = open(file_base_name + '-cpath.txt', \"w\")\n",
    "  text_file.write(cpath)\n",
    "  text_file.close()\n",
    "  text_file = open(file_base_name + '-opath.txt', \"w\")\n",
    "  text_file.write(opath)\n",
    "  text_file.close()\n",
    "  text_file = open(file_base_name + '-indices.txt', \"w\")\n",
    "  text_file.write(indices)\n",
    "  text_file.close()\n",
    "  text_file = open(file_base_name + '-m_wkt.txt', \"w\")\n",
    "  text_file.write(m_wkt)\n",
    "  text_file.close()\n",
    "  text_file = open(file_base_name + '-e_wkt.txt', \"w\")\n",
    "  text_file.write(e_wkt)\n",
    "  text_file.close()\n",
    "  text_file = open(file_base_name + '-distance.txt', \"w\")\n",
    "  text_file.write(distance)\n",
    "  text_file.close()\n",
    "\n"
   ]
  },
  {
   "cell_type": "markdown",
   "metadata": {},
   "source": [
    "### Load network data and graph"
   ]
  },
  {
   "cell_type": "code",
   "execution_count": 7,
   "metadata": {},
   "outputs": [
    {
     "name": "stdout",
     "output_type": "stream",
     "text": [
      "Nodes 19594 edges 47319\n"
     ]
    }
   ],
   "source": [
    "#network = Network(\"data/edges.shp\")\n",
    "# network = Network('../data/GPS.nosync/sonoma/edges.shp')\n",
    "# print \"Nodes {} edges {}\".format(network.get_node_count(),network.get_edge_count())\n",
    "# print(network)\n",
    "# graph = NetworkGraph(network)\n",
    "network = Network(\"../data/GPS.nosync/sonoma/edges.shp\",\"fid\", \"u\", \"v\")\n",
    "print \"Nodes {} edges {}\".format(network.get_node_count(),network.get_edge_count())\n",
    "graph = NetworkGraph(network)"
   ]
  },
  {
   "cell_type": "markdown",
   "metadata": {},
   "source": [
    "### Precompute an UBODT file\n",
    "\n",
    "**This step can be skipped if you already created one UBODT file.**"
   ]
  },
  {
   "cell_type": "code",
   "execution_count": 8,
   "metadata": {},
   "outputs": [],
   "source": [
    "ubodt_gen = UBODTGenAlgorithm(network,graph)"
   ]
  },
  {
   "cell_type": "code",
   "execution_count": 6,
   "metadata": {},
   "outputs": [
    {
     "name": "stdout",
     "output_type": "stream",
     "text": [
      "Status: success\n",
      "Time takes 1965.51 seconds\n",
      "\n"
     ]
    }
   ],
   "source": [
    "#status = ubodt_gen.generate_ubodt(\"../data/GPS.nosync/_street_nodes_dual.txt\", 4, binary=False, use_omp=True)\n",
    "#print status"
   ]
  },
  {
   "cell_type": "markdown",
   "metadata": {},
   "source": [
    "### Load UBODT data"
   ]
  },
  {
   "cell_type": "code",
   "execution_count": 9,
   "metadata": {},
   "outputs": [],
   "source": [
    "ubodt = UBODT.read_ubodt_csv(\"../data/GPS.nosync/sonoma/ubodt.txt\")"
   ]
  },
  {
   "cell_type": "markdown",
   "metadata": {},
   "source": [
    "### Create FMM model"
   ]
  },
  {
   "cell_type": "code",
   "execution_count": 10,
   "metadata": {},
   "outputs": [],
   "source": [
    "model = FastMapMatch(network,graph,ubodt)"
   ]
  },
  {
   "cell_type": "markdown",
   "metadata": {},
   "source": [
    "### Define FMM configuration"
   ]
  },
  {
   "cell_type": "code",
   "execution_count": 11,
   "metadata": {},
   "outputs": [],
   "source": [
    "# k = 50\n",
    "# radius = 100\n",
    "# gps_error = 50\n",
    "# k = 64\n",
    "# radius = 10\n",
    "# gps_error = 50\n",
    "k = 30\n",
    "radius = 2\n",
    "gps_error = 2\n",
    "fmm_config = FastMapMatchConfig(k,radius,gps_error)"
   ]
  },
  {
   "cell_type": "markdown",
   "metadata": {},
   "source": [
    "### Run map matching"
   ]
  },
  {
   "cell_type": "markdown",
   "metadata": {},
   "source": [
    "#### Match a single trajectory"
   ]
  },
  {
   "cell_type": "code",
   "execution_count": 13,
   "metadata": {},
   "outputs": [],
   "source": [
    "wkt = \"LINESTRING(0.200812146892656 2.14088983050848,1.44262005649717 2.14879943502825,3.06408898305084 2.16066384180791,3.06408898305084 2.7103813559322,3.70872175141242 2.97930790960452,4.11606638418078 2.62337570621469)\""
   ]
  },
  {
   "cell_type": "code",
   "execution_count": 12,
   "metadata": {},
   "outputs": [],
   "source": [
    "def get_sub_result(input_path, output_path, index):\n",
    "  input_source = input_path + str(index) + '-points.txt'\n",
    "  out_dir = output_path + 'sub-result-' + str(index)\n",
    "  if (os.path.isfile(input_source)) & (not os.path.isdir(out_dir)):\n",
    "    wkt = getPoints(input_source)\n",
    "    result = model.match_wkt(wkt,fmm_config)\n",
    "    if len(list(result.cpath)) > 0:\n",
    "      #dir = output_path + 'sub-result-' + str(index)\n",
    "      os.mkdir(out_dir)\n",
    "      output_base = out_dir + '/' + str(index)\n",
    "      save_results(output_base,str(list(result.cpath)), str(list(result.opath)),str(list(result.indices)),result.mgeom.export_wkt(),result.pgeom.export_wkt())\n",
    "      print('index %d sucess!' % index)\n",
    "    else:\n",
    "      print('index %d failed!' % index)\n",
    "    return result\n",
    "\n"
   ]
  },
  {
   "cell_type": "code",
   "execution_count": 13,
   "metadata": {},
   "outputs": [],
   "source": [
    "RATIO = 2.23693629"
   ]
  },
  {
   "cell_type": "code",
   "execution_count": 125,
   "metadata": {},
   "outputs": [],
   "source": [
    "def get_sub_result_from_df(df, output_path, index, start_time, end_time, mode, min_count, max_count):\n",
    "  print(int(df.loc[index]['count']))\n",
    "  if ((int(df.loc[index]['count']) >= min_count) & (int(df.loc[index]['count']) <= max_count)):\n",
    "    flag = False\n",
    "    if mode == 0:\n",
    "      flag = (bool(df.loc[index]['is_process']) == False) & (bool(df.loc[index]['is_success']) == False)\n",
    "    if mode == 1:\n",
    "      flag = (bool(df.loc[index]['is_process']) == True) & (bool(df.loc[index]['is_success']) == False)\n",
    "    if mode == 2:\n",
    "      flag = True\n",
    "    if mode == 3:\n",
    "      flag = (bool(df.loc[index]['is_process']) == False) & (bool(df.loc[index]['is_success']) == False) & (pd.Timestamp(df.loc[index]['start_time']) >= start_time) & (pd.Timestamp(df.loc[index]['end_time']) < end_time)\n",
    "    if mode == 4:\n",
    "      flag = (bool(df.loc[index]['is_process']) == True) & (bool(df.loc[index]['is_success']) == False) & (pd.Timestamp(df.loc[index]['start_time']) >= start_time) & (pd.Timestamp(df.loc[index]['end_time']) < end_time)\n",
    "    if mode == 5:\n",
    "      flag = (pd.Timestamp(df.loc[index]['start_time']) >= start_time) & (pd.Timestamp(df.loc[index]['end_time']) < end_time)\n",
    "    if flag:\n",
    "      #df.loc[index]['is_process'] = True\n",
    "      df.at[index,'is_process'] = True\n",
    "      wkt = df.loc[index]['res']\n",
    "      result = model.match_wkt(wkt,fmm_config)\n",
    "      if len(list(result.cpath)) > 1:\n",
    "        #dir = output_path + 'sub-result-' + str(index)\n",
    "        n = len(result.candidates)\n",
    "        distance = []\n",
    "        for i in range(1, n):\n",
    "          distance.append(result.candidates[i].spdist * 110000)\n",
    "        df.at[index,'is_speed_calculated'] = False\n",
    "        df.at[index,'distance'] = distance\n",
    "        df.at[index,'mgeom'] = result.mgeom.export_wkt()\n",
    "        df.at[index,'pgeom'] = result.pgeom.export_wkt()\n",
    "        df.at[index, 'indices'] = list(result.indices)\n",
    "        #df.at[index, 'indices'] = np.array(result.indices,dtype=int)\n",
    "        df.at[index, 'cpath'] = list(result.cpath)\n",
    "        if n == int(df.loc[index]['count']):\n",
    "          print('Calculating speeds!')\n",
    "          speeds = [i / j * RATIO for i, j in zip(distance, ast.literal_eval(df.loc[index]['time']))]\n",
    "          df.at[index, 'speed'] = speeds\n",
    "          df.at[index,'is_speed_calculated'] = True\n",
    "        else:\n",
    "          print('The counts no matching!')\n",
    "        df.at[index, 'direction'] = [0]\n",
    "        out_dir = output_path + 'sub-result-' + str(index)\n",
    "        os.mkdir(out_dir)\n",
    "        #output_base = out_dir + '/' + str(index)\n",
    "        #save_results(output_base,str(list(result.cpath)), str(list(result.opath)),str(list(result.indices)),result.mgeom.export_wkt(),result.pgeom.export_wkt(),str(distance))\n",
    "        df.at[index,'is_success'] = True\n",
    "        print('index %d success!' % index)\n",
    "        return result\n",
    "      else:\n",
    "        df.at[index,'is_success'] = False\n",
    "        print('index %d failed!' % index)"
   ]
  },
  {
   "cell_type": "code",
   "execution_count": 21,
   "metadata": {},
   "outputs": [
    {
     "data": {
      "text/plain": [
       "'[1, 2, 3, 4]'"
      ]
     },
     "execution_count": 21,
     "metadata": {},
     "output_type": "execute_result"
    }
   ],
   "source": [
    "res = [1, 2, 3, 4]\n",
    "str(res)"
   ]
  },
  {
   "cell_type": "code",
   "execution_count": null,
   "metadata": {},
   "outputs": [],
   "source": [
    "df = pd.read_csv('../data/GPS.nosync/Sonoma-2631-new-points/out3.csv')\n",
    "n = len(df)\n"
   ]
  },
  {
   "cell_type": "code",
   "execution_count": 107,
   "metadata": {},
   "outputs": [],
   "source": [
    "# df['cpath'] = [[0]] * n\n",
    "# df['indices'] = [[0]] * n\n",
    "# df['direction'] = [[0]] * n\n",
    "# df['speed'] = [[0]] * n\n",
    "# df['distance'] = [[0]] * n\n",
    "# df['direction'] = [[0]] * n\n",
    "# df['indices'] = df['indices'].astype(object)\n",
    "# df['cpath'] = df['cpath'].astype(object)"
   ]
  },
  {
   "cell_type": "code",
   "execution_count": null,
   "metadata": {},
   "outputs": [],
   "source": [
    "for index in [8365, 9778, 11242]:\n",
    "  get_sub_result_from_df(df, '../data/GPS.nosync/output/', index,0, 0, 2, 10, 10000)"
   ]
  },
  {
   "cell_type": "code",
   "execution_count": null,
   "metadata": {},
   "outputs": [],
   "source": [
    "t1 = pd.Timestamp(year = 2019,  month = 10, day = 25,\n",
    "           hour = 21, minute = 59, second = 59, tz = 'US/Pacific')\n",
    "t2 = pd.Timestamp(year = 2019,  month = 10, day = 26,\n",
    "           hour = 6, minute = 0, second = 0, tz = 'US/Pacific')\n",
    "t3 = pd.Timestamp(year = 2019,  month = 10, day = 26,\n",
    "           hour = 12, minute = 0, second = 0, tz = 'US/Pacific')\n",
    "t4 = pd.Timestamp(year = 2019,  month = 10, day = 26,\n",
    "           hour = 21, minute = 59, second = 59, tz = 'US/Pacific')\n",
    "t5 = pd.Timestamp(year = 2019,  month = 10, day = 27,\n",
    "           hour = 6, minute = 0, second = 0, tz = 'US/Pacific')\n",
    "t6 = pd.Timestamp(year = 2019,  month = 10, day = 27,\n",
    "           hour = 12, minute = 0, second = 0, tz = 'US/Pacific')\n",
    "t7 = pd.Timestamp(year = 2019,  month = 10, day = 27,\n",
    "           hour = 21, minute = 59, second = 59, tz = 'US/Pacific')\n",
    "t8 = pd.Timestamp(year = 2019,  month = 10, day = 28,\n",
    "           hour = 6, minute = 0, second = 0, tz = 'US/Pacific')\n",
    "n = len(df) \n",
    "for index in range(1, n - 1):\n",
    "  get_sub_result_from_df(df, '../data/GPS.nosync/output/26-06-26-12/', index,t2, t3, 5, 5, 10000000)\n",
    "# for index in range(1, n - 1):\n",
    "#   get_sub_result_from_df(df, '../data/GPS.nosync/output/26-12-26-22/', index,t3, t4, 5, 5, 10000000)\n",
    "# for index in range(1, n - 1):\n",
    "#   get_sub_result_from_df(df, '../data/GPS.nosync/output/26-22-27-06/', index,t4, t5, 5, 5, 10000000)\n",
    "# for index in range(1, n - 1):\n",
    "#   get_sub_result_from_df(df, '../data/GPS.nosync/output/27-06-27-12/', index,t5, t6, 5, 5, 10000000)\n",
    "# for index in range(1, n - 1):\n",
    "#   get_sub_result_from_df(df, '../data/GPS.nosync/output/27-12-27-22/', index,t6, t7, 5, 5, 10000000)\n"
   ]
  },
  {
   "cell_type": "code",
   "execution_count": null,
   "metadata": {},
   "outputs": [],
   "source": []
  },
  {
   "cell_type": "code",
   "execution_count": null,
   "metadata": {},
   "outputs": [],
   "source": [
    "for index in range(500, n):\n",
    "  get_sub_result_from_df(df, '../data/GPS.nosync/output/', index, 0, 0, 2, 10, 10000)"
   ]
  },
  {
   "cell_type": "code",
   "execution_count": 144,
   "metadata": {},
   "outputs": [],
   "source": [
    "for i in range(0, n):\n",
    "    if len(df.loc[i]['speed']) > 1:\n",
    "        df.at[i,'is_speed_calculated'] = True"
   ]
  },
  {
   "cell_type": "code",
   "execution_count": 145,
   "metadata": {},
   "outputs": [
    {
     "data": {
      "text/plain": [
       "11884"
      ]
     },
     "execution_count": 145,
     "metadata": {},
     "output_type": "execute_result"
    }
   ],
   "source": [
    "df_s = df[df['is_speed_calculated'] == True]\n",
    "len(df_s)"
   ]
  },
  {
   "cell_type": "code",
   "execution_count": 155,
   "metadata": {},
   "outputs": [
    {
     "data": {
      "text/plain": [
       "Unnamed: 0                                                             1\n",
       "index                                                                  1\n",
       "caid                   000240069cae6c8106ed10b34ac23e734f7e156a9e170d...\n",
       "start_time                                     2019-10-27 03:20:17-07:00\n",
       "end_time                                       2019-10-27 12:04:15-07:00\n",
       "count                                                                 61\n",
       "is_process                                                          True\n",
       "is_success                                                          True\n",
       "res                    LINESTRING(-122.70838 38.347546,-122.70817 38....\n",
       "time                   [23.0, 11.0, 35.0, 21.0, 2.0, 38.0, 50.0, 27.0...\n",
       "distance               [1.62712969297, 90.8758931912, 0.0, 0.0, 0.0, ...\n",
       "speed                  [0.158251541684, 18.4803257605, 0.0, 0.0, 0.0,...\n",
       "direction                                                            [0]\n",
       "cpath                  [22615, 26161, 13262, 288, 291, 21455, 285, 13...\n",
       "indices                [0, 0, 1, 1, 1, 1, 1, 1, 1, 1, 1, 1, 1, 1, 1, ...\n",
       "is_speed_calculated                                                 True\n",
       "mgeom                  LINESTRING(-122.70952 38.347518,-122.70952 38....\n",
       "pgeom                  LINESTRING(-122.70952 38.347518,-122.70952 38....\n",
       "Name: 1, dtype: object"
      ]
     },
     "execution_count": 155,
     "metadata": {},
     "output_type": "execute_result"
    }
   ],
   "source": [
    "df_s.iloc[0]"
   ]
  },
  {
   "cell_type": "code",
   "execution_count": 156,
   "metadata": {},
   "outputs": [
    {
     "name": "stdout",
     "output_type": "stream",
     "text": [
      "Speeds size: 60, indices size: 61\n",
      "Speeds size: 193, indices size: 194\n",
      "Speeds size: 82, indices size: 83\n",
      "Speeds size: 9, indices size: 10\n",
      "Speeds size: 334, indices size: 335\n",
      "Speeds size: 125, indices size: 126\n",
      "Speeds size: 905, indices size: 906\n",
      "Speeds size: 1245, indices size: 1246\n",
      "Speeds size: 10, indices size: 11\n",
      "Speeds size: 442, indices size: 443\n",
      "Speeds size: 888, indices size: 889\n",
      "Speeds size: 15, indices size: 16\n",
      "Speeds size: 145, indices size: 146\n",
      "Speeds size: 212, indices size: 213\n",
      "Speeds size: 908, indices size: 909\n",
      "Speeds size: 657, indices size: 658\n",
      "Speeds size: 34, indices size: 35\n",
      "Speeds size: 378, indices size: 379\n",
      "Speeds size: 303, indices size: 304\n",
      "Speeds size: 865, indices size: 866\n",
      "Speeds size: 310, indices size: 311\n",
      "Speeds size: 13, indices size: 14\n",
      "Speeds size: 897, indices size: 898\n",
      "Speeds size: 121, indices size: 122\n",
      "Speeds size: 848, indices size: 849\n",
      "Speeds size: 107, indices size: 108\n",
      "Speeds size: 24, indices size: 25\n",
      "Speeds size: 189, indices size: 190\n",
      "Speeds size: 18, indices size: 19\n",
      "Speeds size: 30, indices size: 31\n",
      "Speeds size: 83, indices size: 84\n",
      "Speeds size: 253, indices size: 254\n",
      "Speeds size: 1007, indices size: 1008\n",
      "Speeds size: 10, indices size: 11\n",
      "Speeds size: 63, indices size: 64\n",
      "Speeds size: 303, indices size: 304\n",
      "Speeds size: 93, indices size: 94\n",
      "Speeds size: 378, indices size: 379\n",
      "Speeds size: 122, indices size: 123\n",
      "Speeds size: 98, indices size: 99\n",
      "Speeds size: 31, indices size: 32\n",
      "Speeds size: 59, indices size: 60\n",
      "Speeds size: 141, indices size: 142\n",
      "Speeds size: 430, indices size: 431\n",
      "Speeds size: 15, indices size: 16\n",
      "Speeds size: 1981, indices size: 1982\n",
      "Speeds size: 538, indices size: 539\n",
      "Speeds size: 168, indices size: 169\n",
      "Speeds size: 676, indices size: 677\n",
      "Speeds size: 471, indices size: 472\n",
      "Speeds size: 70, indices size: 71\n",
      "Speeds size: 1348, indices size: 1349\n",
      "Speeds size: 688, indices size: 689\n",
      "Speeds size: 31, indices size: 32\n",
      "Speeds size: 247, indices size: 248\n",
      "Speeds size: 137, indices size: 138\n",
      "Speeds size: 560, indices size: 561\n",
      "Speeds size: 387, indices size: 388\n",
      "Speeds size: 26, indices size: 27\n",
      "Speeds size: 718, indices size: 719\n",
      "Speeds size: 543, indices size: 544\n",
      "Speeds size: 535, indices size: 536\n",
      "Speeds size: 369, indices size: 370\n",
      "Speeds size: 601, indices size: 602\n",
      "Speeds size: 38, indices size: 39\n",
      "Speeds size: 10, indices size: 11\n",
      "Speeds size: 644, indices size: 645\n",
      "Speeds size: 470, indices size: 471\n",
      "Speeds size: 467, indices size: 468\n",
      "Speeds size: 20, indices size: 21\n",
      "Speeds size: 106, indices size: 107\n",
      "Speeds size: 222, indices size: 223\n",
      "Speeds size: 2871, indices size: 2872\n",
      "Speeds size: 1472, indices size: 1473\n",
      "Speeds size: 24, indices size: 25\n",
      "Speeds size: 14, indices size: 15\n",
      "Speeds size: 31, indices size: 32\n",
      "Speeds size: 29, indices size: 30\n",
      "Speeds size: 787, indices size: 788\n",
      "Speeds size: 3336, indices size: 3337\n",
      "Speeds size: 69, indices size: 70\n",
      "Speeds size: 477, indices size: 478\n",
      "Speeds size: 638, indices size: 639\n",
      "Speeds size: 17, indices size: 18\n",
      "Speeds size: 772, indices size: 773\n",
      "Speeds size: 108, indices size: 109\n",
      "Speeds size: 366, indices size: 367\n",
      "Speeds size: 26, indices size: 27\n",
      "Speeds size: 514, indices size: 515\n",
      "Speeds size: 464, indices size: 465\n",
      "Speeds size: 97, indices size: 98\n",
      "Speeds size: 969, indices size: 970\n",
      "Speeds size: 272, indices size: 273\n",
      "Speeds size: 1369, indices size: 1370\n",
      "Speeds size: 223, indices size: 224\n",
      "Speeds size: 1331, indices size: 1332\n",
      "Speeds size: 9, indices size: 10\n",
      "Speeds size: 138, indices size: 139\n",
      "Speeds size: 57, indices size: 58\n",
      "Speeds size: 815, indices size: 816\n",
      "Speeds size: 94, indices size: 95\n",
      "Speeds size: 18, indices size: 19\n",
      "Speeds size: 927, indices size: 928\n",
      "Speeds size: 55, indices size: 56\n",
      "Speeds size: 58, indices size: 59\n",
      "Speeds size: 794, indices size: 795\n",
      "Speeds size: 96, indices size: 97\n",
      "Speeds size: 10, indices size: 11\n",
      "Speeds size: 11, indices size: 12\n",
      "Speeds size: 28, indices size: 29\n",
      "Speeds size: 144, indices size: 145\n",
      "Speeds size: 760, indices size: 761\n",
      "Speeds size: 72, indices size: 73\n",
      "Speeds size: 324, indices size: 325\n",
      "Speeds size: 1209, indices size: 1210\n",
      "Speeds size: 437, indices size: 438\n",
      "Speeds size: 214, indices size: 215\n",
      "Speeds size: 561, indices size: 562\n",
      "Speeds size: 141, indices size: 142\n",
      "Speeds size: 51, indices size: 52\n",
      "Speeds size: 34, indices size: 35\n",
      "Speeds size: 29, indices size: 30\n",
      "Speeds size: 334, indices size: 335\n",
      "Speeds size: 200, indices size: 201\n",
      "Speeds size: 240, indices size: 241\n",
      "Speeds size: 862, indices size: 863\n",
      "Speeds size: 29, indices size: 30\n",
      "Speeds size: 16, indices size: 17\n",
      "Speeds size: 30, indices size: 31\n",
      "Speeds size: 144, indices size: 145\n",
      "Speeds size: 938, indices size: 939\n",
      "Speeds size: 139, indices size: 140\n",
      "Speeds size: 107, indices size: 108\n",
      "Speeds size: 346, indices size: 347\n",
      "Speeds size: 319, indices size: 320\n",
      "Speeds size: 13, indices size: 14\n",
      "Speeds size: 897, indices size: 898\n",
      "Speeds size: 1387, indices size: 1388\n",
      "Speeds size: 240, indices size: 241\n",
      "Speeds size: 979, indices size: 980\n",
      "Speeds size: 46, indices size: 47\n",
      "Speeds size: 194, indices size: 195\n",
      "Speeds size: 134, indices size: 135\n",
      "Speeds size: 16, indices size: 17\n",
      "Speeds size: 24, indices size: 25\n",
      "Speeds size: 435, indices size: 436\n",
      "Speeds size: 429, indices size: 430\n",
      "Speeds size: 13, indices size: 14\n",
      "Speeds size: 357, indices size: 358\n",
      "Speeds size: 541, indices size: 542\n",
      "Speeds size: 636, indices size: 637\n",
      "Speeds size: 20, indices size: 21\n",
      "Speeds size: 19, indices size: 20\n",
      "Speeds size: 518, indices size: 519\n",
      "Speeds size: 45, indices size: 46\n",
      "Speeds size: 26, indices size: 27\n",
      "Speeds size: 22, indices size: 23\n",
      "Speeds size: 534, indices size: 535\n",
      "Speeds size: 350, indices size: 351\n",
      "Speeds size: 631, indices size: 632\n",
      "Speeds size: 183, indices size: 184\n",
      "Speeds size: 12, indices size: 13\n",
      "Speeds size: 50, indices size: 51\n",
      "Speeds size: 132, indices size: 133\n",
      "Speeds size: 128, indices size: 129\n",
      "Speeds size: 107, indices size: 108\n",
      "Speeds size: 482, indices size: 483\n",
      "Speeds size: 51, indices size: 52\n",
      "Speeds size: 19, indices size: 20\n",
      "Speeds size: 19, indices size: 20\n",
      "Speeds size: 16, indices size: 17\n",
      "Speeds size: 60, indices size: 61\n",
      "Speeds size: 449, indices size: 450\n",
      "Speeds size: 9, indices size: 10\n",
      "Speeds size: 12, indices size: 13\n",
      "Speeds size: 320, indices size: 321\n",
      "Speeds size: 630, indices size: 631\n",
      "Speeds size: 49, indices size: 50\n",
      "Speeds size: 791, indices size: 792\n",
      "Speeds size: 51, indices size: 52\n",
      "Speeds size: 193, indices size: 194\n",
      "Speeds size: 9, indices size: 10\n",
      "Speeds size: 1287, indices size: 1288\n",
      "Speeds size: 91, indices size: 92\n",
      "Speeds size: 2797, indices size: 2798\n",
      "Speeds size: 85, indices size: 86\n",
      "Speeds size: 220, indices size: 221\n",
      "Speeds size: 19, indices size: 20\n",
      "Speeds size: 45, indices size: 46\n",
      "Speeds size: 657, indices size: 658\n",
      "Speeds size: 344, indices size: 345\n",
      "Speeds size: 9, indices size: 10\n",
      "Speeds size: 11, indices size: 12\n",
      "Speeds size: 9, indices size: 10\n",
      "Speeds size: 887, indices size: 888\n",
      "Speeds size: 24, indices size: 25\n",
      "Speeds size: 1545, indices size: 1546\n",
      "Speeds size: 2273, indices size: 2274\n",
      "Speeds size: 132, indices size: 133\n",
      "Speeds size: 123, indices size: 124\n",
      "Speeds size: 83, indices size: 84\n",
      "Speeds size: 19, indices size: 20\n",
      "Speeds size: 688, indices size: 689\n",
      "Speeds size: 136, indices size: 137\n",
      "Speeds size: 113, indices size: 114\n",
      "Speeds size: 354, indices size: 355\n",
      "Speeds size: 64, indices size: 65\n",
      "Speeds size: 709, indices size: 710\n",
      "Speeds size: 68, indices size: 69\n",
      "Speeds size: 15, indices size: 16\n",
      "Speeds size: 406, indices size: 407\n",
      "Speeds size: 476, indices size: 477\n",
      "Speeds size: 426, indices size: 427\n",
      "Speeds size: 154, indices size: 155\n",
      "Speeds size: 523, indices size: 524\n",
      "Speeds size: 227, indices size: 228\n",
      "Speeds size: 325, indices size: 326\n",
      "Speeds size: 24, indices size: 25\n",
      "Speeds size: 18, indices size: 19\n",
      "Speeds size: 258, indices size: 259\n",
      "Speeds size: 60, indices size: 61\n",
      "Speeds size: 343, indices size: 344\n",
      "Speeds size: 490, indices size: 491\n",
      "Speeds size: 203, indices size: 204\n",
      "Speeds size: 179, indices size: 180\n",
      "Speeds size: 112, indices size: 113\n",
      "Speeds size: 211, indices size: 212\n",
      "Speeds size: 597, indices size: 598\n",
      "Speeds size: 32, indices size: 33\n",
      "Speeds size: 779, indices size: 780\n",
      "Speeds size: 16, indices size: 17\n",
      "Speeds size: 214, indices size: 215\n",
      "Speeds size: 46, indices size: 47\n",
      "Speeds size: 17, indices size: 18\n",
      "Speeds size: 516, indices size: 517\n",
      "Speeds size: 151, indices size: 152\n",
      "Speeds size: 1212, indices size: 1213\n",
      "Speeds size: 21, indices size: 22\n",
      "Speeds size: 67, indices size: 68\n",
      "Speeds size: 461, indices size: 462\n",
      "Speeds size: 66, indices size: 67\n",
      "Speeds size: 15, indices size: 16\n",
      "Speeds size: 739, indices size: 740\n",
      "Speeds size: 22, indices size: 23\n",
      "Speeds size: 257, indices size: 258\n",
      "Speeds size: 178, indices size: 179\n",
      "Speeds size: 34, indices size: 35\n",
      "Speeds size: 76, indices size: 77\n",
      "Speeds size: 838, indices size: 839\n",
      "Speeds size: 140, indices size: 141\n",
      "Speeds size: 298, indices size: 299\n",
      "Speeds size: 383, indices size: 384\n",
      "Speeds size: 99, indices size: 100\n",
      "Speeds size: 142, indices size: 143\n",
      "Speeds size: 181, indices size: 182\n",
      "Speeds size: 16, indices size: 17\n",
      "Speeds size: 192, indices size: 193\n",
      "Speeds size: 34, indices size: 35\n",
      "Speeds size: 2146, indices size: 2147\n",
      "Speeds size: 485, indices size: 486\n",
      "Speeds size: 69, indices size: 70\n",
      "Speeds size: 471, indices size: 472\n",
      "Speeds size: 561, indices size: 562\n",
      "Speeds size: 14, indices size: 15\n",
      "Speeds size: 17, indices size: 18\n",
      "Speeds size: 159, indices size: 160\n",
      "Speeds size: 378, indices size: 379\n",
      "Speeds size: 16, indices size: 17\n",
      "Speeds size: 243, indices size: 244\n",
      "Speeds size: 352, indices size: 353\n",
      "Speeds size: 36, indices size: 37\n",
      "Speeds size: 40, indices size: 41\n",
      "Speeds size: 108, indices size: 109\n",
      "Speeds size: 73, indices size: 74\n",
      "Speeds size: 254, indices size: 255\n",
      "Speeds size: 88, indices size: 89\n",
      "Speeds size: 10, indices size: 11\n",
      "Speeds size: 518, indices size: 519\n",
      "Speeds size: 6517, indices size: 6518\n",
      "Speeds size: 39, indices size: 40\n",
      "Speeds size: 287, indices size: 288\n",
      "Speeds size: 365, indices size: 366\n",
      "Speeds size: 158, indices size: 159\n",
      "Speeds size: 13, indices size: 14\n",
      "Speeds size: 106, indices size: 107\n",
      "Speeds size: 91, indices size: 92\n",
      "Speeds size: 12, indices size: 13\n",
      "Speeds size: 351, indices size: 352\n",
      "Speeds size: 9, indices size: 10\n",
      "Speeds size: 19, indices size: 20\n",
      "Speeds size: 681, indices size: 682\n",
      "Speeds size: 11, indices size: 12\n",
      "Speeds size: 447, indices size: 448\n",
      "Speeds size: 29, indices size: 30\n",
      "Speeds size: 504, indices size: 505\n",
      "Speeds size: 15, indices size: 16\n",
      "Speeds size: 58, indices size: 59\n",
      "Speeds size: 580, indices size: 581\n",
      "Speeds size: 469, indices size: 470\n",
      "Speeds size: 279, indices size: 280\n",
      "Speeds size: 972, indices size: 973\n",
      "Speeds size: 578, indices size: 579\n",
      "Speeds size: 102, indices size: 103\n",
      "Speeds size: 73, indices size: 74\n",
      "Speeds size: 56, indices size: 57\n",
      "Speeds size: 135, indices size: 136\n",
      "Speeds size: 82, indices size: 83\n",
      "Speeds size: 15, indices size: 16\n",
      "Speeds size: 316, indices size: 317\n",
      "Speeds size: 165, indices size: 166\n",
      "Speeds size: 365, indices size: 366\n",
      "Speeds size: 182, indices size: 183\n",
      "Speeds size: 522, indices size: 523\n",
      "Speeds size: 1532, indices size: 1533\n",
      "Speeds size: 12, indices size: 13\n",
      "Speeds size: 55, indices size: 56\n",
      "Speeds size: 775, indices size: 776\n",
      "Speeds size: 140, indices size: 141\n",
      "Speeds size: 170, indices size: 171\n",
      "Speeds size: 53, indices size: 54\n",
      "Speeds size: 499, indices size: 500\n",
      "Speeds size: 172, indices size: 173\n",
      "Speeds size: 796, indices size: 797\n",
      "Speeds size: 51, indices size: 52\n",
      "Speeds size: 14, indices size: 15\n",
      "Speeds size: 156, indices size: 157\n",
      "Speeds size: 367, indices size: 368\n",
      "Speeds size: 108, indices size: 109\n",
      "Speeds size: 1090, indices size: 1091\n",
      "Speeds size: 70, indices size: 71\n",
      "Speeds size: 30, indices size: 31\n",
      "Speeds size: 21, indices size: 22\n",
      "Speeds size: 85, indices size: 86\n",
      "Speeds size: 744, indices size: 745\n",
      "Speeds size: 21, indices size: 22\n",
      "Speeds size: 788, indices size: 789\n",
      "Speeds size: 105, indices size: 106\n",
      "Speeds size: 87, indices size: 88\n",
      "Speeds size: 29, indices size: 30\n",
      "Speeds size: 699, indices size: 700\n",
      "Speeds size: 989, indices size: 990\n",
      "Speeds size: 63, indices size: 64\n",
      "Speeds size: 3964, indices size: 3965\n",
      "Speeds size: 35, indices size: 36\n",
      "Speeds size: 14, indices size: 15\n",
      "Speeds size: 16, indices size: 17\n",
      "Speeds size: 184, indices size: 185\n",
      "Speeds size: 118, indices size: 119\n",
      "Speeds size: 1799, indices size: 1800\n",
      "Speeds size: 18, indices size: 19\n",
      "Speeds size: 716, indices size: 717\n",
      "Speeds size: 1054, indices size: 1055\n",
      "Speeds size: 16, indices size: 17\n",
      "Speeds size: 1093, indices size: 1094\n",
      "Speeds size: 252, indices size: 253\n",
      "Speeds size: 972, indices size: 973\n",
      "Speeds size: 212, indices size: 213\n",
      "Speeds size: 288, indices size: 289\n",
      "Speeds size: 18, indices size: 19\n",
      "Speeds size: 120, indices size: 121\n",
      "Speeds size: 22, indices size: 23\n",
      "Speeds size: 730, indices size: 731\n",
      "Speeds size: 2186, indices size: 2187\n",
      "Speeds size: 43, indices size: 44\n",
      "Speeds size: 360, indices size: 361\n",
      "Speeds size: 13, indices size: 14\n",
      "Speeds size: 137, indices size: 138\n",
      "Speeds size: 217, indices size: 218\n",
      "Speeds size: 547, indices size: 548\n",
      "Speeds size: 457, indices size: 458\n",
      "Speeds size: 426, indices size: 427\n",
      "Speeds size: 15, indices size: 16\n",
      "Speeds size: 180, indices size: 181\n",
      "Speeds size: 559, indices size: 560\n",
      "Speeds size: 96, indices size: 97\n",
      "Speeds size: 171, indices size: 172\n",
      "Speeds size: 10, indices size: 11\n",
      "Speeds size: 12, indices size: 13\n",
      "Speeds size: 29, indices size: 30\n",
      "Speeds size: 447, indices size: 448\n",
      "Speeds size: 888, indices size: 889\n",
      "Speeds size: 479, indices size: 480\n",
      "Speeds size: 25, indices size: 26\n",
      "Speeds size: 94, indices size: 95\n",
      "Speeds size: 6987, indices size: 6988\n",
      "Speeds size: 514, indices size: 515\n",
      "Speeds size: 837, indices size: 838\n",
      "Speeds size: 11, indices size: 12\n",
      "Speeds size: 1224, indices size: 1225\n",
      "Speeds size: 10, indices size: 11\n",
      "Speeds size: 26, indices size: 27\n",
      "Speeds size: 1479, indices size: 1480\n",
      "Speeds size: 1360, indices size: 1361\n",
      "Speeds size: 105, indices size: 106\n",
      "Speeds size: 246, indices size: 247\n",
      "Speeds size: 651, indices size: 652\n",
      "Speeds size: 426, indices size: 427\n",
      "Speeds size: 744, indices size: 745\n",
      "Speeds size: 9, indices size: 10\n",
      "Speeds size: 190, indices size: 191\n",
      "Speeds size: 116, indices size: 117\n",
      "Speeds size: 23, indices size: 24\n",
      "Speeds size: 18, indices size: 19\n",
      "Speeds size: 50, indices size: 51\n",
      "Speeds size: 222, indices size: 223\n",
      "Speeds size: 65, indices size: 66\n",
      "Speeds size: 970, indices size: 971\n",
      "Speeds size: 74, indices size: 75\n",
      "Speeds size: 1170, indices size: 1171\n",
      "Speeds size: 9, indices size: 10\n",
      "Speeds size: 195, indices size: 196\n",
      "Speeds size: 374, indices size: 375\n",
      "Speeds size: 307, indices size: 308\n",
      "Speeds size: 74, indices size: 75\n",
      "Speeds size: 181, indices size: 182\n",
      "Speeds size: 970, indices size: 971\n",
      "Speeds size: 57, indices size: 58\n",
      "Speeds size: 1311, indices size: 1312\n",
      "Speeds size: 395, indices size: 396\n",
      "Speeds size: 60, indices size: 61\n",
      "Speeds size: 703, indices size: 704\n",
      "Speeds size: 1653, indices size: 1654\n",
      "Speeds size: 779, indices size: 780\n",
      "Speeds size: 55, indices size: 56\n",
      "Speeds size: 106, indices size: 107\n",
      "Speeds size: 91, indices size: 92\n",
      "Speeds size: 627, indices size: 628\n",
      "Speeds size: 1392, indices size: 1393\n",
      "Speeds size: 163, indices size: 164\n",
      "Speeds size: 23, indices size: 24\n",
      "Speeds size: 29, indices size: 30\n",
      "Speeds size: 14, indices size: 15\n",
      "Speeds size: 291, indices size: 292\n",
      "Speeds size: 98, indices size: 99\n",
      "Speeds size: 526, indices size: 527\n",
      "Speeds size: 598, indices size: 599\n",
      "Speeds size: 33, indices size: 34\n",
      "Speeds size: 111, indices size: 112\n",
      "Speeds size: 12, indices size: 13\n",
      "Speeds size: 16, indices size: 17\n",
      "Speeds size: 49, indices size: 50\n",
      "Speeds size: 2298, indices size: 2299\n",
      "Speeds size: 10, indices size: 11\n",
      "Speeds size: 387, indices size: 388\n",
      "Speeds size: 475, indices size: 476\n",
      "Speeds size: 578, indices size: 579\n",
      "Speeds size: 93, indices size: 94\n",
      "Speeds size: 604, indices size: 605\n",
      "Speeds size: 124, indices size: 125\n",
      "Speeds size: 25, indices size: 26\n",
      "Speeds size: 381, indices size: 382\n",
      "Speeds size: 695, indices size: 696\n",
      "Speeds size: 20, indices size: 21\n",
      "Speeds size: 26, indices size: 27\n",
      "Speeds size: 699, indices size: 700\n",
      "Speeds size: 283, indices size: 284\n",
      "Speeds size: 306, indices size: 307\n",
      "Speeds size: 99, indices size: 100\n",
      "Speeds size: 1096, indices size: 1097\n",
      "Speeds size: 349, indices size: 350\n",
      "Speeds size: 66, indices size: 67\n",
      "Speeds size: 18, indices size: 19\n",
      "Speeds size: 14, indices size: 15\n",
      "Speeds size: 50, indices size: 51\n",
      "Speeds size: 490, indices size: 491\n",
      "Speeds size: 587, indices size: 588\n",
      "Speeds size: 125, indices size: 126\n",
      "Speeds size: 1025, indices size: 1026\n",
      "Speeds size: 192, indices size: 193\n",
      "Speeds size: 225, indices size: 226\n",
      "Speeds size: 1018, indices size: 1019\n",
      "Speeds size: 278, indices size: 279\n",
      "Speeds size: 225, indices size: 226\n",
      "Speeds size: 230, indices size: 231\n",
      "Speeds size: 83, indices size: 84\n",
      "Speeds size: 1159, indices size: 1160\n",
      "Speeds size: 11, indices size: 12\n",
      "Speeds size: 994, indices size: 995\n",
      "Speeds size: 896, indices size: 897\n",
      "Speeds size: 10, indices size: 11\n",
      "Speeds size: 36, indices size: 37\n",
      "Speeds size: 123, indices size: 124\n",
      "Speeds size: 758, indices size: 759\n",
      "Speeds size: 665, indices size: 666\n",
      "Speeds size: 369, indices size: 370\n",
      "Speeds size: 10, indices size: 11\n",
      "Speeds size: 50, indices size: 51\n",
      "Speeds size: 9, indices size: 10\n",
      "Speeds size: 17, indices size: 18\n",
      "Speeds size: 103, indices size: 104\n",
      "Speeds size: 26, indices size: 27\n",
      "Speeds size: 369, indices size: 370\n",
      "Speeds size: 11, indices size: 12\n",
      "Speeds size: 28, indices size: 29\n",
      "Speeds size: 1481, indices size: 1482\n",
      "Speeds size: 696, indices size: 697\n",
      "Speeds size: 32, indices size: 33\n",
      "Speeds size: 903, indices size: 904\n",
      "Speeds size: 166, indices size: 167\n",
      "Speeds size: 385, indices size: 386\n"
     ]
    }
   ],
   "source": [
    "for i in range(0, 500):\n",
    "    \n",
    "    #print(\"Speeds size: %d, indices size: %d\" % (len(df_s.iloc[i]['speed']), len(df_s.iloc[i]['indices'])))"
   ]
  },
  {
   "cell_type": "code",
   "execution_count": 39,
   "metadata": {},
   "outputs": [
    {
     "name": "stdout",
     "output_type": "stream",
     "text": [
      "126\n",
      "Calculating speeds!\n",
      "index 13 success!\n"
     ]
    }
   ],
   "source": [
    "result = get_sub_result_from_df(df, '../data/GPS.nosync/output/', 13,0, 0, 2, 10, 10000)\n",
    "# for index in range(1, n - 1):\n",
    "#print \"Matched path: \", list(result.cpath)\n",
    "#wkt = getPoints('data/GPS.nosync/output/00074014459977889ff22e04d309cbc68fb1720990d2d6a7251eb6c17fbf5f72-points.txt')"
   ]
  },
  {
   "cell_type": "code",
   "execution_count": 146,
   "metadata": {},
   "outputs": [],
   "source": [
    "df.to_csv('../data/GPS.nosync/Sonoma-2631-new-points/speeds_info.csv')"
   ]
  },
  {
   "cell_type": "code",
   "execution_count": null,
   "metadata": {},
   "outputs": [],
   "source": [
    "save_results('data/GPS.nosync/output/0-00074',str(list(result.cpath)), str(list(result.opath)),str(list(result.indices)),result.mgeom.export_wkt(),result.pgeom.export_wkt())"
   ]
  },
  {
   "cell_type": "markdown",
   "metadata": {},
   "source": [
    "##Print detailed match information"
   ]
  },
  {
   "cell_type": "code",
   "execution_count": null,
   "metadata": {},
   "outputs": [],
   "source": [
    "candidates = []\n",
    "for c in result.candidates:\n",
    "    candidates.append((c.edge_id,c.source,c.target,c.error,c.length,c.offset,c.spdist,c.ep,c.tp))"
   ]
  },
  {
   "cell_type": "code",
   "execution_count": null,
   "metadata": {},
   "outputs": [],
   "source": [
    "import pandas as pd\n",
    "df = pd.DataFrame(candidates,\n",
    "                  columns=[\"eid\",\"source\",\"target\",\"error\",\"length\",\"offset\",\"spdist\",\"ep\",\"tp\"])"
   ]
  },
  {
   "cell_type": "code",
   "execution_count": null,
   "metadata": {},
   "outputs": [],
   "source": [
    "df.head()"
   ]
  },
  {
   "cell_type": "markdown",
   "metadata": {},
   "source": [
    "#### Match trajectories in a GPS file"
   ]
  },
  {
   "cell_type": "code",
   "execution_count": null,
   "metadata": {},
   "outputs": [],
   "source": [
    "from fmm import GPSConfig,ResultConfig"
   ]
  },
  {
   "cell_type": "code",
   "execution_count": null,
   "metadata": {},
   "outputs": [],
   "source": [
    "input_config = GPSConfig()\n",
    "input_config.file = \"../data/trips.csv\"\n",
    "input_config.id = \"id\""
   ]
  },
  {
   "cell_type": "code",
   "execution_count": null,
   "metadata": {},
   "outputs": [],
   "source": [
    "print input_config.to_string()"
   ]
  },
  {
   "cell_type": "code",
   "execution_count": null,
   "metadata": {},
   "outputs": [],
   "source": [
    "result_config = ResultConfig()\n",
    "result_config.file = \"../data/mr.txt\"\n",
    "result_config.output_config.write_opath = True\n",
    "print result_config.to_string()"
   ]
  },
  {
   "cell_type": "code",
   "execution_count": null,
   "metadata": {},
   "outputs": [],
   "source": [
    "status = model.match_gps_file(input_config, result_config, fmm_config)"
   ]
  },
  {
   "cell_type": "code",
   "execution_count": null,
   "metadata": {},
   "outputs": [],
   "source": [
    "print status"
   ]
  },
  {
   "cell_type": "code",
   "execution_count": null,
   "metadata": {},
   "outputs": [],
   "source": [
    "\n",
    "\n",
    "filename = \"../data/in_zone_grouped_evacuation_stops.parquet\" \n",
    "\n",
    "\n",
    "\n",
    "df = pq.read_table(source=filename).to_pandas()"
   ]
  },
  {
   "cell_type": "code",
   "execution_count": null,
   "metadata": {},
   "outputs": [],
   "source": [
    "print(df.loc[100])"
   ]
  }
 ],
 "metadata": {
  "interpreter": {
   "hash": "767d51c1340bd893661ea55ea3124f6de3c7a262a8b4abca0554b478b1e2ff90"
  },
  "kernelspec": {
   "display_name": "Python 2.7.16 64-bit",
   "name": "python3"
  },
  "language_info": {
   "codemirror_mode": {
    "name": "ipython",
    "version": 2
   },
   "file_extension": ".py",
   "mimetype": "text/x-python",
   "name": "python",
   "nbconvert_exporter": "python",
   "pygments_lexer": "ipython2",
   "version": "2.7.17"
  },
  "toc": {
   "base_numbering": 1,
   "nav_menu": {},
   "number_sections": true,
   "sideBar": true,
   "skip_h1_title": false,
   "title_cell": "Table of Contents",
   "title_sidebar": "Contents",
   "toc_cell": false,
   "toc_position": {},
   "toc_section_display": true,
   "toc_window_display": true
  }
 },
 "nbformat": 4,
 "nbformat_minor": 2
}
