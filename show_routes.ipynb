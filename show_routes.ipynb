{
 "cells": [
  {
   "cell_type": "code",
   "execution_count": 1,
   "metadata": {},
   "outputs": [],
   "source": [
    "import geopandas as gpd\n",
    "import pyarrow\n",
    "import pandas as pd\n",
    "import os"
   ]
  },
  {
   "cell_type": "code",
   "execution_count": 2,
   "metadata": {},
   "outputs": [],
   "source": [
    "\n",
    "def write_file(filename, info):\n",
    "  text_file = open(filename, \"w\")\n",
    "  text_file.write(info)\n",
    "  text_file.close()"
   ]
  },
  {
   "cell_type": "code",
   "execution_count": 3,
   "metadata": {},
   "outputs": [],
   "source": [
    "target_2631 = pd.read_parquet('data/GPS.nosync/filter/Sonoma_2631_new', engine='pyarrow')"
   ]
  },
  {
   "cell_type": "code",
   "execution_count": 4,
   "metadata": {},
   "outputs": [],
   "source": [
    "streets = gpd.read_file('data/GPS.nosync/Streets/Streets.shp')"
   ]
  },
  {
   "cell_type": "code",
   "execution_count": 5,
   "metadata": {},
   "outputs": [],
   "source": [
    "speed_limits = pd.read_csv('data/GPS.nosync/Speed Surveys.csv')"
   ]
  },
  {
   "cell_type": "code",
   "execution_count": 6,
   "metadata": {},
   "outputs": [
    {
     "data": {
      "text/plain": [
       "Index(['Road Name', 'Road ID', 'Lane Configuration', 'Travel Lane Width',\n",
       "       'Paved Shoulder Width', 'Graded Shoulder Width', 'Surface Condition',\n",
       "       'Parking', 'Driveways', 'Sidewalks', 'Terrain', 'School Zone',\n",
       "       'Bike Route', 'Intersections', 'Posted Speed Limit',\n",
       "       '85th Percentile Speed', 'PACE Range', 'Radar Date', 'Completed By',\n",
       "       'Purpose', 'Postmile', 'Class', 'Lon', 'Lat', 'created_user',\n",
       "       'created_date', 'last_edited_user', 'last_edited_date', 'x', 'y'],\n",
       "      dtype='object')"
      ]
     },
     "execution_count": 6,
     "metadata": {},
     "output_type": "execute_result"
    }
   ],
   "source": [
    "speed_limits.columns"
   ]
  },
  {
   "cell_type": "code",
   "execution_count": 8,
   "metadata": {},
   "outputs": [
    {
     "data": {
      "text/plain": [
       "35.0    193\n",
       "45.0    137\n",
       "40.0    127\n",
       "30.0    109\n",
       "25.0     77\n",
       "50.0     41\n",
       "55.0     13\n",
       "Name: Posted Speed Limit, dtype: int64"
      ]
     },
     "execution_count": 8,
     "metadata": {},
     "output_type": "execute_result"
    }
   ],
   "source": [
    "speed_limits['Posted Speed Limit'].value_counts()"
   ]
  },
  {
   "cell_type": "code",
   "execution_count": 9,
   "metadata": {},
   "outputs": [
    {
     "data": {
      "text/plain": [
       "River Rd                      26\n",
       "Arnold Dr                     25\n",
       "Stewarts Pt Skaggs Springs    20\n",
       "Occidental Rd                 17\n",
       "Grove St                      14\n",
       "                              ..\n",
       "Alton Ln                       1\n",
       "Standish Ave                   1\n",
       "Kinley Dr                      1\n",
       "Taylor Ave                     1\n",
       "Roberts Rd                     1\n",
       "Name: Road Name, Length: 261, dtype: int64"
      ]
     },
     "execution_count": 9,
     "metadata": {},
     "output_type": "execute_result"
    }
   ],
   "source": [
    "speed_limits['Road Name'].value_counts()"
   ]
  },
  {
   "cell_type": "code",
   "execution_count": 10,
   "metadata": {},
   "outputs": [
    {
     "data": {
      "text/html": [
       "<div>\n",
       "<style scoped>\n",
       "    .dataframe tbody tr th:only-of-type {\n",
       "        vertical-align: middle;\n",
       "    }\n",
       "\n",
       "    .dataframe tbody tr th {\n",
       "        vertical-align: top;\n",
       "    }\n",
       "\n",
       "    .dataframe thead th {\n",
       "        text-align: right;\n",
       "    }\n",
       "</style>\n",
       "<table border=\"1\" class=\"dataframe\">\n",
       "  <thead>\n",
       "    <tr style=\"text-align: right;\">\n",
       "      <th></th>\n",
       "      <th>Road Name</th>\n",
       "      <th>Road ID</th>\n",
       "      <th>Lane Configuration</th>\n",
       "      <th>Travel Lane Width</th>\n",
       "      <th>Paved Shoulder Width</th>\n",
       "      <th>Graded Shoulder Width</th>\n",
       "      <th>Surface Condition</th>\n",
       "      <th>Parking</th>\n",
       "      <th>Driveways</th>\n",
       "      <th>Sidewalks</th>\n",
       "      <th>...</th>\n",
       "      <th>Postmile</th>\n",
       "      <th>Class</th>\n",
       "      <th>Lon</th>\n",
       "      <th>Lat</th>\n",
       "      <th>created_user</th>\n",
       "      <th>created_date</th>\n",
       "      <th>last_edited_user</th>\n",
       "      <th>last_edited_date</th>\n",
       "      <th>x</th>\n",
       "      <th>y</th>\n",
       "    </tr>\n",
       "  </thead>\n",
       "  <tbody>\n",
       "    <tr>\n",
       "      <th>123</th>\n",
       "      <td>Llano Rd</td>\n",
       "      <td>6805</td>\n",
       "      <td>NBSB</td>\n",
       "      <td>12</td>\n",
       "      <td>3-9</td>\n",
       "      <td>0-6</td>\n",
       "      <td>Good</td>\n",
       "      <td>E,W</td>\n",
       "      <td>1-E, 5-W</td>\n",
       "      <td>NaN</td>\n",
       "      <td>...</td>\n",
       "      <td>10.37</td>\n",
       "      <td>MaC</td>\n",
       "      <td>-122.769139</td>\n",
       "      <td>38.363225</td>\n",
       "      <td>CGALANTI</td>\n",
       "      <td>六月 27, 2017</td>\n",
       "      <td>TPW</td>\n",
       "      <td>二月 14, 2019</td>\n",
       "      <td>6.341131e+06</td>\n",
       "      <td>1.895034e+06</td>\n",
       "    </tr>\n",
       "    <tr>\n",
       "      <th>332</th>\n",
       "      <td>Llano Rd</td>\n",
       "      <td>6805</td>\n",
       "      <td>NB,SB</td>\n",
       "      <td>10</td>\n",
       "      <td>0-1</td>\n",
       "      <td>0-2</td>\n",
       "      <td>Fair</td>\n",
       "      <td>E,W</td>\n",
       "      <td>11-E, 6-W</td>\n",
       "      <td>None</td>\n",
       "      <td>...</td>\n",
       "      <td>11.55</td>\n",
       "      <td>MaC</td>\n",
       "      <td>-122.768794</td>\n",
       "      <td>38.380256</td>\n",
       "      <td>STAGE</td>\n",
       "      <td>七月 6, 2016</td>\n",
       "      <td>TPW</td>\n",
       "      <td>二月 14, 2019</td>\n",
       "      <td>6.341282e+06</td>\n",
       "      <td>1.901235e+06</td>\n",
       "    </tr>\n",
       "    <tr>\n",
       "      <th>333</th>\n",
       "      <td>Llano Rd</td>\n",
       "      <td>6805</td>\n",
       "      <td>NB,SB</td>\n",
       "      <td>12</td>\n",
       "      <td>1-4</td>\n",
       "      <td>0-4</td>\n",
       "      <td>Fair</td>\n",
       "      <td>E,W</td>\n",
       "      <td>28-E, 11-W</td>\n",
       "      <td>None</td>\n",
       "      <td>...</td>\n",
       "      <td>13.84</td>\n",
       "      <td>MaC</td>\n",
       "      <td>-122.791566</td>\n",
       "      <td>38.406722</td>\n",
       "      <td>STAGE</td>\n",
       "      <td>七月 6, 2016</td>\n",
       "      <td>TPW</td>\n",
       "      <td>二月 14, 2019</td>\n",
       "      <td>6.334838e+06</td>\n",
       "      <td>1.910929e+06</td>\n",
       "    </tr>\n",
       "    <tr>\n",
       "      <th>656</th>\n",
       "      <td>Llano Rd</td>\n",
       "      <td>6805</td>\n",
       "      <td>NB,SB</td>\n",
       "      <td>12</td>\n",
       "      <td>1-4</td>\n",
       "      <td>0-4</td>\n",
       "      <td>Fair</td>\n",
       "      <td>E,W</td>\n",
       "      <td>15-E, 7-W</td>\n",
       "      <td>None</td>\n",
       "      <td>...</td>\n",
       "      <td>13.10</td>\n",
       "      <td>MaC</td>\n",
       "      <td>-122.783826</td>\n",
       "      <td>38.398076</td>\n",
       "      <td>STAGE</td>\n",
       "      <td>七月 6, 2016</td>\n",
       "      <td>TPW</td>\n",
       "      <td>二月 14, 2019</td>\n",
       "      <td>6.337029e+06</td>\n",
       "      <td>1.907761e+06</td>\n",
       "    </tr>\n",
       "    <tr>\n",
       "      <th>657</th>\n",
       "      <td>Llano Rd</td>\n",
       "      <td>6805</td>\n",
       "      <td>NB,SB</td>\n",
       "      <td>10</td>\n",
       "      <td>0-1</td>\n",
       "      <td>0-2</td>\n",
       "      <td>Fair</td>\n",
       "      <td>E,W</td>\n",
       "      <td>11-E, 4-W</td>\n",
       "      <td>None</td>\n",
       "      <td>...</td>\n",
       "      <td>11.33</td>\n",
       "      <td>MaC</td>\n",
       "      <td>-122.768775</td>\n",
       "      <td>38.377025</td>\n",
       "      <td>STAGE</td>\n",
       "      <td>七月 6, 2016</td>\n",
       "      <td>TPW</td>\n",
       "      <td>二月 14, 2019</td>\n",
       "      <td>6.341277e+06</td>\n",
       "      <td>1.900058e+06</td>\n",
       "    </tr>\n",
       "  </tbody>\n",
       "</table>\n",
       "<p>5 rows × 30 columns</p>\n",
       "</div>"
      ],
      "text/plain": [
       "    Road Name Road ID Lane Configuration Travel Lane Width  \\\n",
       "123  Llano Rd    6805               NBSB                12   \n",
       "332  Llano Rd    6805              NB,SB                10   \n",
       "333  Llano Rd    6805              NB,SB                12   \n",
       "656  Llano Rd    6805              NB,SB                12   \n",
       "657  Llano Rd    6805              NB,SB                10   \n",
       "\n",
       "    Paved Shoulder Width Graded Shoulder Width Surface Condition Parking  \\\n",
       "123                  3-9                   0-6              Good     E,W   \n",
       "332                  0-1                   0-2              Fair     E,W   \n",
       "333                  1-4                   0-4              Fair     E,W   \n",
       "656                  1-4                   0-4              Fair     E,W   \n",
       "657                  0-1                   0-2              Fair     E,W   \n",
       "\n",
       "      Driveways Sidewalks  ... Postmile Class         Lon        Lat  \\\n",
       "123    1-E, 5-W       NaN  ...    10.37   MaC -122.769139  38.363225   \n",
       "332   11-E, 6-W      None  ...    11.55   MaC -122.768794  38.380256   \n",
       "333  28-E, 11-W      None  ...    13.84   MaC -122.791566  38.406722   \n",
       "656   15-E, 7-W      None  ...    13.10   MaC -122.783826  38.398076   \n",
       "657   11-E, 4-W      None  ...    11.33   MaC -122.768775  38.377025   \n",
       "\n",
       "     created_user  created_date last_edited_user last_edited_date  \\\n",
       "123      CGALANTI   六月 27, 2017              TPW      二月 14, 2019   \n",
       "332         STAGE    七月 6, 2016              TPW      二月 14, 2019   \n",
       "333         STAGE    七月 6, 2016              TPW      二月 14, 2019   \n",
       "656         STAGE    七月 6, 2016              TPW      二月 14, 2019   \n",
       "657         STAGE    七月 6, 2016              TPW      二月 14, 2019   \n",
       "\n",
       "                x             y  \n",
       "123  6.341131e+06  1.895034e+06  \n",
       "332  6.341282e+06  1.901235e+06  \n",
       "333  6.334838e+06  1.910929e+06  \n",
       "656  6.337029e+06  1.907761e+06  \n",
       "657  6.341277e+06  1.900058e+06  \n",
       "\n",
       "[5 rows x 30 columns]"
      ]
     },
     "execution_count": 10,
     "metadata": {},
     "output_type": "execute_result"
    }
   ],
   "source": [
    "speed_limits[speed_limits['Road Name'] == 'Llano Rd']"
   ]
  },
  {
   "cell_type": "code",
   "execution_count": 11,
   "metadata": {},
   "outputs": [
    {
     "data": {
      "text/plain": [
       "123     NaN\n",
       "332    45.0\n",
       "333    50.0\n",
       "656    50.0\n",
       "657    45.0\n",
       "Name: Posted Speed Limit, dtype: float64"
      ]
     },
     "execution_count": 11,
     "metadata": {},
     "output_type": "execute_result"
    }
   ],
   "source": [
    "speed_limits[speed_limits['Road Name'] == 'Llano Rd']['Posted Speed Limit']"
   ]
  },
  {
   "cell_type": "code",
   "execution_count": 12,
   "metadata": {},
   "outputs": [],
   "source": [
    "def show_points(filename, dataType):\n",
    "  if os.path.isfile(filename):\n",
    "    #open text file in read mode\n",
    "    text_file = open(filename, \"r\")\n",
    "\n",
    "    #read whole file to a string\n",
    "    points = text_file.read()\n",
    "\n",
    "    #close file\n",
    "    text_file.close()\n",
    "    data = {'col1': ['name1'], 'wkt': points}\n",
    "    df = pd.DataFrame(data)\n",
    "    gs = gpd.GeoSeries.from_wkt(df['wkt'])\n",
    "    gdf = gpd.GeoDataFrame(df, geometry=gs, crs=\"EPSG:4326\")\n",
    "    #print(type(gs))\n",
    "    if dataType == 2:\n",
    "      tmp = gdf.apply(lambda x: [y for y in x['geometry'].coords], axis=1)\n",
    "      x_ = []\n",
    "      y_ = []\n",
    "      for data in tmp[0]:\n",
    "        x_.append(data[0])\n",
    "        y_.append(data[1])\n",
    "      gdf = gpd.GeoDataFrame(\n",
    "        pd.DataFrame(), geometry=gpd.points_from_xy(x=x_, y=y_))\n",
    "    return gdf\n",
    "  else:\n",
    "    print(\"NO SUCH FILE\")\n",
    "\n",
    "def show_points_from_df(df, index, dataType):\n",
    "\n",
    "    #read whole file to a string\n",
    "    points = df.loc[index][\"res\"]\n",
    "    #print(points)\n",
    "    data = {'col1': ['name1'], 'wkt': points}\n",
    "    df1 = pd.DataFrame(data)\n",
    "    gs = gpd.GeoSeries.from_wkt(df1['wkt'])\n",
    "    gdf = gpd.GeoDataFrame(df1, geometry=gs, crs=\"EPSG:4326\")\n",
    "    #print(type(gs))\n",
    "    if dataType == 2:\n",
    "      tmp = gdf.apply(lambda x: [y for y in x['geometry'].coords], axis=1)\n",
    "      x_ = []\n",
    "      y_ = []\n",
    "      for data in tmp[0]:\n",
    "        x_.append(data[0])\n",
    "        y_.append(data[1])\n",
    "      gdf = gpd.GeoDataFrame(\n",
    "        pd.DataFrame(), geometry=gpd.points_from_xy(x=x_, y=y_))\n",
    "    return gdf\n"
   ]
  },
  {
   "cell_type": "code",
   "execution_count": 27,
   "metadata": {},
   "outputs": [
    {
     "name": "stdout",
     "output_type": "stream",
     "text": [
      "13\n",
      "29\n",
      "187\n",
      "578\n",
      "1375\n",
      "3204\n",
      "4902\n",
      "5877\n",
      "10221\n",
      "13327\n"
     ]
    }
   ],
   "source": [
    "gdf_wkt = []\n",
    "gdf_ekt = []\n",
    "gdf_points = []\n",
    "gdf_points_string = []\n",
    "#index_list = [1332,1396,1472]\n",
    "index_list = [13, 29, 187, 578, 1375, 3204, 4902, 5877,10221, 13327]\n",
    "df = pd.read_csv('data/GPS.nosync/Sonoma-2631-new-points/out2.csv')\n",
    "#index_list = [4, 23, 187, 370, 497, 705, 831, 1000, 1061, 1536, 1592]\n",
    "for i in index_list:\n",
    "  print(i)\n",
    "  line_base = \"data/GPS.nosync/output/sub-result-\"\n",
    "  points_base = \"data/GPS.nosync/points/\"\n",
    "  file_path1 = line_base + str(i) + '/' + str(i) + \"-m_wkt.txt\"\n",
    "  gdf_wkt.append(show_points(file_path1,1))\n",
    "  # file_path2 = line_base + str(i) + '/' + str(i) + \"-e_wkt.txt\"\n",
    "  # gdf_ekt.append(show_points(file_path2,1))\n",
    "  # file_path3 = points_base + str(i) + \"-points.txt\"\n",
    "  # gdf_points.append(show_points(file_path3 ,2))\n",
    "  gdf_points_string.append(show_points_from_df(df,i, 1))\n",
    "  gdf_points.append(show_points_from_df(df, i ,2))\n"
   ]
  },
  {
   "cell_type": "code",
   "execution_count": 22,
   "metadata": {},
   "outputs": [
    {
     "data": {
      "text/html": [
       "<div>\n",
       "<style scoped>\n",
       "    .dataframe tbody tr th:only-of-type {\n",
       "        vertical-align: middle;\n",
       "    }\n",
       "\n",
       "    .dataframe tbody tr th {\n",
       "        vertical-align: top;\n",
       "    }\n",
       "\n",
       "    .dataframe thead th {\n",
       "        text-align: right;\n",
       "    }\n",
       "</style>\n",
       "<table border=\"1\" class=\"dataframe\">\n",
       "  <thead>\n",
       "    <tr style=\"text-align: right;\">\n",
       "      <th></th>\n",
       "      <th>col1</th>\n",
       "      <th>wkt</th>\n",
       "      <th>geometry</th>\n",
       "    </tr>\n",
       "  </thead>\n",
       "  <tbody>\n",
       "    <tr>\n",
       "      <th>0</th>\n",
       "      <td>name1</td>\n",
       "      <td>LINESTRING(-122.811018 38.549082,-122.81128 38...</td>\n",
       "      <td>LINESTRING (-122.81102 38.54908, -122.81128 38...</td>\n",
       "    </tr>\n",
       "  </tbody>\n",
       "</table>\n",
       "</div>"
      ],
      "text/plain": [
       "    col1                                                wkt  \\\n",
       "0  name1  LINESTRING(-122.811018 38.549082,-122.81128 38...   \n",
       "\n",
       "                                            geometry  \n",
       "0  LINESTRING (-122.81102 38.54908, -122.81128 38...  "
      ]
     },
     "execution_count": 22,
     "metadata": {},
     "output_type": "execute_result"
    }
   ],
   "source": [
    "gdf_points_string[0]"
   ]
  },
  {
   "cell_type": "code",
   "execution_count": 28,
   "metadata": {},
   "outputs": [],
   "source": [
    "import folium\n",
    "from folium import plugins\n",
    "for index in range(0,10):\n",
    "    map2 = folium.Map(location=[38.447135, -122.76633], tiles='OpenStreetMap',zoom_start=12,max_zoom = 16, min_zoom=8)\n",
    "\n",
    "    for coord in gdf_points[index]['geometry']:\n",
    "        folium.Marker( location=[ coord.y, coord.x ]).add_to( map2 )\n",
    "    folium.Choropleth(\n",
    "        gdf_points_string[index],\n",
    "        line_weight=2,\n",
    "        line_color='red'\n",
    "    ).add_to(map2)\n",
    "    #plugins.HeatMap(heat_data).add_to(map)\n",
    "    folium.Choropleth(\n",
    "        gdf_wkt[index],\n",
    "        line_weight=3,\n",
    "        line_color='blue'\n",
    "    ).add_to(map2)\n",
    "\n",
    "    map2.save(str(index) + \"tmp1.html\")\n",
    "#map2[0]"
   ]
  },
  {
   "cell_type": "code",
   "execution_count": null,
   "metadata": {},
   "outputs": [],
   "source": [
    "map3 = folium.Map(location=[38.447135, -122.76633], tiles='OpenStreetMap',zoom_start=12,max_zoom = 14, min_zoom=10)\n",
    "\n",
    "plugins.HeatMap(heat_data3,min_opacity=0.4,\n",
    "                   radius=21, blur=12, \n",
    "                   max_zoom=4, min_zoom=8).add_to(map3)\n",
    "#plugins.HeatMap(heat_data).add_to(map)\n",
    "map3\n"
   ]
  },
  {
   "cell_type": "code",
   "execution_count": null,
   "metadata": {},
   "outputs": [],
   "source": [
    "map4 = folium.Map(location=[38.447135, -122.76633], tiles='OpenStreetMap',zoom_start=12,max_zoom = 14, min_zoom=10)\n",
    "\n",
    "plugins.HeatMap(heat_data4,min_opacity=0.4,\n",
    "                   radius=21, blur=12, \n",
    "                   max_zoom=4, min_zoom=8).add_to(map4)\n",
    "#plugins.HeatMap(heat_data).add_to(map)\n",
    "map4"
   ]
  },
  {
   "cell_type": "code",
   "execution_count": null,
   "metadata": {},
   "outputs": [],
   "source": [
    "map5 = folium.Map(location=[38.447135, -122.76633], tiles='OpenStreetMap',zoom_start=12,max_zoom = 14, min_zoom=10)\n",
    "\n",
    "plugins.HeatMap(heat_data3,min_opacity=0.4,\n",
    "                   radius=21, blur=12, \n",
    "                   max_zoom=4, min_zoom=8).add_to(map5)\n",
    "#plugins.HeatMap(heat_data).add_to(map)\n",
    "map5"
   ]
  },
  {
   "cell_type": "code",
   "execution_count": null,
   "metadata": {},
   "outputs": [],
   "source": [
    "map6 = folium.Map(location=[38.447135, -122.76633], tiles='OpenStreetMap',zoom_start=12,max_zoom = 14, min_zoom=10)\n",
    "\n",
    "plugins.HeatMap(heat_data6,min_opacity=0.4,\n",
    "                   radius=21, blur=12, \n",
    "                   max_zoom=4, min_zoom=8).add_to(map6)\n",
    "#plugins.HeatMap(heat_data).add_to(map)\n",
    "map6"
   ]
  },
  {
   "cell_type": "code",
   "execution_count": null,
   "metadata": {},
   "outputs": [],
   "source": [
    "map7 = folium.Map(location=[38.447135, -122.76633], tiles='OpenStreetMap',zoom_start=12,max_zoom = 14, min_zoom=10)\n",
    "\n",
    "plugins.HeatMap(heat_data7,min_opacity=0.4,\n",
    "                   radius=21, blur=12, \n",
    "                   max_zoom=4, min_zoom=8).add_to(map7)\n",
    "#plugins.HeatMap(heat_data).add_to(map)\n",
    "map7"
   ]
  },
  {
   "cell_type": "code",
   "execution_count": null,
   "metadata": {},
   "outputs": [],
   "source": [
    "map2.save(\"26-06-26-12.html\")\n",
    "map3.save(\"26-12-26-22.html\")\n",
    "map4.save(\"26-22-27-06.html\")\n",
    "map5.save(\"27-06-27-12.html\")\n",
    "map6.save(\"27-12-27-22.html\")"
   ]
  },
  {
   "cell_type": "code",
   "execution_count": null,
   "metadata": {},
   "outputs": [],
   "source": [
    "import matplotlib.pyplot as plt\n",
    "fig, ax = plt.subplots(figsize=(64, 64))\n",
    "streets.plot(ax=ax, color='black', LineWidth = 2)\n",
    "gdf2.plot(ax=ax, color='green',LineWidth = 2)\n",
    "#gdf.plot(ax=ax, color='blue', LineWidth = 1)\n",
    "gdf1.plot(ax=ax, color='red',LineWidth = 1)"
   ]
  },
  {
   "cell_type": "code",
   "execution_count": null,
   "metadata": {},
   "outputs": [],
   "source": [
    "# parts = streets[1:10000]\n",
    "# parts['points'] = parts.apply(lambda x: [y for y in x['geometry'].coords], axis=1)\n",
    "# len(parts)\n",
    "gdf2['points'] = gdf1.apply(lambda x: [y for y in x['geometry'].coords], axis=1)\n",
    "gdf1.head\n",
    "gdf1"
   ]
  },
  {
   "cell_type": "code",
   "execution_count": null,
   "metadata": {},
   "outputs": [],
   "source": [
    "import folium\n",
    "map = folium.Map(location = [4,10], tiles = \"Stamen Terrain\", zoom_start = 3)"
   ]
  },
  {
   "cell_type": "code",
   "execution_count": null,
   "metadata": {},
   "outputs": [],
   "source": [
    "from folium import plugins\n",
    "\n",
    "map = folium.Map(location=[38.447135, -122.76633], tiles='OpenStreetMap',zoom_start=12)\n",
    "\n",
    "#heat_data = [gdf2.points[0],gdf2.points[1]]\n",
    "#heat_data[1] = \n",
    "heat_data = [[point[1], point[0]] for point in gdf2['points'][0] ]\n",
    "# for point in gdf2['points'][1]:\n",
    "#   heat_data.append([point[1],point[0]])\n",
    "for points in gdf2['points']:\n",
    "  for p in points:\n",
    "    heat_data.append([p[1],p[0]])\n",
    "heat_data\n",
    "plugins.HeatMap(heat_data,min_opacity=0.5,\n",
    "                   radius=4, blur=4, \n",
    "                   max_zoom=1).add_to(map)\n",
    "map\n"
   ]
  },
  {
   "cell_type": "code",
   "execution_count": null,
   "metadata": {},
   "outputs": [],
   "source": [
    "heat_data"
   ]
  },
  {
   "cell_type": "code",
   "execution_count": null,
   "metadata": {},
   "outputs": [],
   "source": [
    "map.save(\"index-1-14-13-13.html\")"
   ]
  },
  {
   "cell_type": "code",
   "execution_count": null,
   "metadata": {},
   "outputs": [],
   "source": [
    "plugins.HeatMap(heat_data).add_to(map)\n",
    "map"
   ]
  },
  {
   "cell_type": "markdown",
   "metadata": {},
   "source": []
  }
 ],
 "metadata": {
  "interpreter": {
   "hash": "31f2aee4e71d21fbe5cf8b01ff0e069b9275f58929596ceb00d14d90e3e16cd6"
  },
  "kernelspec": {
   "display_name": "Python 3.8.9 64-bit",
   "name": "python3"
  },
  "language_info": {
   "codemirror_mode": {
    "name": "ipython",
    "version": 3
   },
   "file_extension": ".py",
   "mimetype": "text/x-python",
   "name": "python",
   "nbconvert_exporter": "python",
   "pygments_lexer": "ipython3",
   "version": "3.6.9"
  },
  "orig_nbformat": 4
 },
 "nbformat": 4,
 "nbformat_minor": 2
}
