{
 "cells": [
  {
   "cell_type": "code",
   "execution_count": 1,
   "source": [
    "import geopandas as gpd\n",
    "import pyarrow\n",
    "import pandas as pd\n",
    "import os"
   ],
   "outputs": [],
   "metadata": {}
  },
  {
   "cell_type": "code",
   "execution_count": 2,
   "source": [
    "\n",
    "def write_file(filename, info):\n",
    "  text_file = open(filename, \"w\")\n",
    "  text_file.write(info)\n",
    "  text_file.close()"
   ],
   "outputs": [],
   "metadata": {}
  },
  {
   "cell_type": "code",
   "execution_count": 58,
   "source": [
    "target_2631 = pd.read_parquet('data/GPS.nosync/filter/Sonoma_2631_new', engine='pyarrow')"
   ],
   "outputs": [],
   "metadata": {}
  },
  {
   "cell_type": "code",
   "execution_count": 3,
   "source": [
    "streets = gpd.read_file('data/GPS.nosync/Streets/Streets.shp')"
   ],
   "outputs": [],
   "metadata": {}
  },
  {
   "cell_type": "code",
   "execution_count": 116,
   "source": [
    "def show_points(filename, dataType):\n",
    "  if os.path.isfile(filename):\n",
    "    #open text file in read mode\n",
    "    text_file = open(filename, \"r\")\n",
    "\n",
    "    #read whole file to a string\n",
    "    points = text_file.read()\n",
    "\n",
    "    #close file\n",
    "    text_file.close()\n",
    "    data = {'col1': ['name1'], 'wkt': points}\n",
    "    df = pd.DataFrame(data)\n",
    "    gs = gpd.GeoSeries.from_wkt(df['wkt'])\n",
    "    gdf = gpd.GeoDataFrame(df, geometry=gs, crs=\"EPSG:4326\")\n",
    "    #print(type(gs))\n",
    "    if dataType == 2:\n",
    "      tmp = gdf.apply(lambda x: [y for y in x['geometry'].coords], axis=1)\n",
    "      x_ = []\n",
    "      y_ = []\n",
    "      for data in tmp[0]:\n",
    "        x_.append(data[0])\n",
    "        y_.append(data[1])\n",
    "      gdf = gpd.GeoDataFrame(\n",
    "        pd.DataFrame(), geometry=gpd.points_from_xy(x=x_, y=y_))\n",
    "    return gdf\n",
    "  else:\n",
    "    print(\"NO SUCH FILE\")\n"
   ],
   "outputs": [],
   "metadata": {}
  },
  {
   "cell_type": "code",
   "execution_count": 112,
   "source": [
    "x_ = []\n",
    "x_.append(1)\n",
    "x_.append(2)\n",
    "x_.append(3)\n",
    "x_.append(4)\n",
    "df = pd.DataFrame()\n",
    "len(x_)\n",
    "k = gpd.points_from_xy(x=x_, y=x_)\n",
    "gdf = gpd.GeoDataFrame(\n",
    "        df, geometry=k)\n",
    "gdf"
   ],
   "outputs": [
    {
     "output_type": "execute_result",
     "data": {
      "text/html": [
       "<div>\n",
       "<style scoped>\n",
       "    .dataframe tbody tr th:only-of-type {\n",
       "        vertical-align: middle;\n",
       "    }\n",
       "\n",
       "    .dataframe tbody tr th {\n",
       "        vertical-align: top;\n",
       "    }\n",
       "\n",
       "    .dataframe thead th {\n",
       "        text-align: right;\n",
       "    }\n",
       "</style>\n",
       "<table border=\"1\" class=\"dataframe\">\n",
       "  <thead>\n",
       "    <tr style=\"text-align: right;\">\n",
       "      <th></th>\n",
       "      <th>geometry</th>\n",
       "    </tr>\n",
       "  </thead>\n",
       "  <tbody>\n",
       "    <tr>\n",
       "      <th>0</th>\n",
       "      <td>POINT (1.00000 1.00000)</td>\n",
       "    </tr>\n",
       "    <tr>\n",
       "      <th>1</th>\n",
       "      <td>POINT (2.00000 2.00000)</td>\n",
       "    </tr>\n",
       "    <tr>\n",
       "      <th>2</th>\n",
       "      <td>POINT (3.00000 3.00000)</td>\n",
       "    </tr>\n",
       "    <tr>\n",
       "      <th>3</th>\n",
       "      <td>POINT (4.00000 4.00000)</td>\n",
       "    </tr>\n",
       "  </tbody>\n",
       "</table>\n",
       "</div>"
      ],
      "text/plain": [
       "                  geometry\n",
       "0  POINT (1.00000 1.00000)\n",
       "1  POINT (2.00000 2.00000)\n",
       "2  POINT (3.00000 3.00000)\n",
       "3  POINT (4.00000 4.00000)"
      ]
     },
     "metadata": {},
     "execution_count": 112
    }
   ],
   "metadata": {}
  },
  {
   "cell_type": "code",
   "execution_count": 130,
   "source": [
    "file_path1 = \"data/GPS.nosync/output/sub-result-23/23-m_wkt.txt\"\n",
    "gdf_wkt = show_points(file_path1,1)\n",
    "file_path2 = \"data/GPS.nosync/output/sub-result-23/23-e_wkt.txt\"\n",
    "gdf_ekt = show_points(file_path2,1)\n",
    "file_path3 = \"data/GPS.nosync/points/23-points.txt\"\n",
    "gdf_points = show_points(file_path3,2)"
   ],
   "outputs": [],
   "metadata": {}
  },
  {
   "cell_type": "code",
   "execution_count": 238,
   "source": [
    "gdf_wkt = []\n",
    "gdf_ekt = []\n",
    "gdf_points = []\n",
    "index_list = [4, 23, 187, 370, 630, 718, 831, 1000, 1269, 1332,1396,1472]\n",
    "#index_list = [4, 23, 187, 370, 497, 705, 831, 1000, 1061, 1536, 1592]\n",
    "for i in index_list:\n",
    "  line_base = \"data/GPS.nosync/output/sub-result-\"\n",
    "  point_base = 'data/GPS.nosync/points/'\n",
    "  file_path1 = line_base + str(i) + '/' + str(i) + \"-m_wkt.txt\"\n",
    "  gdf_wkt.append(show_points(file_path1,1))\n",
    "  file_path2 = line_base + str(i) + '/' + str(i) + \"-e_wkt.txt\"\n",
    "  gdf_ekt.append(show_points(file_path2,1))\n",
    "  file_path3 = point_base + str(i) + \"-points.txt\"\n",
    "  gdf_points.append(show_points(file_path3,2))\n"
   ],
   "outputs": [],
   "metadata": {}
  },
  {
   "cell_type": "code",
   "execution_count": 190,
   "source": [
    "gdf_points[0]['geometry'][0].x"
   ],
   "outputs": [
    {
     "output_type": "execute_result",
     "data": {
      "text/plain": [
       "-122.811018"
      ]
     },
     "metadata": {},
     "execution_count": 190
    }
   ],
   "metadata": {}
  },
  {
   "cell_type": "code",
   "execution_count": null,
   "source": [
    "index = 9\n",
    "import matplotlib.pyplot as plt\n",
    "fig, ax = plt.subplots(figsize=(32, 32))\n",
    "streets.plot(ax=ax, color='black', LineWidth = 2)\n",
    "#gdf_ekt.plot(ax=ax, color='green',LineWidth = 2)\n",
    "gdf_points[index].plot(ax=ax, color='blue', LineWidth = 1)\n",
    "gdf_wkt[index].plot(ax=ax, color='red',LineWidth = 1)"
   ],
   "outputs": [],
   "metadata": {}
  },
  {
   "cell_type": "code",
   "execution_count": 240,
   "source": [
    "import folium\n",
    "from folium import plugins\n",
    "for index in range(0,12):\n",
    "    map2 = folium.Map(location=[38.447135, -122.76633], tiles='OpenStreetMap',zoom_start=12,max_zoom = 16, min_zoom=8)\n",
    "\n",
    "    for coord in gdf_points[index]['geometry']:\n",
    "        folium.Marker( location=[ coord.y, coord.x ]).add_to( map2 )\n",
    "    #plugins.HeatMap(heat_data).add_to(map)\n",
    "    folium.Choropleth(\n",
    "        gdf_wkt[index],\n",
    "        line_weight=3,\n",
    "        line_color='blue'\n",
    "    ).add_to(map2)\n",
    "    map2.save(str(index) + \".html\")"
   ],
   "outputs": [],
   "metadata": {}
  },
  {
   "cell_type": "code",
   "execution_count": null,
   "source": [
    "map3 = folium.Map(location=[38.447135, -122.76633], tiles='OpenStreetMap',zoom_start=12,max_zoom = 14, min_zoom=10)\n",
    "\n",
    "plugins.HeatMap(heat_data3,min_opacity=0.4,\n",
    "                   radius=21, blur=12, \n",
    "                   max_zoom=4, min_zoom=8).add_to(map3)\n",
    "#plugins.HeatMap(heat_data).add_to(map)\n",
    "map3\n"
   ],
   "outputs": [],
   "metadata": {}
  },
  {
   "cell_type": "code",
   "execution_count": null,
   "source": [
    "map4 = folium.Map(location=[38.447135, -122.76633], tiles='OpenStreetMap',zoom_start=12,max_zoom = 14, min_zoom=10)\n",
    "\n",
    "plugins.HeatMap(heat_data4,min_opacity=0.4,\n",
    "                   radius=21, blur=12, \n",
    "                   max_zoom=4, min_zoom=8).add_to(map4)\n",
    "#plugins.HeatMap(heat_data).add_to(map)\n",
    "map4"
   ],
   "outputs": [],
   "metadata": {}
  },
  {
   "cell_type": "code",
   "execution_count": null,
   "source": [
    "map5 = folium.Map(location=[38.447135, -122.76633], tiles='OpenStreetMap',zoom_start=12,max_zoom = 14, min_zoom=10)\n",
    "\n",
    "plugins.HeatMap(heat_data3,min_opacity=0.4,\n",
    "                   radius=21, blur=12, \n",
    "                   max_zoom=4, min_zoom=8).add_to(map5)\n",
    "#plugins.HeatMap(heat_data).add_to(map)\n",
    "map5"
   ],
   "outputs": [],
   "metadata": {}
  },
  {
   "cell_type": "code",
   "execution_count": null,
   "source": [
    "map6 = folium.Map(location=[38.447135, -122.76633], tiles='OpenStreetMap',zoom_start=12,max_zoom = 14, min_zoom=10)\n",
    "\n",
    "plugins.HeatMap(heat_data6,min_opacity=0.4,\n",
    "                   radius=21, blur=12, \n",
    "                   max_zoom=4, min_zoom=8).add_to(map6)\n",
    "#plugins.HeatMap(heat_data).add_to(map)\n",
    "map6"
   ],
   "outputs": [],
   "metadata": {}
  },
  {
   "cell_type": "code",
   "execution_count": null,
   "source": [
    "map7 = folium.Map(location=[38.447135, -122.76633], tiles='OpenStreetMap',zoom_start=12,max_zoom = 14, min_zoom=10)\n",
    "\n",
    "plugins.HeatMap(heat_data7,min_opacity=0.4,\n",
    "                   radius=21, blur=12, \n",
    "                   max_zoom=4, min_zoom=8).add_to(map7)\n",
    "#plugins.HeatMap(heat_data).add_to(map)\n",
    "map7"
   ],
   "outputs": [],
   "metadata": {}
  },
  {
   "cell_type": "code",
   "execution_count": null,
   "source": [
    "map2.save(\"26-06-26-12.html\")\n",
    "map3.save(\"26-12-26-22.html\")\n",
    "map4.save(\"26-22-27-06.html\")\n",
    "map5.save(\"27-06-27-12.html\")\n",
    "map6.save(\"27-12-27-22.html\")"
   ],
   "outputs": [],
   "metadata": {}
  },
  {
   "cell_type": "code",
   "execution_count": null,
   "source": [
    "import matplotlib.pyplot as plt\n",
    "fig, ax = plt.subplots(figsize=(64, 64))\n",
    "streets.plot(ax=ax, color='black', LineWidth = 2)\n",
    "gdf2.plot(ax=ax, color='green',LineWidth = 2)\n",
    "#gdf.plot(ax=ax, color='blue', LineWidth = 1)\n",
    "gdf1.plot(ax=ax, color='red',LineWidth = 1)"
   ],
   "outputs": [],
   "metadata": {}
  },
  {
   "cell_type": "code",
   "execution_count": null,
   "source": [
    "# parts = streets[1:10000]\n",
    "# parts['points'] = parts.apply(lambda x: [y for y in x['geometry'].coords], axis=1)\n",
    "# len(parts)\n",
    "gdf2['points'] = gdf1.apply(lambda x: [y for y in x['geometry'].coords], axis=1)\n",
    "gdf1.head\n",
    "gdf1"
   ],
   "outputs": [],
   "metadata": {}
  },
  {
   "cell_type": "code",
   "execution_count": null,
   "source": [
    "import folium\n",
    "map = folium.Map(location = [4,10], tiles = \"Stamen Terrain\", zoom_start = 3)"
   ],
   "outputs": [],
   "metadata": {}
  },
  {
   "cell_type": "code",
   "execution_count": null,
   "source": [
    "from folium import plugins\n",
    "\n",
    "map = folium.Map(location=[38.447135, -122.76633], tiles='OpenStreetMap',zoom_start=12)\n",
    "\n",
    "#heat_data = [gdf2.points[0],gdf2.points[1]]\n",
    "#heat_data[1] = \n",
    "heat_data = [[point[1], point[0]] for point in gdf2['points'][0] ]\n",
    "# for point in gdf2['points'][1]:\n",
    "#   heat_data.append([point[1],point[0]])\n",
    "for points in gdf2['points']:\n",
    "  for p in points:\n",
    "    heat_data.append([p[1],p[0]])\n",
    "heat_data\n",
    "plugins.HeatMap(heat_data,min_opacity=0.5,\n",
    "                   radius=4, blur=4, \n",
    "                   max_zoom=1).add_to(map)\n",
    "map\n"
   ],
   "outputs": [],
   "metadata": {}
  },
  {
   "cell_type": "code",
   "execution_count": null,
   "source": [
    "heat_data"
   ],
   "outputs": [],
   "metadata": {}
  },
  {
   "cell_type": "code",
   "execution_count": null,
   "source": [
    "map.save(\"index-1-14-13-13.html\")"
   ],
   "outputs": [],
   "metadata": {}
  },
  {
   "cell_type": "code",
   "execution_count": null,
   "source": [
    "plugins.HeatMap(heat_data).add_to(map)\n",
    "map"
   ],
   "outputs": [],
   "metadata": {}
  },
  {
   "cell_type": "markdown",
   "source": [],
   "metadata": {}
  }
 ],
 "metadata": {
  "orig_nbformat": 4,
  "language_info": {
   "name": "python",
   "version": "3.8.9",
   "mimetype": "text/x-python",
   "codemirror_mode": {
    "name": "ipython",
    "version": 3
   },
   "pygments_lexer": "ipython3",
   "nbconvert_exporter": "python",
   "file_extension": ".py"
  },
  "kernelspec": {
   "name": "python3",
   "display_name": "Python 3.8.9 64-bit"
  },
  "interpreter": {
   "hash": "31f2aee4e71d21fbe5cf8b01ff0e069b9275f58929596ceb00d14d90e3e16cd6"
  }
 },
 "nbformat": 4,
 "nbformat_minor": 2
}