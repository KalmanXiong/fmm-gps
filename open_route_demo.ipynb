{
 "cells": [
  {
   "cell_type": "code",
   "execution_count": null,
   "source": [
    "import openrouteservice as ors\n",
    "import folium"
   ],
   "outputs": [],
   "metadata": {}
  },
  {
   "cell_type": "code",
   "execution_count": null,
   "source": [
    "my_key = '5b3ce3597851110001cf6248bd23b30a9417489b86b1abdf749d0273'"
   ],
   "outputs": [],
   "metadata": {}
  },
  {
   "cell_type": "code",
   "execution_count": null,
   "source": [
    "client = ors.Client(key=my_key)\n",
    "m = folium.Map(location=[52.521861, 13.40744], tiles='cartodbpositron', zoom_start=13)\n",
    "\n",
    "# Some coordinates in Berlin\n",
    "coordinates = [[13.42731, 52.51088], [13.384116, 52.533558]]\n",
    "\n",
    "route = client.directions(\n",
    "    coordinates=coordinates,\n",
    "    profile='driving-car',\n",
    "    format='geojson',\n",
    "    alternative_routes = {\"share_factor\":0.6,\"target_count\":3,\"weight_factor\":1.4},\n",
    "    #options={\"avoid_features\": [\"steps\"]},\n",
    "    validate=False,\n",
    ")\n",
    "folium.PolyLine(locations=[list(reversed(coord)) \n",
    "                           for coord in \n",
    "                           route['features'][0]['geometry']['coordinates']]).add_to(m)\n",
    "    \n"
   ],
   "outputs": [],
   "metadata": {}
  },
  {
   "cell_type": "code",
   "execution_count": null,
   "source": [
    "folium.PolyLine(locations=[list(reversed(coord)) \n",
    "                           for coord in \n",
    "                           route['features'][2]['geometry']['coordinates']]).add_to(m)"
   ],
   "outputs": [],
   "metadata": {}
  },
  {
   "cell_type": "code",
   "execution_count": null,
   "source": [
    "m"
   ],
   "outputs": [],
   "metadata": {}
  }
 ],
 "metadata": {
  "orig_nbformat": 4,
  "language_info": {
   "name": "python",
   "version": "3.9.9",
   "mimetype": "text/x-python",
   "codemirror_mode": {
    "name": "ipython",
    "version": 3
   },
   "pygments_lexer": "ipython3",
   "nbconvert_exporter": "python",
   "file_extension": ".py"
  },
  "kernelspec": {
   "name": "python3",
   "display_name": "Python 3.9.9 64-bit ('base': conda)"
  },
  "interpreter": {
   "hash": "cf0c8045f90f0b9de52b4978fb55a0ab5d32aa3e3e0b44a1c5dce2f35cf33b8e"
  }
 },
 "nbformat": 4,
 "nbformat_minor": 2
}