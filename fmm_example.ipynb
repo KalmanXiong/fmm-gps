{
 "cells": [
  {
   "cell_type": "markdown",
   "source": [
    "## Demo of fmm Python API"
   ],
   "metadata": {}
  },
  {
   "cell_type": "code",
   "execution_count": 1,
   "source": [
    "from fmm import Network,NetworkGraph,FastMapMatch,FastMapMatchConfig,UBODT\n",
    "from fmm import UBODTGenAlgorithm\n",
    "#! pip2 install pyarrow\n",
    "import pyarrow\n",
    "import pyarrow.parquet as pq\n",
    "import os"
   ],
   "outputs": [],
   "metadata": {}
  },
  {
   "cell_type": "code",
   "execution_count": 2,
   "source": [
    "\n",
    "def getPoints(file_path):\n",
    "    if os.path.isfile(file_path):\n",
    "        text_file = open(file_path, \"r\")\n",
    "        wkt = text_file.read()\n",
    "        text_file.close()\n",
    "    return wkt\n",
    "def save_results(file_base_name, cpath, opath, indices, m_wkt, e_wkt):\n",
    "  text_file = open(file_base_name + '-cpath.txt', \"w\")\n",
    "  text_file.write(cpath)\n",
    "  text_file.close()\n",
    "  text_file = open(file_base_name + '-opath.txt', \"w\")\n",
    "  text_file.write(opath)\n",
    "  text_file.close()\n",
    "  text_file = open(file_base_name + '-indices.txt', \"w\")\n",
    "  text_file.write(indices)\n",
    "  text_file.close()\n",
    "  text_file = open(file_base_name + '-m_wkt.txt', \"w\")\n",
    "  text_file.write(m_wkt)\n",
    "  text_file.close()\n",
    "  text_file = open(file_base_name + '-e_wkt.txt', \"w\")\n",
    "  text_file.write(e_wkt)\n",
    "  text_file.close()"
   ],
   "outputs": [],
   "metadata": {}
  },
  {
   "cell_type": "markdown",
   "source": [
    "### Load network data and graph"
   ],
   "metadata": {}
  },
  {
   "cell_type": "code",
   "execution_count": null,
   "source": [
    "#network = Network(\"data/edges.shp\")\n",
    "network = Network('data/GPS.nosync/street_nodes_dual.shp')\n",
    "print \"Nodes {} edges {}\".format(network.get_node_count(),network.get_edge_count())\n",
    "print(network)\n",
    "graph = NetworkGraph(network)"
   ],
   "outputs": [],
   "metadata": {}
  },
  {
   "cell_type": "markdown",
   "source": [
    "### Precompute an UBODT file\n",
    "\n",
    "**This step can be skipped if you already created one UBODT file.**"
   ],
   "metadata": {}
  },
  {
   "cell_type": "code",
   "execution_count": 4,
   "source": [
    "ubodt_gen = UBODTGenAlgorithm(network,graph)"
   ],
   "outputs": [],
   "metadata": {}
  },
  {
   "cell_type": "code",
   "execution_count": null,
   "source": [
    "status = ubodt_gen.generate_ubodt(\"data/GPS.nosync/street_dual_ubodt_new.txt\", 4, binary=False, use_omp=True)\n",
    "print status"
   ],
   "outputs": [],
   "metadata": {}
  },
  {
   "cell_type": "markdown",
   "source": [
    "### Load UBODT data"
   ],
   "metadata": {}
  },
  {
   "cell_type": "code",
   "execution_count": 7,
   "source": [
    "ubodt = UBODT.read_ubodt_csv(\"data/GPS.nosync/street_dual_ubodt_new.txt\")"
   ],
   "outputs": [],
   "metadata": {}
  },
  {
   "cell_type": "markdown",
   "source": [
    "### Create FMM model"
   ],
   "metadata": {}
  },
  {
   "cell_type": "code",
   "execution_count": 8,
   "source": [
    "model = FastMapMatch(network,graph,ubodt)"
   ],
   "outputs": [],
   "metadata": {}
  },
  {
   "cell_type": "markdown",
   "source": [
    "### Define FMM configuration"
   ],
   "metadata": {}
  },
  {
   "cell_type": "code",
   "execution_count": 74,
   "source": [
    "# k = 50\n",
    "# radius = 100\n",
    "# gps_error = 50\n",
    "k = 64\n",
    "radius = 10\n",
    "gps_error = 50\n",
    "fmm_config = FastMapMatchConfig(k,radius,gps_error)"
   ],
   "outputs": [],
   "metadata": {}
  },
  {
   "cell_type": "markdown",
   "source": [
    "### Run map matching"
   ],
   "metadata": {}
  },
  {
   "cell_type": "markdown",
   "source": [
    "#### Match a single trajectory"
   ],
   "metadata": {}
  },
  {
   "cell_type": "code",
   "execution_count": 10,
   "source": [
    "#wkt = \"LINESTRING(0.200812146892656 2.14088983050848,1.44262005649717 2.14879943502825,3.06408898305084 2.16066384180791,3.06408898305084 2.7103813559322,3.70872175141242 2.97930790960452,4.11606638418078 2.62337570621469)\""
   ],
   "outputs": [],
   "metadata": {}
  },
  {
   "cell_type": "code",
   "execution_count": 96,
   "source": [
    "def get_sub_result(input_path, output_path, index):\n",
    "  input_source = input_path + str(index) + '-points.txt'\n",
    "  out_dir = output_path + 'sub-result-' + str(index)\n",
    "  if (os.path.isfile(input_source)) & (not os.path.isdir(out_dir)):\n",
    "    wkt = getPoints(input_source)\n",
    "    result = model.match_wkt(wkt,fmm_config)\n",
    "    if len(list(result.cpath)) > 0:\n",
    "      #dir = output_path + 'sub-result-' + str(index)\n",
    "      os.mkdir(out_dir)\n",
    "      output_base = out_dir + '/' + str(index)\n",
    "      save_results(output_base,str(list(result.cpath)), str(list(result.opath)),str(list(result.indices)),result.mgeom.export_wkt(),result.pgeom.export_wkt())\n",
    "      print('index %d sucess!' % index)\n",
    "    else:\n",
    "      print('index %d failed!' % index)\n",
    "\n"
   ],
   "outputs": [],
   "metadata": {}
  },
  {
   "cell_type": "code",
   "execution_count": 98,
   "source": [
    "#get_sub_result('data/GPS.nosync/points/', 'data/GPS.nosync/output/', 4)"
   ],
   "outputs": [],
   "metadata": {}
  },
  {
   "cell_type": "code",
   "execution_count": null,
   "source": [
    "for index in range(5,999):\n",
    "  get_sub_result('data/GPS.nosync/points/', 'data/GPS.nosync/output/', index)"
   ],
   "outputs": [],
   "metadata": {}
  },
  {
   "cell_type": "code",
   "execution_count": 82,
   "source": [
    "wkt = getPoints('data/GPS.nosync/points/4-points.txt')\n",
    "#wkt = getPoints('data/GPS.nosync/output/00074014459977889ff22e04d309cbc68fb1720990d2d6a7251eb6c17fbf5f72-points.txt')"
   ],
   "outputs": [],
   "metadata": {}
  },
  {
   "cell_type": "code",
   "execution_count": null,
   "source": [
    "result = model.match_wkt(wkt,fmm_config)\n",
    "print \"Matched path: \", list(result.cpath)\n",
    "# print \"Matched edge for each point: \", list(result.opath)\n",
    "# print \"Matched edge index \",list(result.indices)\n",
    "# print \"Matched geometry: \",result.mgeom.export_wkt()\n",
    "# print \"Matched point \", result.pgeom.export_wkt()"
   ],
   "outputs": [],
   "metadata": {}
  },
  {
   "cell_type": "code",
   "execution_count": null,
   "source": [
    "len(list(result.cpath)) > 1"
   ],
   "outputs": [],
   "metadata": {}
  },
  {
   "cell_type": "code",
   "execution_count": null,
   "source": [
    "save_results('data/GPS.nosync/output/0-00074',str(list(result.cpath)), str(list(result.opath)),str(list(result.indices)),result.mgeom.export_wkt(),result.pgeom.export_wkt())"
   ],
   "outputs": [],
   "metadata": {}
  },
  {
   "cell_type": "markdown",
   "source": [
    "##Print detailed match information"
   ],
   "metadata": {}
  },
  {
   "cell_type": "code",
   "execution_count": null,
   "source": [
    "candidates = []\n",
    "for c in result.candidates:\n",
    "    candidates.append((c.edge_id,c.source,c.target,c.error,c.length,c.offset,c.spdist,c.ep,c.tp))"
   ],
   "outputs": [],
   "metadata": {}
  },
  {
   "cell_type": "code",
   "execution_count": null,
   "source": [
    "import pandas as pd\n",
    "df = pd.DataFrame(candidates,\n",
    "                  columns=[\"eid\",\"source\",\"target\",\"error\",\"length\",\"offset\",\"spdist\",\"ep\",\"tp\"])"
   ],
   "outputs": [],
   "metadata": {}
  },
  {
   "cell_type": "code",
   "execution_count": null,
   "source": [
    "df.head()"
   ],
   "outputs": [],
   "metadata": {}
  },
  {
   "cell_type": "markdown",
   "source": [
    "#### Match trajectories in a GPS file"
   ],
   "metadata": {}
  },
  {
   "cell_type": "code",
   "execution_count": null,
   "source": [
    "from fmm import GPSConfig,ResultConfig"
   ],
   "outputs": [],
   "metadata": {}
  },
  {
   "cell_type": "code",
   "execution_count": null,
   "source": [
    "input_config = GPSConfig()\n",
    "input_config.file = \"../data/trips.csv\"\n",
    "input_config.id = \"id\""
   ],
   "outputs": [],
   "metadata": {}
  },
  {
   "cell_type": "code",
   "execution_count": null,
   "source": [
    "print input_config.to_string()"
   ],
   "outputs": [],
   "metadata": {}
  },
  {
   "cell_type": "code",
   "execution_count": null,
   "source": [
    "result_config = ResultConfig()\n",
    "result_config.file = \"../data/mr.txt\"\n",
    "result_config.output_config.write_opath = True\n",
    "print result_config.to_string()"
   ],
   "outputs": [],
   "metadata": {}
  },
  {
   "cell_type": "code",
   "execution_count": null,
   "source": [
    "status = model.match_gps_file(input_config, result_config, fmm_config)"
   ],
   "outputs": [],
   "metadata": {}
  },
  {
   "cell_type": "code",
   "execution_count": null,
   "source": [
    "print status"
   ],
   "outputs": [],
   "metadata": {}
  },
  {
   "cell_type": "code",
   "execution_count": null,
   "source": [
    "\n",
    "\n",
    "filename = \"../data/in_zone_grouped_evacuation_stops.parquet\" \n",
    "\n",
    "\n",
    "\n",
    "df = pq.read_table(source=filename).to_pandas()"
   ],
   "outputs": [],
   "metadata": {}
  },
  {
   "cell_type": "code",
   "execution_count": null,
   "source": [
    "print(df.loc[100])"
   ],
   "outputs": [],
   "metadata": {}
  }
 ],
 "metadata": {
  "kernelspec": {
   "name": "python3",
   "display_name": "Python 2.7.16 64-bit"
  },
  "language_info": {
   "mimetype": "text/x-python",
   "nbconvert_exporter": "python",
   "name": "python",
   "pygments_lexer": "ipython2",
   "version": "2.7.16",
   "file_extension": ".py",
   "codemirror_mode": {
    "version": 2,
    "name": "ipython"
   }
  },
  "toc": {
   "base_numbering": 1,
   "nav_menu": {},
   "number_sections": true,
   "sideBar": true,
   "skip_h1_title": false,
   "title_cell": "Table of Contents",
   "title_sidebar": "Contents",
   "toc_cell": false,
   "toc_position": {},
   "toc_section_display": true,
   "toc_window_display": true
  },
  "interpreter": {
   "hash": "767d51c1340bd893661ea55ea3124f6de3c7a262a8b4abca0554b478b1e2ff90"
  }
 },
 "nbformat": 4,
 "nbformat_minor": 2
}