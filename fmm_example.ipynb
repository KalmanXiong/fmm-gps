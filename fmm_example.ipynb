{
 "cells": [
  {
   "cell_type": "markdown",
   "source": [
    "## Demo of fmm Python API"
   ],
   "metadata": {}
  },
  {
   "cell_type": "code",
   "execution_count": 1,
   "source": [
    "from fmm import Network,NetworkGraph,FastMapMatch,FastMapMatchConfig,UBODT\n",
    "from fmm import UBODTGenAlgorithm\n",
    "#! pip2 install pyarrow\n",
    "import pyarrow\n",
    "import pyarrow.parquet as pq"
   ],
   "outputs": [],
   "metadata": {}
  },
  {
   "cell_type": "code",
   "execution_count": 2,
   "source": [
    "import os\n",
    "def getPoints(file_path):\n",
    "    if os.path.isfile(file_path):\n",
    "        text_file = open(file_path, \"r\")\n",
    "        wkt = text_file.read()\n",
    "        text_file.close()\n",
    "    return wkt\n",
    "def save_results(file_base_name, cpath, opath, indices, m_wkt, e_wkt):\n",
    "  text_file = open(file_base_name + '-cpath.txt', \"w\")\n",
    "  text_file.write(cpath)\n",
    "  text_file.close()\n",
    "  text_file = open(file_base_name + '-opath.txt', \"w\")\n",
    "  text_file.write(opath)\n",
    "  text_file.close()\n",
    "  text_file = open(file_base_name + '-indices.txt', \"w\")\n",
    "  text_file.write(indices)\n",
    "  text_file.close()\n",
    "  text_file = open(file_base_name + '-m_wkt.txt', \"w\")\n",
    "  text_file.write(m_wkt)\n",
    "  text_file.close()\n",
    "  text_file = open(file_base_name + '-e_wkt.txt', \"w\")\n",
    "  text_file.write(e_wkt)\n",
    "  text_file.close()"
   ],
   "outputs": [],
   "metadata": {}
  },
  {
   "cell_type": "markdown",
   "source": [
    "### Load network data and graph"
   ],
   "metadata": {}
  },
  {
   "cell_type": "code",
   "execution_count": 4,
   "source": [
    "network = Network(\"data/edges.shp\")\n",
    "#network = Network(\"street_nodes_dual.shp\")\n",
    "print \"Nodes {} edges {}\".format(network.get_node_count(),network.get_edge_count())\n",
    "print(network)\n",
    "graph = NetworkGraph(network)"
   ],
   "outputs": [
    {
     "output_type": "stream",
     "name": "stdout",
     "text": [
      "Nodes 17 edges 30\n",
      "<fmm.Network; proxy of <Swig Object of type 'FMM::NETWORK::Network *' at 0x11c2ad750> >\n"
     ]
    }
   ],
   "metadata": {}
  },
  {
   "cell_type": "markdown",
   "source": [
    "### Precompute an UBODT file\n",
    "\n",
    "**This step can be skipped if you already created one UBODT file.**"
   ],
   "metadata": {}
  },
  {
   "cell_type": "code",
   "execution_count": 5,
   "source": [
    "ubodt_gen = UBODTGenAlgorithm(network,graph)"
   ],
   "outputs": [],
   "metadata": {}
  },
  {
   "cell_type": "code",
   "execution_count": 6,
   "source": [
    "status = ubodt_gen.generate_ubodt(\"data/tmp.txt\", 4, binary=False, use_omp=True)\n",
    "print status"
   ],
   "outputs": [
    {
     "output_type": "stream",
     "name": "stdout",
     "text": [
      "Status: success\n",
      "Time takes 0.009 seconds\n",
      "\n"
     ]
    }
   ],
   "metadata": {}
  },
  {
   "cell_type": "markdown",
   "source": [
    "### Load UBODT data"
   ],
   "metadata": {}
  },
  {
   "cell_type": "code",
   "execution_count": 7,
   "source": [
    "ubodt = UBODT.read_ubodt_csv(\"data/tmp.txt\")"
   ],
   "outputs": [],
   "metadata": {}
  },
  {
   "cell_type": "markdown",
   "source": [
    "### Create FMM model"
   ],
   "metadata": {}
  },
  {
   "cell_type": "code",
   "execution_count": 8,
   "source": [
    "model = FastMapMatch(network,graph,ubodt)"
   ],
   "outputs": [],
   "metadata": {}
  },
  {
   "cell_type": "markdown",
   "source": [
    "### Define FMM configuration"
   ],
   "metadata": {}
  },
  {
   "cell_type": "code",
   "execution_count": 9,
   "source": [
    "# k = 50\n",
    "# radius = 100\n",
    "# gps_error = 50\n",
    "k = 4\n",
    "radius = 10\n",
    "gps_error = 5\n",
    "fmm_config = FastMapMatchConfig(k,radius,gps_error)"
   ],
   "outputs": [],
   "metadata": {}
  },
  {
   "cell_type": "markdown",
   "source": [
    "### Run map matching"
   ],
   "metadata": {}
  },
  {
   "cell_type": "markdown",
   "source": [
    "#### Match a single trajectory"
   ],
   "metadata": {}
  },
  {
   "cell_type": "code",
   "execution_count": 10,
   "source": [
    "wkt = \"LINESTRING(0.200812146892656 2.14088983050848,1.44262005649717 2.14879943502825,3.06408898305084 2.16066384180791,3.06408898305084 2.7103813559322,3.70872175141242 2.97930790960452,4.11606638418078 2.62337570621469)\""
   ],
   "outputs": [],
   "metadata": {}
  },
  {
   "cell_type": "code",
   "execution_count": null,
   "source": [
    "# wkt = getPoints('text.txt')\n",
    "# wkt"
   ],
   "outputs": [],
   "metadata": {}
  },
  {
   "cell_type": "code",
   "execution_count": 13,
   "source": [
    "wkt = getPoints('../data/GPS.nosync/output/00074014459977889ff22e04d309cbc68fb1720990d2d6a7251eb6c17fbf5f72-points.txt')"
   ],
   "outputs": [],
   "metadata": {}
  },
  {
   "cell_type": "code",
   "execution_count": 11,
   "source": [
    "result = model.match_wkt(wkt,fmm_config)\n",
    "print \"Matched path: \", list(result.cpath)\n",
    "print \"Matched edge for each point: \", list(result.opath)\n",
    "print \"Matched edge index \",list(result.indices)\n",
    "print \"Matched geometry: \",result.mgeom.export_wkt()\n",
    "print \"Matched point \", result.pgeom.export_wkt()"
   ],
   "outputs": [
    {
     "output_type": "stream",
     "name": "stdout",
     "text": [
      "Matched path:  [8, 11, 13, 18, 20]\n",
      "Matched edge for each point:  [8, 11, 18, 18, 20, 20]\n",
      "Matched edge index  [0, 1, 3, 3, 4, 4]\n",
      "Matched geometry:  LINESTRING(0.20081215 2,1 2,2 2,3 2,3 3,4 3)\n",
      "Matched point  LINESTRING(0.20081215 2,1.4426201 2,3 2.1606638,3 2.7103814,3.7087218 3,4 3)\n"
     ]
    }
   ],
   "metadata": {}
  },
  {
   "cell_type": "code",
   "execution_count": 32,
   "source": [
    "save_results('../data/GPS.nosync/output/test002',str(list(result.cpath)), str(list(result.opath)),str(list(result.indices)),result.mgeom.export_wkt(),result.pgeom.export_wkt())"
   ],
   "outputs": [],
   "metadata": {}
  },
  {
   "cell_type": "markdown",
   "source": [
    "##Print detailed match information"
   ],
   "metadata": {}
  },
  {
   "cell_type": "code",
   "execution_count": null,
   "source": [
    "candidates = []\n",
    "for c in result.candidates:\n",
    "    candidates.append((c.edge_id,c.source,c.target,c.error,c.length,c.offset,c.spdist,c.ep,c.tp))"
   ],
   "outputs": [],
   "metadata": {}
  },
  {
   "cell_type": "code",
   "execution_count": null,
   "source": [
    "import pandas as pd\n",
    "df = pd.DataFrame(candidates,\n",
    "                  columns=[\"eid\",\"source\",\"target\",\"error\",\"length\",\"offset\",\"spdist\",\"ep\",\"tp\"])"
   ],
   "outputs": [],
   "metadata": {}
  },
  {
   "cell_type": "code",
   "execution_count": null,
   "source": [
    "df.head()"
   ],
   "outputs": [],
   "metadata": {}
  },
  {
   "cell_type": "markdown",
   "source": [
    "#### Match trajectories in a GPS file"
   ],
   "metadata": {}
  },
  {
   "cell_type": "code",
   "execution_count": null,
   "source": [
    "from fmm import GPSConfig,ResultConfig"
   ],
   "outputs": [],
   "metadata": {}
  },
  {
   "cell_type": "code",
   "execution_count": null,
   "source": [
    "input_config = GPSConfig()\n",
    "input_config.file = \"../data/trips.csv\"\n",
    "input_config.id = \"id\""
   ],
   "outputs": [],
   "metadata": {}
  },
  {
   "cell_type": "code",
   "execution_count": null,
   "source": [
    "print input_config.to_string()"
   ],
   "outputs": [],
   "metadata": {}
  },
  {
   "cell_type": "code",
   "execution_count": null,
   "source": [
    "result_config = ResultConfig()\n",
    "result_config.file = \"../data/mr.txt\"\n",
    "result_config.output_config.write_opath = True\n",
    "print result_config.to_string()"
   ],
   "outputs": [],
   "metadata": {}
  },
  {
   "cell_type": "code",
   "execution_count": null,
   "source": [
    "status = model.match_gps_file(input_config, result_config, fmm_config)"
   ],
   "outputs": [],
   "metadata": {}
  },
  {
   "cell_type": "code",
   "execution_count": null,
   "source": [
    "print status"
   ],
   "outputs": [],
   "metadata": {}
  },
  {
   "cell_type": "code",
   "execution_count": null,
   "source": [
    "\n"
   ],
   "outputs": [],
   "metadata": {}
  },
  {
   "cell_type": "code",
   "execution_count": null,
   "source": [
    "\n",
    "\n",
    "filename = \"../data/in_zone_grouped_evacuation_stops.parquet\" \n",
    "\n",
    "\n",
    "\n",
    "df = pq.read_table(source=filename).to_pandas()"
   ],
   "outputs": [],
   "metadata": {}
  },
  {
   "cell_type": "code",
   "execution_count": null,
   "source": [
    "print(df.loc[100])"
   ],
   "outputs": [],
   "metadata": {}
  }
 ],
 "metadata": {
  "kernelspec": {
   "name": "python3",
   "display_name": "Python 2.7.16 64-bit"
  },
  "language_info": {
   "mimetype": "text/x-python",
   "nbconvert_exporter": "python",
   "name": "python",
   "pygments_lexer": "ipython2",
   "version": "2.7.16",
   "file_extension": ".py",
   "codemirror_mode": {
    "version": 2,
    "name": "ipython"
   }
  },
  "toc": {
   "base_numbering": 1,
   "nav_menu": {},
   "number_sections": true,
   "sideBar": true,
   "skip_h1_title": false,
   "title_cell": "Table of Contents",
   "title_sidebar": "Contents",
   "toc_cell": false,
   "toc_position": {},
   "toc_section_display": true,
   "toc_window_display": true
  },
  "interpreter": {
   "hash": "767d51c1340bd893661ea55ea3124f6de3c7a262a8b4abca0554b478b1e2ff90"
  }
 },
 "nbformat": 4,
 "nbformat_minor": 2
}