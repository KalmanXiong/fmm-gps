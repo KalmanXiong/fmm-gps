{
 "cells": [
  {
   "cell_type": "code",
   "execution_count": 1,
   "source": [
    "import geopandas as gpd\n",
    "import pyarrow\n",
    "import pandas as pd"
   ],
   "outputs": [],
   "metadata": {}
  },
  {
   "cell_type": "code",
   "execution_count": 17,
   "source": [
    "target_2631 = pd.read_parquet('data/GPS.nosync/filter/Sonoma_2631_new', engine='pyarrow')"
   ],
   "outputs": [],
   "metadata": {}
  },
  {
   "cell_type": "code",
   "execution_count": 18,
   "source": [
    "target_2631.head()"
   ],
   "outputs": [
    {
     "output_type": "execute_result",
     "data": {
      "text/html": [
       "<div>\n",
       "<style scoped>\n",
       "    .dataframe tbody tr th:only-of-type {\n",
       "        vertical-align: middle;\n",
       "    }\n",
       "\n",
       "    .dataframe tbody tr th {\n",
       "        vertical-align: top;\n",
       "    }\n",
       "\n",
       "    .dataframe thead th {\n",
       "        text-align: right;\n",
       "    }\n",
       "</style>\n",
       "<table border=\"1\" class=\"dataframe\">\n",
       "  <thead>\n",
       "    <tr style=\"text-align: right;\">\n",
       "      <th></th>\n",
       "      <th>utc_timestamp</th>\n",
       "      <th>caid</th>\n",
       "      <th>geo_hash</th>\n",
       "      <th>latitude</th>\n",
       "      <th>longitude</th>\n",
       "      <th>utc_datetime</th>\n",
       "      <th>la_datetime</th>\n",
       "      <th>hour</th>\n",
       "      <th>lat_epsg_3857</th>\n",
       "      <th>lon_epsg_3857</th>\n",
       "    </tr>\n",
       "  </thead>\n",
       "  <tbody>\n",
       "    <tr>\n",
       "      <th>0</th>\n",
       "      <td>1572117649</td>\n",
       "      <td>0000dec3ca31d5b1b07771650fb6ee077059a5a579f0e3...</td>\n",
       "      <td>9qbdwqx8v</td>\n",
       "      <td>38.444053</td>\n",
       "      <td>-122.76167</td>\n",
       "      <td>2019-10-26 19:20:49+00:00</td>\n",
       "      <td>2019-10-26 12:20:49-07:00</td>\n",
       "      <td>12</td>\n",
       "      <td>-1.366577e+07</td>\n",
       "      <td>4.642347e+06</td>\n",
       "    </tr>\n",
       "    <tr>\n",
       "      <th>1</th>\n",
       "      <td>1572142983</td>\n",
       "      <td>0000dec3ca31d5b1b07771650fb6ee077059a5a579f0e3...</td>\n",
       "      <td>9qbdwqx8v</td>\n",
       "      <td>38.444056</td>\n",
       "      <td>-122.76167</td>\n",
       "      <td>2019-10-27 02:23:03+00:00</td>\n",
       "      <td>2019-10-26 19:23:03-07:00</td>\n",
       "      <td>19</td>\n",
       "      <td>-1.366577e+07</td>\n",
       "      <td>4.642347e+06</td>\n",
       "    </tr>\n",
       "    <tr>\n",
       "      <th>2</th>\n",
       "      <td>1572180736</td>\n",
       "      <td>0000dec3ca31d5b1b07771650fb6ee077059a5a579f0e3...</td>\n",
       "      <td>9qbdwwdxk</td>\n",
       "      <td>38.445193</td>\n",
       "      <td>-122.75760</td>\n",
       "      <td>2019-10-27 12:52:16+00:00</td>\n",
       "      <td>2019-10-27 05:52:16-07:00</td>\n",
       "      <td>5</td>\n",
       "      <td>-1.366531e+07</td>\n",
       "      <td>4.642509e+06</td>\n",
       "    </tr>\n",
       "    <tr>\n",
       "      <th>3</th>\n",
       "      <td>1572216715</td>\n",
       "      <td>0000dec3ca31d5b1b07771650fb6ee077059a5a579f0e3...</td>\n",
       "      <td>9r4besxm0</td>\n",
       "      <td>39.488493</td>\n",
       "      <td>-119.71904</td>\n",
       "      <td>2019-10-27 22:51:55+00:00</td>\n",
       "      <td>2019-10-27 15:51:55-07:00</td>\n",
       "      <td>15</td>\n",
       "      <td>-1.332706e+07</td>\n",
       "      <td>4.791888e+06</td>\n",
       "    </tr>\n",
       "    <tr>\n",
       "      <th>4</th>\n",
       "      <td>1572171617</td>\n",
       "      <td>000240069cae6c8106ed10b34ac23e734f7e156a9e170d...</td>\n",
       "      <td>9qbdpsyqx</td>\n",
       "      <td>38.347546</td>\n",
       "      <td>-122.70838</td>\n",
       "      <td>2019-10-27 10:20:17+00:00</td>\n",
       "      <td>2019-10-27 03:20:17-07:00</td>\n",
       "      <td>3</td>\n",
       "      <td>-1.365983e+07</td>\n",
       "      <td>4.628639e+06</td>\n",
       "    </tr>\n",
       "  </tbody>\n",
       "</table>\n",
       "</div>"
      ],
      "text/plain": [
       "   utc_timestamp                                               caid  \\\n",
       "0     1572117649  0000dec3ca31d5b1b07771650fb6ee077059a5a579f0e3...   \n",
       "1     1572142983  0000dec3ca31d5b1b07771650fb6ee077059a5a579f0e3...   \n",
       "2     1572180736  0000dec3ca31d5b1b07771650fb6ee077059a5a579f0e3...   \n",
       "3     1572216715  0000dec3ca31d5b1b07771650fb6ee077059a5a579f0e3...   \n",
       "4     1572171617  000240069cae6c8106ed10b34ac23e734f7e156a9e170d...   \n",
       "\n",
       "    geo_hash   latitude  longitude              utc_datetime  \\\n",
       "0  9qbdwqx8v  38.444053 -122.76167 2019-10-26 19:20:49+00:00   \n",
       "1  9qbdwqx8v  38.444056 -122.76167 2019-10-27 02:23:03+00:00   \n",
       "2  9qbdwwdxk  38.445193 -122.75760 2019-10-27 12:52:16+00:00   \n",
       "3  9r4besxm0  39.488493 -119.71904 2019-10-27 22:51:55+00:00   \n",
       "4  9qbdpsyqx  38.347546 -122.70838 2019-10-27 10:20:17+00:00   \n",
       "\n",
       "                la_datetime  hour  lat_epsg_3857  lon_epsg_3857  \n",
       "0 2019-10-26 12:20:49-07:00    12  -1.366577e+07   4.642347e+06  \n",
       "1 2019-10-26 19:23:03-07:00    19  -1.366577e+07   4.642347e+06  \n",
       "2 2019-10-27 05:52:16-07:00     5  -1.366531e+07   4.642509e+06  \n",
       "3 2019-10-27 15:51:55-07:00    15  -1.332706e+07   4.791888e+06  \n",
       "4 2019-10-27 03:20:17-07:00     3  -1.365983e+07   4.628639e+06  "
      ]
     },
     "metadata": {},
     "execution_count": 18
    }
   ],
   "metadata": {}
  },
  {
   "cell_type": "code",
   "execution_count": 19,
   "source": [
    "import os\n",
    "def write_file(filename, info):\n",
    "  text_file = open(filename, \"w\")\n",
    "  text_file.write(info)\n",
    "  text_file.close()"
   ],
   "outputs": [],
   "metadata": {}
  },
  {
   "cell_type": "code",
   "execution_count": null,
   "source": [
    "start_index = 0\n",
    "start_id = target_2631.loc[start_index]['caid']\n",
    "print(\"start index: %d, caid: %s\" %(0, start_id))\n",
    "end = 200000\n",
    "for index in range(0, end):\n",
    "  data_id = target_2631.loc[index]['caid']\n",
    "  if data_id != start_id:\n",
    "    print(\"end index: %d, caid: %s\" %(index - 1, target_2631.loc[index - 1]['caid']))\n",
    "    print(\"total points: %d\" %(index - start_index))\n",
    "    start_index = index\n",
    "    start_id = data_id\n",
    "    print(\"start index: %d, caid: %s\" %(index, data_id))\n",
    "print(\"end index: %d, caid: %s\" %(end, target_2631.loc[end]['caid']))\n",
    "\n"
   ],
   "outputs": [],
   "metadata": {}
  },
  {
   "cell_type": "code",
   "execution_count": null,
   "source": [
    "import geopandas as gpd\n",
    "res = 'LINESTRING('\n",
    "df = pd.DataFrame(\n",
    "    {'Latitude': [float(target_2631.loc[2797]['latitude'])],\n",
    "     'Longitude': [float(target_2631.loc[2797]['longitude'])]})\n",
    "\n",
    "#for index in range_:\n",
    "start_index = 534\n",
    "end_index = 2781\n",
    "for index in range(start_index,end_index):\n",
    "  \n",
    "  single_data = target_2631.loc[index]\n",
    "  if ((single_data['latitude'] < 38.85) & (single_data['latitude'] > 38.099) & (single_data['longitude'] < -122.35) & (single_data['longitude'] > -123.55)):\n",
    "    lat = float(single_data['latitude'])\n",
    "    lon = float(single_data['longitude'])\n",
    "    df.loc[len(df.index)] = [float(lat),float(lon)] \n",
    "    res+= (str(lon) + ' ')\n",
    "    if index != end_index - 1:\n",
    "      res+= (str(lat) + ',')\n",
    "    else:\n",
    "      res+= (str(lat))\n",
    "res+=')'\n",
    "df = df[1:-1]\n",
    "gdf = gpd.GeoDataFrame(\n",
    "    df, geometry=gpd.points_from_xy(df.Longitude, df.Latitude))\n",
    "write_file('data/GPS.nosync/output/' + target_2631.loc[start_index]['caid']+'-points.txt', res)"
   ],
   "outputs": [],
   "metadata": {}
  },
  {
   "cell_type": "code",
   "execution_count": null,
   "source": [
    "len(gdf)"
   ],
   "outputs": [],
   "metadata": {}
  },
  {
   "cell_type": "code",
   "execution_count": null,
   "source": [
    "streets = gpd.read_file('data/GPS.nosync/Streets/Streets.shp')"
   ],
   "outputs": [],
   "metadata": {}
  },
  {
   "cell_type": "code",
   "execution_count": null,
   "source": [
    "file_path1 = \"data/GPS.nosync/output/test002-m_wkt.txt\"\n",
    "file_path2 = \"data/GPS.nosync/output/test002-e_wkt.txt\"\n",
    "#check if file is present\n",
    "if os.path.isfile(file_path1):\n",
    "    #open text file in read mode\n",
    "    text_file = open(file_path1, \"r\")\n",
    " \n",
    "    #read whole file to a string\n",
    "    wkt1 = text_file.read()\n",
    " \n",
    "    #close file\n",
    "    text_file.close()\n",
    "if os.path.isfile(file_path2):\n",
    "    #open text file in read mode\n",
    "    text_file = open(file_path2, \"r\")\n",
    " \n",
    "    #read whole file to a string\n",
    "    wkt2 = text_file.read()\n",
    " \n",
    "    #close file\n",
    "    text_file.close()\n",
    "d1 = {'col1': ['name1', 'name2'], 'wkt': wkt1}\n",
    "d2 = {'col1': ['name1', 'name2'], 'wkt': wkt2}\n",
    "df = pd.DataFrame(d1)\n",
    "gs = gpd.GeoSeries.from_wkt(df['wkt'])\n",
    "gdf1 = gpd.GeoDataFrame(df, geometry=gs, crs=\"EPSG:4326\")\n",
    "df = pd.DataFrame(d2)\n",
    "gs = gpd.GeoSeries.from_wkt(df['wkt'])\n",
    "gdf2 = gpd.GeoDataFrame(df, geometry=gs, crs=\"EPSG:4326\")\n"
   ],
   "outputs": [],
   "metadata": {}
  },
  {
   "cell_type": "code",
   "execution_count": null,
   "source": [
    "import matplotlib.pyplot as plt\n",
    "fig, ax = plt.subplots(figsize=(8, 8))\n",
    "streets.plot(ax=ax, color='black', LineWidth = 1)\n",
    "#gdf2.plot(ax=ax, color='green',LineWidth = 2)\n",
    "gdf.plot(ax=ax, color='blue', LineWidth = 2)\n",
    "#gdf1.plot(ax=ax, color='red',LineWidth = 2)"
   ],
   "outputs": [],
   "metadata": {}
  },
  {
   "cell_type": "code",
   "execution_count": 111,
   "source": [
    "parts = streets[1:10000]\n",
    "parts['points'] = parts.apply(lambda x: [y for y in x['geometry'].coords], axis=1)\n",
    "len(parts)"
   ],
   "outputs": [
    {
     "output_type": "stream",
     "name": "stderr",
     "text": [
      "/Users/xiongruoyang/miniconda3/lib/python3.9/site-packages/geopandas/geodataframe.py:1351: SettingWithCopyWarning: \n",
      "A value is trying to be set on a copy of a slice from a DataFrame.\n",
      "Try using .loc[row_indexer,col_indexer] = value instead\n",
      "\n",
      "See the caveats in the documentation: https://pandas.pydata.org/pandas-docs/stable/user_guide/indexing.html#returning-a-view-versus-a-copy\n",
      "  super().__setitem__(key, value)\n"
     ]
    },
    {
     "output_type": "execute_result",
     "data": {
      "text/plain": [
       "9999"
      ]
     },
     "metadata": {},
     "execution_count": 111
    }
   ],
   "metadata": {}
  },
  {
   "cell_type": "code",
   "execution_count": null,
   "source": [
    "import folium\n",
    "map = folium.Map(location = [4,10], tiles = \"Stamen Terrain\", zoom_start = 3)"
   ],
   "outputs": [],
   "metadata": {}
  },
  {
   "cell_type": "code",
   "execution_count": null,
   "source": [
    "from folium import plugins\n",
    "\n",
    "map = folium.Map(location=[38.447135, -122.76633], tiles='OpenStreetMap',zoom_start=12)\n",
    "\n",
    "#heat_data = [gdf2.points[0],gdf2.points[1]]\n",
    "#heat_data[1] = \n",
    "heat_data = [[point[1], point[0]] for point in gdf2['points'][0] ]\n",
    "for point in gdf2['points'][1]:\n",
    "  heat_data.append([point[1],point[0]])\n",
    "for points in parts['points']:\n",
    "  for p in points:\n",
    "    heat_data.append([p[1],p[0]])\n",
    "heat_data\n",
    "plugins.HeatMap(heat_data).add_to(map)\n",
    "map\n"
   ],
   "outputs": [],
   "metadata": {}
  },
  {
   "cell_type": "code",
   "execution_count": 113,
   "source": [
    "map.save(\"index.html\")"
   ],
   "outputs": [],
   "metadata": {}
  },
  {
   "cell_type": "code",
   "execution_count": null,
   "source": [
    "plugins.HeatMap(heat_data).add_to(map)\n",
    "map"
   ],
   "outputs": [],
   "metadata": {}
  },
  {
   "cell_type": "markdown",
   "source": [],
   "metadata": {}
  }
 ],
 "metadata": {
  "orig_nbformat": 4,
  "language_info": {
   "name": "python",
   "version": "3.9.9",
   "mimetype": "text/x-python",
   "codemirror_mode": {
    "name": "ipython",
    "version": 3
   },
   "pygments_lexer": "ipython3",
   "nbconvert_exporter": "python",
   "file_extension": ".py"
  },
  "kernelspec": {
   "name": "python3",
   "display_name": "Python 3.9.9 64-bit ('base': conda)"
  },
  "interpreter": {
   "hash": "cf0c8045f90f0b9de52b4978fb55a0ab5d32aa3e3e0b44a1c5dce2f35cf33b8e"
  }
 },
 "nbformat": 4,
 "nbformat_minor": 2
}