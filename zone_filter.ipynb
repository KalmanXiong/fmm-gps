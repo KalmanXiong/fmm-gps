{
 "cells": [
  {
   "cell_type": "code",
   "execution_count": null,
   "source": [
    "import geopandas as gpd\n",
    "import pyarrow\n",
    "import pandas as pd\n",
    "import os"
   ],
   "outputs": [],
   "metadata": {}
  },
  {
   "cell_type": "code",
   "execution_count": null,
   "source": [
    "target_2631 = pd.read_parquet('data/GPS.nosync/filter/Sonoma_2631_new', engine='pyarrow')"
   ],
   "outputs": [],
   "metadata": {}
  },
  {
   "cell_type": "code",
   "execution_count": null,
   "source": [
    "\n",
    "def write_file(filename, info):\n",
    "  text_file = open(filename, \"w\")\n",
    "  text_file.write(info)\n",
    "  text_file.close()"
   ],
   "outputs": [],
   "metadata": {}
  },
  {
   "cell_type": "code",
   "execution_count": null,
   "source": [
    "len(target_2631)"
   ],
   "outputs": [],
   "metadata": {}
  },
  {
   "cell_type": "code",
   "execution_count": null,
   "source": [
    "data = {'index': [-1], 'caid': [0], 'start_time' : [], 'end_time' : [], 'valid_count' : [], 'is_success' : [] }  \n",
    "  \n",
    "# Create DataFrame  \n",
    "df_new = pd.DataFrame(data)"
   ],
   "outputs": [],
   "metadata": {}
  },
  {
   "cell_type": "code",
   "execution_count": null,
   "source": [
    "df_new"
   ],
   "outputs": [],
   "metadata": {}
  },
  {
   "cell_type": "code",
   "execution_count": null,
   "source": [
    "start_index = 0\n",
    "start_id = target_2631.loc[start_index]['caid']\n",
    "start_time = target_2631.loc[start_index]['la_datetime']\n",
    "end_time = target_2631.loc[start_index]['la_datetime']\n",
    "#data = {'index': [-1], 'caid': [start_id], 'start_time' : [start_time], 'end_time' : [end_time], 'valid_count' : [0], 'is_success' : [False] }  \n",
    "df_new = pd.DataFrame(columns=['index', 'caid', 'start_time', 'end_time', 'valid_count', 'is_success'])\n",
    "# Create DataFrame  \n",
    "df_new = pd.DataFrame(data)\n",
    "print(\"start index: %d, caid: %s\" %(0, start_id))\n",
    "end = 4724838\n",
    "end_tmp = 500\n",
    "count = 3077\n",
    "valid_count = 0\n",
    "is_first = True\n",
    "for index in range(0, end):\n",
    "  data_id = target_2631.loc[index]['caid']\n",
    "  single_data = target_2631.loc[index]\n",
    "  is_data_valid = (single_data['latitude'] < 38.85) & (single_data['latitude'] > 38.099) & (single_data['longitude'] < -122.35) & (single_data['longitude'] > -123.55)\n",
    "  if is_data_valid:\n",
    "    valid_count+=1\n",
    "  if data_id != start_id:\n",
    "    # print(\"end index: %d, caid: %s\" %(index - 1, target_2631.loc[index - 1]['caid']))\n",
    "    print(\"total points: %d\" %(index - start_index))\n",
    "    if valid_count >= 9:\n",
    "       df_new.loc[count] = {'index': count, 'caid': target_2631.loc[index - 1]['caid'], 'start_time' : start_time, 'end_time' : target_2631.loc[index - 1]['la_datetime'], 'valid_count' : valid_count, 'is_success' : False }\n",
    "    is_first = True\n",
    "    count+=1\n",
    "    start_index = index\n",
    "    start_id = data_id\n",
    "    start_time = target_2631.loc[index]['la_datetime']\n",
    "    valid_count = 0\n",
    "  #df.loc[len(df.index)] = [float(lat),float(lon)]\n",
    "  # if is_data_valid:\n",
    "  #   if is_first:\n",
    "  #     is_first = False\n",
    "  #     if valid_count >= 49:\n",
    "  #       df_new.loc[count] = {'index': count, 'caid': target_2631.loc[index - 1]['caid'], 'start_time' : start_time, 'end_time' : target_2631.loc[index - 1]['la_datetime'], 'valid_count' : valid_count, 'is_success' : False }\n",
    "  #     valid_count = 0\n",
    "  #   else:\n",
    "  #       if valid_count >= 49:\n",
    "  #         df_new.loc[count] = {'index': count, 'caid': target_2631.loc[index - 1]['caid'], 'start_time' : start_time, 'end_time' : target_2631.loc[index - 1]['la_datetime'], 'valid_count' : valid_count, 'is_success' : False }\n",
    "  #       valid_count = 0\n",
    "\n",
    "    # print(\"start index: %d, caid: %s\" %(index, data_id))\n",
    "#print(\"end index: %d, caid: %s\" %(end, target_2631.loc[end]['caid']))"
   ],
   "outputs": [],
   "metadata": {}
  },
  {
   "cell_type": "code",
   "execution_count": null,
   "source": [
    "df_new.to_csv('out2.csv')"
   ],
   "outputs": [],
   "metadata": {}
  },
  {
   "cell_type": "code",
   "execution_count": null,
   "source": [
    "t1 = pd.Timestamp(year = 2019,  month = 10, day = 27,\n",
    "           hour = 3, minute = 20, second = 18, tz = 'US/Pacific')\n",
    "\n",
    "df_new.loc[3078]['start_time']\n",
    "\n"
   ],
   "outputs": [],
   "metadata": {}
  },
  {
   "cell_type": "code",
   "execution_count": null,
   "source": [
    "t1 > df_new.loc[3078]['start_time']"
   ],
   "outputs": [],
   "metadata": {}
  },
  {
   "cell_type": "code",
   "execution_count": null,
   "source": [
    "start_index = 0\n",
    "start_id = target_2631.loc[start_index]['caid']\n",
    "#print(\"start index: %d, caid: %s\" %(0, start_id))\n",
    "end = 200000\n",
    "count = 0\n",
    "for index in range(0, end):\n",
    "  data_id = target_2631.loc[index]['caid']\n",
    "  if data_id != start_id:\n",
    "    #print(\"end index: %d, caid: %s\" %(index - 1, target_2631.loc[index - 1]['caid']))\n",
    "    #print(\"total points: %d\" %(index - start_index))\n",
    "    print(\"%d start: %d, end: %d, total: %d, caid: %s\" %(count, start_index, index - 1, (index - start_index), data_id))\n",
    "    count+=1\n",
    "    start_index = index\n",
    "    start_id = data_id\n",
    "    \n",
    "    #print(\"start index: %d, caid: %s\" %(index, data_id))\n",
    "#print(\"end index: %d, caid: %s\" %(end, target_2631.loc[end]['caid']))\n",
    "\n"
   ],
   "outputs": [],
   "metadata": {}
  },
  {
   "cell_type": "code",
   "execution_count": null,
   "source": [
    "\n",
    "res = 'LINESTRING('\n",
    "df = pd.DataFrame(\n",
    "    {'Latitude': [float(target_2631.loc[72]['latitude'])],\n",
    "     'Longitude': [float(target_2631.loc[72]['longitude'])]})\n",
    "\n",
    "#for index in range_:\n",
    "start_index = 72\n",
    "end_index = 266\n",
    "is_first = True\n",
    "for index in range(start_index,end_index):\n",
    "  \n",
    "  single_data = target_2631.loc[index]\n",
    "  if ((single_data['latitude'] < 38.85) & (single_data['latitude'] > 38.099) & (single_data['longitude'] < -122.35) & (single_data['longitude'] > -123.55)):\n",
    "    lat = float(single_data['latitude'])\n",
    "    lon = float(single_data['longitude'])\n",
    "    df.loc[len(df.index)] = [float(lat),float(lon)]\n",
    "    if is_first:\n",
    "      is_first = False\n",
    "      res+= (str(lon) + ' ' + str(lat))\n",
    "    else:\n",
    "      res+= (',' + str(lon) + ' ' + str(lat))\n",
    "res+=')'\n",
    "df = df[0:-1]\n",
    "gdf = gpd.GeoDataFrame(\n",
    "    df, geometry=gpd.points_from_xy(df.Longitude, df.Latitude))\n",
    "write_file('data/GPS.nosync/output/' + target_2631.loc[start_index]['caid']+'-points.txt', res)"
   ],
   "outputs": [],
   "metadata": {}
  },
  {
   "cell_type": "code",
   "execution_count": null,
   "source": [
    "start_index = 0\n",
    "start_id = target_2631.loc[start_index]['caid']\n",
    "print(\"start index: %d, caid: %s\" %(0, start_id))\n",
    "end = 4724839\n",
    "end_tmp = 472483\n",
    "count = 0\n",
    "is_first = True\n",
    "res = 'LINESTRING('\n",
    "for index in range(0, end_tmp):\n",
    "  data_id = target_2631.loc[index]['caid']\n",
    "  single_data = target_2631.loc[index]\n",
    "  is_data_valid = (single_data['latitude'] < 38.85) & (single_data['latitude'] > 38.099) & (single_data['longitude'] < -122.35) & (single_data['longitude'] > -123.55)\n",
    "  if data_id != start_id:\n",
    "    # print(\"end index: %d, caid: %s\" %(index - 1, target_2631.loc[index - 1]['caid']))\n",
    "    # print(\"total points: %d\" %(index - start_index))\n",
    "    res+=')'\n",
    "    if (index - start_index) > 49:\n",
    "      write_file('data/GPS.nosync/points/' + str(count) +'-points.txt-tmp', res)\n",
    "    is_first = True\n",
    "    res = 'LINESTRING('\n",
    "    count+=1\n",
    "    start_index = index\n",
    "    start_id = data_id\n",
    "  lat = float(single_data['latitude'])\n",
    "  lon = float(single_data['longitude'])\n",
    "  #df.loc[len(df.index)] = [float(lat),float(lon)]\n",
    "  if is_data_valid:\n",
    "    if is_first:\n",
    "      is_first = False\n",
    "      res+= (str(lon) + ' ' + str(lat))\n",
    "    else:\n",
    "      res+= (',' + str(lon) + ' ' + str(lat))\n",
    "\n",
    "    # print(\"start index: %d, caid: %s\" %(index, data_id))\n",
    "#print(\"end index: %d, caid: %s\" %(end, target_2631.loc[end]['caid']))"
   ],
   "outputs": [],
   "metadata": {}
  },
  {
   "cell_type": "code",
   "execution_count": null,
   "source": [
    "streets = gpd.read_file('data/GPS.nosync/Streets/Streets.shp')"
   ],
   "outputs": [],
   "metadata": {}
  },
  {
   "cell_type": "code",
   "execution_count": null,
   "source": [
    "file_path1 = \"data/GPS.nosync/output_test/sub-result-1603/1603-m_wkt.txt\"\n",
    "file_path2 = \"data/GPS.nosync/output_test/sub-result-1603/1603-e_wkt.txt\"\n",
    "#check if file is present\n",
    "if os.path.isfile(file_path1):\n",
    "    #open text file in read mode\n",
    "    text_file = open(file_path1, \"r\")\n",
    " \n",
    "    #read whole file to a string\n",
    "    wkt1 = text_file.read()\n",
    " \n",
    "    #close file\n",
    "    text_file.close()\n",
    "if os.path.isfile(file_path2):\n",
    "    #open text file in read mode\n",
    "    text_file = open(file_path2, \"r\")\n",
    " \n",
    "    #read whole file to a string\n",
    "    wkt2 = text_file.read()\n",
    " \n",
    "    #close file\n",
    "    text_file.close()\n",
    "d1 = {'col1': ['name1', 'name2'], 'wkt': wkt1}\n",
    "d2 = {'col1': ['name1', 'name2'], 'wkt': wkt2}\n",
    "df = pd.DataFrame(d1)\n",
    "gs = gpd.GeoSeries.from_wkt(df['wkt'])\n",
    "gdf1 = gpd.GeoDataFrame(df, geometry=gs, crs=\"EPSG:4326\")\n",
    "df = pd.DataFrame(d2)\n",
    "gs = gpd.GeoSeries.from_wkt(df['wkt'])\n",
    "gdf2 = gpd.GeoDataFrame(df, geometry=gs, crs=\"EPSG:4326\")\n"
   ],
   "outputs": [],
   "metadata": {}
  },
  {
   "cell_type": "code",
   "execution_count": null,
   "source": [
    "import matplotlib.pyplot as plt\n",
    "fig, ax = plt.subplots(figsize=(8, 8))\n",
    "streets.plot(ax=ax, color='black', LineWidth = 2)\n",
    "gdf2.plot(ax=ax, color='green',LineWidth = 2)\n",
    "#gdf.plot(ax=ax, color='blue', LineWidth = 1)\n",
    "gdf1.plot(ax=ax, color='red',LineWidth = 1)"
   ],
   "outputs": [],
   "metadata": {}
  },
  {
   "cell_type": "code",
   "execution_count": null,
   "source": [
    "def get_gdf_from_res(file_path):\n",
    "  if os.path.isfile(file_path):\n",
    "    #open text file in read mode\n",
    "    text_file = open(file_path, \"r\")\n",
    "\n",
    "    #read whole file to a string\n",
    "    wkt = text_file.read()\n",
    "    #close file\n",
    "    text_file.close()\n",
    "    if (wkt.count(',') + 1) > 4:\n",
    "      d = {'col1': ['name1', 'name2'], 'wkt': wkt}\n",
    "      df = pd.DataFrame(d)\n",
    "      gs = gpd.GeoSeries.from_wkt(df['wkt'])\n",
    "      gdf = gpd.GeoDataFrame(df, geometry=gs, crs=\"EPSG:4326\")\n",
    "      gdf['points'] = gdf.apply(lambda x: [y for y in x['geometry'].coords], axis=1)\n",
    "      return gdf\n",
    "    else:\n",
    "      print('file_path %s contains so few points!' % file_path)\n",
    "      return gpd.GeoDataFrame({'A' : []})\n",
    "  else:\n",
    "    return gpd.GeoDataFrame({'A' : []})\n"
   ],
   "outputs": [],
   "metadata": {}
  },
  {
   "cell_type": "code",
   "execution_count": null,
   "source": [
    "30266 in df_new.index\n"
   ],
   "outputs": [],
   "metadata": {}
  },
  {
   "cell_type": "code",
   "execution_count": null,
   "source": [
    "#from folium import plugins\n",
    "#map = folium.Map(location=[38.447135, -122.76633], tiles='OpenStreetMap',zoom_start=12)\n",
    "t1 = pd.Timestamp(year = 2019,  month = 10, day = 25,\n",
    "           hour = 21, minute = 59, second = 59, tz = 'US/Pacific')\n",
    "t2 = pd.Timestamp(year = 2019,  month = 10, day = 26,\n",
    "           hour = 6, minute = 0, second = 0, tz = 'US/Pacific')\n",
    "t3 = pd.Timestamp(year = 2019,  month = 10, day = 26,\n",
    "           hour = 12, minute = 0, second = 0, tz = 'US/Pacific')\n",
    "t4 = pd.Timestamp(year = 2019,  month = 10, day = 26,\n",
    "           hour = 21, minute = 59, second = 59, tz = 'US/Pacific')\n",
    "t5 = pd.Timestamp(year = 2019,  month = 10, day = 27,\n",
    "           hour = 6, minute = 0, second = 0, tz = 'US/Pacific')\n",
    "t6 = pd.Timestamp(year = 2019,  month = 10, day = 27,\n",
    "           hour = 12, minute = 0, second = 0, tz = 'US/Pacific')\n",
    "t7 = pd.Timestamp(year = 2019,  month = 10, day = 27,\n",
    "           hour = 21, minute = 59, second = 59, tz = 'US/Pacific')\n",
    "t8 = pd.Timestamp(year = 2019,  month = 10, day = 28,\n",
    "           hour = 6, minute = 0, second = 0, tz = 'US/Pacific')\n",
    "heat_data1 = [[0,0]]\n",
    "heat_data2 = [[0,0]]\n",
    "heat_data3 = [[0,0]]\n",
    "heat_data4 = [[0,0]]\n",
    "heat_data5 = [[0,0]]\n",
    "heat_data6 = [[0,0]]\n",
    "heat_data7 = [[0,0]]\n",
    "t1 = pd.Timestamp(year = 2019,  month = 10, day = 27,\n",
    "           hour = 3, minute = 20, second = 18, tz = 'US/Pacific')\n",
    "for index in range(3078,30234):\n",
    "  if index in df_new.index:\n",
    "    time_flag = 0\n",
    "    start_time = df_new.loc[index]['start_time']\n",
    "    end_time = df_new.loc[index]['end_time']\n",
    "    if (start_time >= t1) & (start_time < t2):\n",
    "      time_flag = 1\n",
    "    if (start_time >= t2) & (start_time < t3):\n",
    "      time_flag = 2\n",
    "    if (start_time >= t3) & (start_time < t4):\n",
    "      time_flag = 3\n",
    "    if (start_time >= t4) & (start_time < t5):\n",
    "      time_flag = 4\n",
    "    if (start_time >= t5) & (start_time < t6):\n",
    "      time_flag = 5\n",
    "    if (start_time >= t6) & (start_time < t7):\n",
    "      time_flag = 6\n",
    "    if (start_time >= t7) & (start_time < t8):\n",
    "      time_flag = 7\n",
    "    if time_flag > 0:\n",
    "      file_path = 'data/GPS.nosync/output_test/sub-result-' + str(index) + '/' + str(index) + '-m_wkt.txt'\n",
    "      gdf = get_gdf_from_res(file_path)\n",
    "      \n",
    "      if not gdf.empty:\n",
    "        print('get the data of index:%d' % index)\n",
    "        if time_flag == 1:\n",
    "          for points in gdf['points']:\n",
    "            for p in points:\n",
    "                heat_data1.append([p[1],p[0]])\n",
    "        if time_flag == 2:\n",
    "          for points in gdf['points']:\n",
    "            for p in points:\n",
    "                heat_data2.append([p[1],p[0]])\n",
    "        if time_flag == 3:\n",
    "          for points in gdf['points']:\n",
    "            for p in points:\n",
    "                heat_data3.append([p[1],p[0]])\n",
    "        if time_flag == 4:\n",
    "          for points in gdf['points']:\n",
    "            for p in points:\n",
    "                heat_data4.append([p[1],p[0]])\n",
    "        if time_flag == 5:\n",
    "          for points in gdf['points']:\n",
    "            for p in points:\n",
    "                heat_data5.append([p[1],p[0]])\n",
    "        if time_flag == 6:\n",
    "          for points in gdf['points']:\n",
    "            for p in points:\n",
    "                heat_data6.append([p[1],p[0]])\n",
    "        if time_flag == 7:\n",
    "          for points in gdf['points']:\n",
    "            for p in points:\n",
    "                heat_data7.append([p[1],p[0]])\n",
    "heat_data1 = heat_data1[1:]\n",
    "heat_data2 = heat_data2[1:]\n",
    "heat_data3 = heat_data3[1:]\n",
    "heat_data4 = heat_data4[1:]\n",
    "heat_data5 = heat_data5[1:]\n",
    "heat_data6 = heat_data6[1:]\n",
    "heat_data7 = heat_data7[1:]\n",
    "\n"
   ],
   "outputs": [],
   "metadata": {}
  },
  {
   "cell_type": "code",
   "execution_count": null,
   "source": [
    "heat_data7"
   ],
   "outputs": [],
   "metadata": {}
  },
  {
   "cell_type": "code",
   "execution_count": null,
   "source": [
    "import folium\n",
    "from folium import plugins\n",
    "\n",
    "map2 = folium.Map(location=[38.447135, -122.76633], tiles='OpenStreetMap',zoom_start=12,max_zoom = 14, min_zoom=10)\n",
    "\n",
    "plugins.HeatMap(heat_data2,min_opacity=0.4,\n",
    "                   radius=21, blur=12, \n",
    "                   max_zoom=4, min_zoom=8).add_to(map2)\n",
    "#plugins.HeatMap(heat_data).add_to(map)\n",
    "map2"
   ],
   "outputs": [],
   "metadata": {}
  },
  {
   "cell_type": "code",
   "execution_count": null,
   "source": [
    "map3 = folium.Map(location=[38.447135, -122.76633], tiles='OpenStreetMap',zoom_start=12,max_zoom = 14, min_zoom=10)\n",
    "\n",
    "plugins.HeatMap(heat_data3,min_opacity=0.4,\n",
    "                   radius=21, blur=12, \n",
    "                   max_zoom=4, min_zoom=8).add_to(map3)\n",
    "#plugins.HeatMap(heat_data).add_to(map)\n",
    "map3\n"
   ],
   "outputs": [],
   "metadata": {}
  },
  {
   "cell_type": "code",
   "execution_count": null,
   "source": [
    "map4 = folium.Map(location=[38.447135, -122.76633], tiles='OpenStreetMap',zoom_start=12,max_zoom = 14, min_zoom=10)\n",
    "\n",
    "plugins.HeatMap(heat_data4,min_opacity=0.4,\n",
    "                   radius=21, blur=12, \n",
    "                   max_zoom=4, min_zoom=8).add_to(map4)\n",
    "#plugins.HeatMap(heat_data).add_to(map)\n",
    "map4"
   ],
   "outputs": [],
   "metadata": {}
  },
  {
   "cell_type": "code",
   "execution_count": null,
   "source": [
    "map5 = folium.Map(location=[38.447135, -122.76633], tiles='OpenStreetMap',zoom_start=12,max_zoom = 14, min_zoom=10)\n",
    "\n",
    "plugins.HeatMap(heat_data3,min_opacity=0.4,\n",
    "                   radius=21, blur=12, \n",
    "                   max_zoom=4, min_zoom=8).add_to(map5)\n",
    "#plugins.HeatMap(heat_data).add_to(map)\n",
    "map5"
   ],
   "outputs": [],
   "metadata": {}
  },
  {
   "cell_type": "code",
   "execution_count": null,
   "source": [
    "map6 = folium.Map(location=[38.447135, -122.76633], tiles='OpenStreetMap',zoom_start=12,max_zoom = 14, min_zoom=10)\n",
    "\n",
    "plugins.HeatMap(heat_data6,min_opacity=0.4,\n",
    "                   radius=21, blur=12, \n",
    "                   max_zoom=4, min_zoom=8).add_to(map6)\n",
    "#plugins.HeatMap(heat_data).add_to(map)\n",
    "map6"
   ],
   "outputs": [],
   "metadata": {}
  },
  {
   "cell_type": "code",
   "execution_count": null,
   "source": [
    "map7 = folium.Map(location=[38.447135, -122.76633], tiles='OpenStreetMap',zoom_start=12,max_zoom = 14, min_zoom=10)\n",
    "\n",
    "plugins.HeatMap(heat_data7,min_opacity=0.4,\n",
    "                   radius=21, blur=12, \n",
    "                   max_zoom=4, min_zoom=8).add_to(map7)\n",
    "#plugins.HeatMap(heat_data).add_to(map)\n",
    "map7"
   ],
   "outputs": [],
   "metadata": {}
  },
  {
   "cell_type": "code",
   "execution_count": null,
   "source": [
    "map2.save(\"26-06-26-12.html\")\n",
    "map3.save(\"26-12-26-22.html\")\n",
    "map4.save(\"26-22-27-06.html\")\n",
    "map5.save(\"27-06-27-12.html\")\n",
    "map6.save(\"27-12-27-22.html\")"
   ],
   "outputs": [],
   "metadata": {}
  },
  {
   "cell_type": "code",
   "execution_count": null,
   "source": [
    "import matplotlib.pyplot as plt\n",
    "fig, ax = plt.subplots(figsize=(64, 64))\n",
    "streets.plot(ax=ax, color='black', LineWidth = 2)\n",
    "gdf2.plot(ax=ax, color='green',LineWidth = 2)\n",
    "#gdf.plot(ax=ax, color='blue', LineWidth = 1)\n",
    "gdf1.plot(ax=ax, color='red',LineWidth = 1)"
   ],
   "outputs": [],
   "metadata": {}
  },
  {
   "cell_type": "code",
   "execution_count": null,
   "source": [
    "# parts = streets[1:10000]\n",
    "# parts['points'] = parts.apply(lambda x: [y for y in x['geometry'].coords], axis=1)\n",
    "# len(parts)\n",
    "gdf2['points'] = gdf1.apply(lambda x: [y for y in x['geometry'].coords], axis=1)\n",
    "gdf1.head\n",
    "gdf1"
   ],
   "outputs": [],
   "metadata": {}
  },
  {
   "cell_type": "code",
   "execution_count": null,
   "source": [
    "import folium\n",
    "map = folium.Map(location = [4,10], tiles = \"Stamen Terrain\", zoom_start = 3)"
   ],
   "outputs": [],
   "metadata": {}
  },
  {
   "cell_type": "code",
   "execution_count": null,
   "source": [
    "from folium import plugins\n",
    "\n",
    "map = folium.Map(location=[38.447135, -122.76633], tiles='OpenStreetMap',zoom_start=12)\n",
    "\n",
    "#heat_data = [gdf2.points[0],gdf2.points[1]]\n",
    "#heat_data[1] = \n",
    "heat_data = [[point[1], point[0]] for point in gdf2['points'][0] ]\n",
    "# for point in gdf2['points'][1]:\n",
    "#   heat_data.append([point[1],point[0]])\n",
    "for points in gdf2['points']:\n",
    "  for p in points:\n",
    "    heat_data.append([p[1],p[0]])\n",
    "heat_data\n",
    "plugins.HeatMap(heat_data,min_opacity=0.5,\n",
    "                   radius=4, blur=4, \n",
    "                   max_zoom=1).add_to(map)\n",
    "map\n"
   ],
   "outputs": [],
   "metadata": {}
  },
  {
   "cell_type": "code",
   "execution_count": null,
   "source": [
    "heat_data"
   ],
   "outputs": [],
   "metadata": {}
  },
  {
   "cell_type": "code",
   "execution_count": null,
   "source": [
    "map.save(\"index-1-14-13-13.html\")"
   ],
   "outputs": [],
   "metadata": {}
  },
  {
   "cell_type": "code",
   "execution_count": null,
   "source": [
    "plugins.HeatMap(heat_data).add_to(map)\n",
    "map"
   ],
   "outputs": [],
   "metadata": {}
  },
  {
   "cell_type": "markdown",
   "source": [],
   "metadata": {}
  }
 ],
 "metadata": {
  "orig_nbformat": 4,
  "language_info": {
   "name": "python",
   "version": "3.9.9",
   "mimetype": "text/x-python",
   "codemirror_mode": {
    "name": "ipython",
    "version": 3
   },
   "pygments_lexer": "ipython3",
   "nbconvert_exporter": "python",
   "file_extension": ".py"
  },
  "kernelspec": {
   "name": "python3",
   "display_name": "Python 3.9.9 64-bit ('base': conda)"
  },
  "interpreter": {
   "hash": "cf0c8045f90f0b9de52b4978fb55a0ab5d32aa3e3e0b44a1c5dce2f35cf33b8e"
  }
 },
 "nbformat": 4,
 "nbformat_minor": 2
}