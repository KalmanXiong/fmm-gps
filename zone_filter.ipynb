{
 "cells": [
  {
   "cell_type": "code",
   "execution_count": 1,
   "source": [
    "import geopandas as gpd\n",
    "import pyarrow\n",
    "import pandas as pd\n",
    "import os"
   ],
   "outputs": [],
   "metadata": {}
  },
  {
   "cell_type": "code",
   "execution_count": 3,
   "source": [
    "target_2631 = pd.read_parquet('data/GPS.nosync/filter/Sonoma_2631_new', engine='pyarrow')"
   ],
   "outputs": [],
   "metadata": {}
  },
  {
   "cell_type": "code",
   "execution_count": 4,
   "source": [
    "\n",
    "def write_file(filename, info):\n",
    "  text_file = open(filename, \"w\")\n",
    "  text_file.write(info)\n",
    "  text_file.close()"
   ],
   "outputs": [],
   "metadata": {}
  },
  {
   "cell_type": "code",
   "execution_count": null,
   "source": [
    "start_index = 0\n",
    "start_id = target_2631.loc[start_index]['caid']\n",
    "#print(\"start index: %d, caid: %s\" %(0, start_id))\n",
    "end = 200000\n",
    "count = 0\n",
    "for index in range(0, end):\n",
    "  data_id = target_2631.loc[index]['caid']\n",
    "  if data_id != start_id:\n",
    "    #print(\"end index: %d, caid: %s\" %(index - 1, target_2631.loc[index - 1]['caid']))\n",
    "    #print(\"total points: %d\" %(index - start_index))\n",
    "    print(\"%d start: %d, end: %d, total: %d, caid: %s\" %(count, start_index, index - 1, (index - start_index), data_id))\n",
    "    count+=1\n",
    "    start_index = index\n",
    "    start_id = data_id\n",
    "    \n",
    "    #print(\"start index: %d, caid: %s\" %(index, data_id))\n",
    "#print(\"end index: %d, caid: %s\" %(end, target_2631.loc[end]['caid']))\n",
    "\n"
   ],
   "outputs": [],
   "metadata": {}
  },
  {
   "cell_type": "code",
   "execution_count": 21,
   "source": [
    "\n",
    "res = 'LINESTRING('\n",
    "df = pd.DataFrame(\n",
    "    {'Latitude': [float(target_2631.loc[72]['latitude'])],\n",
    "     'Longitude': [float(target_2631.loc[72]['longitude'])]})\n",
    "\n",
    "#for index in range_:\n",
    "start_index = 72\n",
    "end_index = 266\n",
    "is_first = True\n",
    "for index in range(start_index,end_index):\n",
    "  \n",
    "  single_data = target_2631.loc[index]\n",
    "  if ((single_data['latitude'] < 38.85) & (single_data['latitude'] > 38.099) & (single_data['longitude'] < -122.35) & (single_data['longitude'] > -123.55)):\n",
    "    lat = float(single_data['latitude'])\n",
    "    lon = float(single_data['longitude'])\n",
    "    df.loc[len(df.index)] = [float(lat),float(lon)]\n",
    "    if is_first:\n",
    "      is_first = False\n",
    "      res+= (str(lon) + ' ' + str(lat))\n",
    "    else:\n",
    "      res+= (',' + str(lon) + ' ' + str(lat))\n",
    "res+=')'\n",
    "df = df[0:-1]\n",
    "gdf = gpd.GeoDataFrame(\n",
    "    df, geometry=gpd.points_from_xy(df.Longitude, df.Latitude))\n",
    "write_file('data/GPS.nosync/output/' + target_2631.loc[start_index]['caid']+'-points.txt', res)"
   ],
   "outputs": [],
   "metadata": {}
  },
  {
   "cell_type": "code",
   "execution_count": 31,
   "source": [
    "start_index = 0\n",
    "start_id = target_2631.loc[start_index]['caid']\n",
    "print(\"start index: %d, caid: %s\" %(0, start_id))\n",
    "end = 200000\n",
    "count = 0\n",
    "is_first = True\n",
    "res = 'LINESTRING('\n",
    "for index in range(0, end):\n",
    "  data_id = target_2631.loc[index]['caid']\n",
    "  single_data = target_2631.loc[index]\n",
    "  is_data_valid = (single_data['latitude'] < 38.85) & (single_data['latitude'] > 38.099) & (single_data['longitude'] < -122.35) & (single_data['longitude'] > -123.55)\n",
    "  if data_id != start_id:\n",
    "    # print(\"end index: %d, caid: %s\" %(index - 1, target_2631.loc[index - 1]['caid']))\n",
    "    # print(\"total points: %d\" %(index - start_index))\n",
    "    res+=')'\n",
    "    if (index - start_index) > 49:\n",
    "      write_file('data/GPS.nosync/points/' + str(count) +'-points.txt', res)\n",
    "    is_first = True\n",
    "    res = 'LINESTRING('\n",
    "    count+=1\n",
    "    start_index = index\n",
    "    start_id = data_id\n",
    "  lat = float(single_data['latitude'])\n",
    "  lon = float(single_data['longitude'])\n",
    "  #df.loc[len(df.index)] = [float(lat),float(lon)]\n",
    "  if is_data_valid:\n",
    "    if is_first:\n",
    "      is_first = False\n",
    "      res+= (str(lon) + ' ' + str(lat))\n",
    "    else:\n",
    "      res+= (',' + str(lon) + ' ' + str(lat))\n",
    "\n",
    "    # print(\"start index: %d, caid: %s\" %(index, data_id))\n",
    "#print(\"end index: %d, caid: %s\" %(end, target_2631.loc[end]['caid']))"
   ],
   "outputs": [
    {
     "output_type": "stream",
     "name": "stdout",
     "text": [
      "start index: 0, caid: 0000dec3ca31d5b1b07771650fb6ee077059a5a579f0e35c30d5d68a0008feb6\n"
     ]
    }
   ],
   "metadata": {}
  },
  {
   "cell_type": "code",
   "execution_count": 2,
   "source": [
    "streets = gpd.read_file('data/GPS.nosync/Streets/Streets.shp')"
   ],
   "outputs": [],
   "metadata": {}
  },
  {
   "cell_type": "code",
   "execution_count": 26,
   "source": [
    "file_path1 = \"data/GPS.nosync/output/sub-result-4/4-m_wkt.txt\"\n",
    "file_path2 = \"data/GPS.nosync/output/sub-result-4/4-e_wkt.txt\"\n",
    "#check if file is present\n",
    "if os.path.isfile(file_path1):\n",
    "    #open text file in read mode\n",
    "    text_file = open(file_path1, \"r\")\n",
    " \n",
    "    #read whole file to a string\n",
    "    wkt1 = text_file.read()\n",
    " \n",
    "    #close file\n",
    "    text_file.close()\n",
    "if os.path.isfile(file_path2):\n",
    "    #open text file in read mode\n",
    "    text_file = open(file_path2, \"r\")\n",
    " \n",
    "    #read whole file to a string\n",
    "    wkt2 = text_file.read()\n",
    " \n",
    "    #close file\n",
    "    text_file.close()\n",
    "d1 = {'col1': ['name1', 'name2'], 'wkt': wkt1}\n",
    "d2 = {'col1': ['name1', 'name2'], 'wkt': wkt2}\n",
    "df = pd.DataFrame(d1)\n",
    "gs = gpd.GeoSeries.from_wkt(df['wkt'])\n",
    "gdf1 = gpd.GeoDataFrame(df, geometry=gs, crs=\"EPSG:4326\")\n",
    "df = pd.DataFrame(d2)\n",
    "gs = gpd.GeoSeries.from_wkt(df['wkt'])\n",
    "gdf2 = gpd.GeoDataFrame(df, geometry=gs, crs=\"EPSG:4326\")\n"
   ],
   "outputs": [],
   "metadata": {}
  },
  {
   "cell_type": "code",
   "execution_count": 8,
   "source": [
    "def get_gdf_from_res(file_path):\n",
    "  if os.path.isfile(file_path):\n",
    "    #open text file in read mode\n",
    "    text_file = open(file_path, \"r\")\n",
    "\n",
    "    #read whole file to a string\n",
    "    wkt = text_file.read()\n",
    "    #close file\n",
    "    text_file.close()\n",
    "    if ',' in wkt:\n",
    "      d = {'col1': ['name1', 'name2'], 'wkt': wkt}\n",
    "      df = pd.DataFrame(d)\n",
    "      gs = gpd.GeoSeries.from_wkt(df['wkt'])\n",
    "      gdf = gpd.GeoDataFrame(df, geometry=gs, crs=\"EPSG:4326\")\n",
    "      gdf['points'] = gdf.apply(lambda x: [y for y in x['geometry'].coords], axis=1)\n",
    "      return gdf\n",
    "    else:\n",
    "      print('file_path %s contains so few points!' % file_path)\n",
    "      return gpd.GeoDataFrame({'A' : []})\n",
    "  else:\n",
    "    return gpd.GeoDataFrame({'A' : []})\n"
   ],
   "outputs": [],
   "metadata": {}
  },
  {
   "cell_type": "code",
   "execution_count": null,
   "source": [
    "#from folium import plugins\n",
    "#map = folium.Map(location=[38.447135, -122.76633], tiles='OpenStreetMap',zoom_start=12)\n",
    "heat_data = [[0,0]]\n",
    "\n",
    "for index in range(0,999):\n",
    "  file_path = 'data/GPS.nosync/output/sub-result-' + str(index) + '/' + str(index) + '-m_wkt.txt'\n",
    "  gdf = get_gdf_from_res(file_path)\n",
    "  if not gdf.empty:\n",
    "    print('get the data of index:%d' % index)\n",
    "    for points in gdf['points']:\n",
    "      for p in points:\n",
    "        heat_data.append([p[1],p[0]])\n",
    "print(len(heat_data))\n",
    "heat_data = heat_data[1:]\n",
    "print(len(heat_data))\n"
   ],
   "outputs": [],
   "metadata": {}
  },
  {
   "cell_type": "code",
   "execution_count": null,
   "source": [
    "heat_data"
   ],
   "outputs": [],
   "metadata": {}
  },
  {
   "cell_type": "code",
   "execution_count": null,
   "source": [
    "import folium\n",
    "from folium import plugins\n",
    "\n",
    "map = folium.Map(location=[38.447135, -122.76633], tiles='OpenStreetMap',zoom_start=12,max_zoom = 14, min_zoom=10)\n",
    "\n",
    "plugins.HeatMap(heat_data,min_opacity=0.4,\n",
    "                   radius=21, blur=12, \n",
    "                   max_zoom=4, min_zoom=8).add_to(map)\n",
    "#plugins.HeatMap(heat_data).add_to(map)\n",
    "map"
   ],
   "outputs": [],
   "metadata": {}
  },
  {
   "cell_type": "code",
   "execution_count": null,
   "source": [
    "import matplotlib.pyplot as plt\n",
    "fig, ax = plt.subplots(figsize=(64, 64))\n",
    "streets.plot(ax=ax, color='black', LineWidth = 2)\n",
    "#gdf2.plot(ax=ax, color='green',LineWidth = 2)\n",
    "#gdf.plot(ax=ax, color='blue', LineWidth = 1)\n",
    "#gdf1.plot(ax=ax, color='red',LineWidth = 1)"
   ],
   "outputs": [],
   "metadata": {}
  },
  {
   "cell_type": "code",
   "execution_count": null,
   "source": [
    "# parts = streets[1:10000]\n",
    "# parts['points'] = parts.apply(lambda x: [y for y in x['geometry'].coords], axis=1)\n",
    "# len(parts)\n",
    "gdf2['points'] = gdf1.apply(lambda x: [y for y in x['geometry'].coords], axis=1)\n",
    "gdf1.head\n",
    "gdf1"
   ],
   "outputs": [],
   "metadata": {}
  },
  {
   "cell_type": "code",
   "execution_count": 28,
   "source": [
    "import folium\n",
    "map = folium.Map(location = [4,10], tiles = \"Stamen Terrain\", zoom_start = 3)"
   ],
   "outputs": [],
   "metadata": {}
  },
  {
   "cell_type": "code",
   "execution_count": null,
   "source": [
    "from folium import plugins\n",
    "\n",
    "map = folium.Map(location=[38.447135, -122.76633], tiles='OpenStreetMap',zoom_start=12)\n",
    "\n",
    "#heat_data = [gdf2.points[0],gdf2.points[1]]\n",
    "#heat_data[1] = \n",
    "heat_data = [[point[1], point[0]] for point in gdf2['points'][0] ]\n",
    "# for point in gdf2['points'][1]:\n",
    "#   heat_data.append([point[1],point[0]])\n",
    "for points in gdf2['points']:\n",
    "  for p in points:\n",
    "    heat_data.append([p[1],p[0]])\n",
    "heat_data\n",
    "plugins.HeatMap(heat_data,min_opacity=0.5,\n",
    "                   radius=4, blur=4, \n",
    "                   max_zoom=1).add_to(map)\n",
    "map\n"
   ],
   "outputs": [],
   "metadata": {}
  },
  {
   "cell_type": "code",
   "execution_count": null,
   "source": [
    "heat_data"
   ],
   "outputs": [],
   "metadata": {}
  },
  {
   "cell_type": "code",
   "execution_count": 48,
   "source": [
    "map.save(\"index.html\")"
   ],
   "outputs": [],
   "metadata": {}
  },
  {
   "cell_type": "code",
   "execution_count": null,
   "source": [
    "plugins.HeatMap(heat_data).add_to(map)\n",
    "map"
   ],
   "outputs": [],
   "metadata": {}
  },
  {
   "cell_type": "markdown",
   "source": [],
   "metadata": {}
  }
 ],
 "metadata": {
  "orig_nbformat": 4,
  "language_info": {
   "name": "python",
   "version": "3.9.9",
   "mimetype": "text/x-python",
   "codemirror_mode": {
    "name": "ipython",
    "version": 3
   },
   "pygments_lexer": "ipython3",
   "nbconvert_exporter": "python",
   "file_extension": ".py"
  },
  "kernelspec": {
   "name": "python3",
   "display_name": "Python 3.9.9 64-bit ('base': conda)"
  },
  "interpreter": {
   "hash": "cf0c8045f90f0b9de52b4978fb55a0ab5d32aa3e3e0b44a1c5dce2f35cf33b8e"
  }
 },
 "nbformat": 4,
 "nbformat_minor": 2
}