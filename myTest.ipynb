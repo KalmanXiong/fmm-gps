{
 "cells": [
  {
   "cell_type": "code",
   "execution_count": 1,
   "source": [
    "import geopandas as gpd\n",
    "import shapely.geometry"
   ],
   "outputs": [],
   "metadata": {}
  },
  {
   "cell_type": "code",
   "execution_count": 2,
   "source": [
    "streets = gpd.read_file('data/GPS.nosync/Streets/Streets.shp')"
   ],
   "outputs": [],
   "metadata": {}
  },
  {
   "cell_type": "code",
   "execution_count": 88,
   "source": [
    "from shapely.geometry import LineString, MultiLineString\n",
    "from shapely.ops import cascaded_union\n",
    "\n",
    "\n",
    "\n",
    "street = streets.loc[1]\n",
    "l1 = []\n",
    "for i in street['geometry'].coords:\n",
    "  l1.append(i)\n",
    "l1.reverse()\n",
    "ls = LineString(l1)\n",
    "\n",
    "# street = streets[streets['OBJECTID'] == 2]\n",
    "# street = gpd.GeoDataFrame(street, geometry = 'geometry')\n",
    "# points = street.apply(lambda x: [y for y in x['geometry'].coords], axis=1)\n",
    "# points"
   ],
   "outputs": [],
   "metadata": {}
  },
  {
   "cell_type": "code",
   "execution_count": null,
   "source": [
    "len(streets)"
   ],
   "outputs": [],
   "metadata": {}
  },
  {
   "cell_type": "code",
   "execution_count": null,
   "source": [
    "street = streets.loc[0]\n",
    "b = street['geometry'].boundary\n",
    "data = [[street['OBJECTID'], street['OBJECTID'], street['OBJECTID'] * 10 + 1, street['OBJECTID'] * 10 + 2, street['Shape__Len'], b[0].x, b[0].y, b[1].x, b[1].y, street['geometry']]]\n",
    "dict_points = {(b[0].x, b[0].y):street['OBJECTID'] * 10 + 1}\n",
    "max_id = len(streets)\n",
    "count = 0\n",
    "for index, street in streets.iterrows():\n",
    "  id_1 = 0\n",
    "  id_2 = 0\n",
    "  start = (0.0, 0.0)\n",
    "  end = (0.0, 0.0)\n",
    "\n",
    "  if (len(street['geometry'].boundary) == 2):\n",
    "    boundary = street['geometry'].boundary\n",
    "    id_1 = street['OBJECTID'] * 10 + 1\n",
    "    id_2 = street['OBJECTID'] * 10 + 2\n",
    "    start = (boundary[0].x, boundary[0].y)\n",
    "    end = (boundary[1].x, boundary[1].y)\n",
    "  else:\n",
    "    continue\n",
    "    # points = street.apply(lambda x: [y for y in x['geometry'].coords], axis=1)\n",
    "    # line = points.to_list()[0]\n",
    "    # start = (line[0].x, line[0].y)\n",
    "    # end = (line[-2].x, line[-2].y)\n",
    "    # id_1 = street['OBJECTID'] * 10 + 1\n",
    "    # id_2 = street['OBJECTID'] * 10 + 2\n",
    "\n",
    "  if dict_points.get(start) == None:\n",
    "    dict_points[start] = id_1\n",
    "  else:\n",
    "    id_1 = dict_points[start]\n",
    "\n",
    "  if dict_points.get(end) == None:\n",
    "    dict_points[end] = id_2\n",
    "  else:\n",
    "    id_2 = dict_points[end]\n",
    "  # l1 = []\n",
    "  # for i in street['geometry'].coords:\n",
    "  #     l1.append(i)\n",
    "  #     l1.reverse()\n",
    "  # ls = LineString(l1)\n",
    "  data.append([street['OBJECTID'], street['OBJECTID'], id_1, id_2, street['Shape__Len'], boundary[0].x, boundary[0].y, boundary[1].x, boundary[1].y, street['geometry']])\n",
    "  # data.append([street['OBJECTID'] + max_id, street['OBJECTID'] + max_id, id_2, id_1, street['Shape__Len'], boundary[1].x, boundary[1].y, boundary[0].x, boundary[0].y, ls])\n",
    "df = gpd.GeoDataFrame(data, columns = ['_uid_', 'id', 'source', 'target', 'cost','x1','y1','x2','y2','geometry'])"
   ],
   "outputs": [],
   "metadata": {}
  },
  {
   "cell_type": "code",
   "execution_count": 5,
   "source": [
    "df.to_file('street_nodes_dual.shp')"
   ],
   "outputs": [],
   "metadata": {}
  },
  {
   "cell_type": "code",
   "execution_count": null,
   "source": [
    "import pandas as pd\n",
    "import geopandas as gpd\n",
    "from shapely.geometry import Point\n",
    "d = {'col1': ['name1', 'name2'], 'wkt': ['POINT (1 2)', 'POINT (2 1)']}\n",
    "df = pd.DataFrame(d)\n",
    "gs = gpd.GeoSeries.from_wkt(df['wkt'])\n",
    "gdf = gpd.GeoDataFrame(df, geometry=gs, crs=\"EPSG:4326\")\n",
    "gdf"
   ],
   "outputs": [],
   "metadata": {}
  },
  {
   "cell_type": "code",
   "execution_count": null,
   "source": [],
   "outputs": [],
   "metadata": {}
  }
 ],
 "metadata": {
  "orig_nbformat": 4,
  "language_info": {
   "name": "python",
   "version": "3.8.9",
   "mimetype": "text/x-python",
   "codemirror_mode": {
    "name": "ipython",
    "version": 3
   },
   "pygments_lexer": "ipython3",
   "nbconvert_exporter": "python",
   "file_extension": ".py"
  },
  "kernelspec": {
   "name": "python3",
   "display_name": "Python 3.8.9 64-bit"
  },
  "interpreter": {
   "hash": "31f2aee4e71d21fbe5cf8b01ff0e069b9275f58929596ceb00d14d90e3e16cd6"
  }
 },
 "nbformat": 4,
 "nbformat_minor": 2
}