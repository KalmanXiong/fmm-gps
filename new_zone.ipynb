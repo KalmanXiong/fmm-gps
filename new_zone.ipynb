{
 "cells": [
  {
   "cell_type": "code",
   "execution_count": 1,
   "source": [
    "import geopandas as gpd\n",
    "import pyarrow\n",
    "import pandas as pd"
   ],
   "outputs": [],
   "metadata": {}
  },
  {
   "cell_type": "code",
   "execution_count": 2,
   "source": [
    "import time\n",
    "from datetime import datetime, timezone"
   ],
   "outputs": [],
   "metadata": {}
  },
  {
   "cell_type": "code",
   "execution_count": 8,
   "source": [
    "target_data = pd.read_parquet('data/GPS.nosync/filter/Sonoma_0105', engine='pyarrow')"
   ],
   "outputs": [],
   "metadata": {}
  },
  {
   "cell_type": "code",
   "execution_count": 80,
   "source": [
    "target_data.head"
   ],
   "outputs": [
    {
     "output_type": "execute_result",
     "data": {
      "text/plain": [
       "<bound method NDFrame.head of          utc_timestamp                                               caid  \\\n",
       "0           1573059325  0000dec3ca31d5b1b07771650fb6ee077059a5a579f0e3...   \n",
       "1           1573086571  00074014459977889ff22e04d309cbc68fb1720990d2d6...   \n",
       "2           1573086581  00074014459977889ff22e04d309cbc68fb1720990d2d6...   \n",
       "3           1573086919  00074014459977889ff22e04d309cbc68fb1720990d2d6...   \n",
       "4           1573087231  00074014459977889ff22e04d309cbc68fb1720990d2d6...   \n",
       "...                ...                                                ...   \n",
       "3874345     1573019705  ffff5ad8404c994ccd4148a21e87bf6741eeb10c9da6cd...   \n",
       "3874346     1573019857  ffff5ad8404c994ccd4148a21e87bf6741eeb10c9da6cd...   \n",
       "3874347     1573024448  ffff5ad8404c994ccd4148a21e87bf6741eeb10c9da6cd...   \n",
       "3874348     1573024538  ffff5ad8404c994ccd4148a21e87bf6741eeb10c9da6cd...   \n",
       "3874349     1573066484  ffff5ad8404c994ccd4148a21e87bf6741eeb10c9da6cd...   \n",
       "\n",
       "          geo_hash   latitude   longitude              utc_datetime  \\\n",
       "0        9qbdwqx8t  38.444011 -122.761680 2019-11-06 16:55:25+00:00   \n",
       "1        9qbtskshq  38.961007 -122.854354 2019-11-07 00:29:31+00:00   \n",
       "2        9qbtskshq  38.961007 -122.854354 2019-11-07 00:29:41+00:00   \n",
       "3        9qbtskshq  38.961007 -122.854354 2019-11-07 00:35:19+00:00   \n",
       "4        9qbtskshq  38.961007 -122.854354 2019-11-07 00:40:31+00:00   \n",
       "...            ...        ...         ...                       ...   \n",
       "3874345  9qbff10x0  38.458845 -122.606724 2019-11-06 05:55:05+00:00   \n",
       "3874346  9qben3pdb  38.502099 -122.761887 2019-11-06 05:57:37+00:00   \n",
       "3874347  9qbdwvb1m  38.440008 -122.749995 2019-11-06 07:14:08+00:00   \n",
       "3874348  9qben3pdb  38.502099 -122.761887 2019-11-06 07:15:38+00:00   \n",
       "3874349  9q9m8nyg8  37.567017 -121.982910 2019-11-06 18:54:44+00:00   \n",
       "\n",
       "                      la_datetime  hour  lat_epsg_3857  lon_epsg_3857  \n",
       "0       2019-11-06 08:55:25-08:00     8  -1.366577e+07   4.642341e+06  \n",
       "1       2019-11-06 16:29:31-08:00    16  -1.367608e+07   4.716088e+06  \n",
       "2       2019-11-06 16:29:41-08:00    16  -1.367608e+07   4.716088e+06  \n",
       "3       2019-11-06 16:35:19-08:00    16  -1.367608e+07   4.716088e+06  \n",
       "4       2019-11-06 16:40:31-08:00    16  -1.367608e+07   4.716088e+06  \n",
       "...                           ...   ...            ...            ...  \n",
       "3874345 2019-11-05 21:55:05-08:00    21  -1.364852e+07   4.644450e+06  \n",
       "3874346 2019-11-05 21:57:37-08:00    21  -1.366579e+07   4.650600e+06  \n",
       "3874347 2019-11-05 23:14:08-08:00    23  -1.366447e+07   4.641772e+06  \n",
       "3874348 2019-11-05 23:15:38-08:00    23  -1.366579e+07   4.650600e+06  \n",
       "3874349 2019-11-06 10:54:44-08:00    10  -1.357908e+07   4.518439e+06  \n",
       "\n",
       "[3874350 rows x 10 columns]>"
      ]
     },
     "metadata": {},
     "execution_count": 80
    }
   ],
   "metadata": {}
  },
  {
   "cell_type": "code",
   "execution_count": 81,
   "source": [
    "target_data['utc_datetime'][0]"
   ],
   "outputs": [
    {
     "output_type": "execute_result",
     "data": {
      "text/plain": [
       "Timestamp('2019-11-06 16:55:25+0000', tz='UTC')"
      ]
     },
     "metadata": {},
     "execution_count": 81
    }
   ],
   "metadata": {}
  },
  {
   "cell_type": "code",
   "execution_count": 4,
   "source": [
    "start_time = pd.Timestamp('2019-10-26T00:00:00',tz='UTC')\n",
    "end_time = pd.Timestamp('2019-10-27T23:59:59',tz='UTC')\n",
    "end_time > target_data['utc_datetime'][0]"
   ],
   "outputs": [
    {
     "output_type": "execute_result",
     "data": {
      "text/plain": [
       "False"
      ]
     },
     "metadata": {},
     "execution_count": 4
    }
   ],
   "metadata": {}
  },
  {
   "cell_type": "code",
   "execution_count": 9,
   "source": [
    "in_count = 0\n",
    "out_count = 0\n",
    "for i in range(0, len(target_data) - 1):\n",
    "  if (target_data['utc_datetime'][i] > start_time) & (target_data['utc_datetime'][i] < end_time):\n",
    "    in_count+=1\n",
    "  else:\n",
    "    out_count+=1"
   ],
   "outputs": [],
   "metadata": {}
  },
  {
   "cell_type": "code",
   "execution_count": 10,
   "source": [
    "in_count"
   ],
   "outputs": [
    {
     "output_type": "execute_result",
     "data": {
      "text/plain": [
       "0"
      ]
     },
     "metadata": {},
     "execution_count": 10
    }
   ],
   "metadata": {}
  },
  {
   "cell_type": "code",
   "execution_count": 11,
   "source": [
    "out_count"
   ],
   "outputs": [
    {
     "output_type": "execute_result",
     "data": {
      "text/plain": [
       "12822345"
      ]
     },
     "metadata": {},
     "execution_count": 11
    }
   ],
   "metadata": {}
  },
  {
   "cell_type": "code",
   "execution_count": null,
   "source": [],
   "outputs": [],
   "metadata": {}
  }
 ],
 "metadata": {
  "orig_nbformat": 4,
  "language_info": {
   "name": "python",
   "version": "3.8.9",
   "mimetype": "text/x-python",
   "codemirror_mode": {
    "name": "ipython",
    "version": 3
   },
   "pygments_lexer": "ipython3",
   "nbconvert_exporter": "python",
   "file_extension": ".py"
  },
  "kernelspec": {
   "name": "python3",
   "display_name": "Python 3.8.9 64-bit"
  },
  "interpreter": {
   "hash": "31f2aee4e71d21fbe5cf8b01ff0e069b9275f58929596ceb00d14d90e3e16cd6"
  }
 },
 "nbformat": 4,
 "nbformat_minor": 2
}