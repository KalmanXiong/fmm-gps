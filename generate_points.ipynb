{
 "cells": [
  {
   "cell_type": "code",
   "execution_count": 72,
   "metadata": {},
   "outputs": [],
   "source": [
    "import geopandas as gpd\n",
    "import pyarrow\n",
    "import pandas as pd\n",
    "import os\n",
    "import haversine as hs\n",
    "import math\n",
    "import numpy as np"
   ]
  },
  {
   "cell_type": "code",
   "execution_count": 41,
   "metadata": {},
   "outputs": [],
   "source": [
    "R = 6371e3\n",
    "def calculate_bearing(homeLatitude, homeLongitude, destinationLatitude, destinationLongitude):\n",
    "    rlat1   =   homeLatitude * (math.pi/180) \n",
    "    rlat2   =   destinationLatitude * (math.pi/180) \n",
    "    rlon1   =   homeLongitude * (math.pi/180) \n",
    "    rlon2   =   destinationLongitude * (math.pi/180)\n",
    "    dlat    =   (destinationLatitude - homeLatitude) * (math.pi/180)\n",
    "    dlon    =   (destinationLongitude - homeLongitude) * (math.pi/180)\n",
    "    # Formula for bearing\n",
    "    y = math.sin(rlon2 - rlon1) * math.cos(rlat2)\n",
    "    x = math.cos(rlat1) * math.sin(rlat2) - math.sin(rlat1) * math.cos(rlat2) * math.cos(rlon2 - rlon1)\n",
    "    # Haversine formula to find distance\n",
    "    a = (math.sin(dlat/2) * math.sin(dlat/2)) + (math.cos(rlat1) * math.cos(rlat2) * (math.sin(dlon/2) * math.sin(dlon/2)))\n",
    "    c = 2 * math.atan2(math.sqrt(a), math.sqrt(1-a))\n",
    "\n",
    "    # Distance in metres\n",
    "    distance = R * c \n",
    "    # Bearing in radians\n",
    "    bearing = math.atan2(y, x)\n",
    "    bearingDegrees = bearing * (180/math.pi)\n",
    "\n",
    "    return distance, bearingDegrees"
   ]
  },
  {
   "cell_type": "code",
   "execution_count": 5,
   "metadata": {},
   "outputs": [],
   "source": [
    "target_2631 = pd.read_parquet('data/GPS.nosync/filter/Sonoma_2631_new', engine='pyarrow')"
   ]
  },
  {
   "cell_type": "code",
   "execution_count": 6,
   "metadata": {},
   "outputs": [],
   "source": [
    "n = len(target_2631)"
   ]
  },
  {
   "cell_type": "code",
   "execution_count": 7,
   "metadata": {},
   "outputs": [
    {
     "data": {
      "text/plain": [
       "10.486944444444445"
      ]
     },
     "execution_count": 7,
     "metadata": {},
     "output_type": "execute_result"
    }
   ],
   "source": [
    "(target_2631.loc[2]['la_datetime'] - target_2631.loc[1]['la_datetime']) / pd.Timedelta('1 second')"
   ]
  },
  {
   "cell_type": "code",
   "execution_count": 8,
   "metadata": {},
   "outputs": [
    {
     "data": {
      "text/plain": [
       "-4.072801694479074"
      ]
     },
     "execution_count": 8,
     "metadata": {},
     "output_type": "execute_result"
    }
   ],
   "source": [
    "t = (target_2631.loc[10002]['la_datetime'] - target_2631.loc[1]['la_datetime']) / pd.Timedelta('1 hour')\n",
    "loc1=(target_2631.loc[10002]['latitude'],target_2631.loc[10002]['longitude'])\n",
    "loc2=(target_2631.loc[1]['latitude'],target_2631.loc[1]['longitude'])\n",
    "x = hs.haversine(loc2,loc1,unit=hs.Unit.MILES)\n",
    "x / t"
   ]
  },
  {
   "cell_type": "code",
   "execution_count": 84,
   "metadata": {},
   "outputs": [
    {
     "name": "stdout",
     "output_type": "stream",
     "text": [
      "start index: 0, caid: 0000dec3ca31d5b1b07771650fb6ee077059a5a579f0e35c30d5d68a0008feb6\n"
     ]
    }
   ],
   "source": [
    "start_index = 0\n",
    "start_id = target_2631.loc[start_index]['caid']\n",
    "start_time = target_2631.loc[start_index]['la_datetime']\n",
    "end_time = target_2631.loc[start_index]['la_datetime']\n",
    "#data = {'index': [-1], 'caid': [start_id], 'start_time' : [start_time], 'end_time' : [end_time], 'count' : [0], 'is_process' : [False], 'is_success' : [False], 'res' : ['LINESTRING()'], 'time' : [0], 'speed' : [0], 'direction' : [0] }  \n",
    "df_new = pd.DataFrame(columns=['index', 'caid', 'start_time', 'end_time', 'count', 'is_process', 'is_success', 'res', 'time', 'distance', 'speed', 'direction'])\n",
    "# Create DataFrame  \n",
    "#df_new = pd.DataFrame(data)\n",
    "print(\"start index: %d, caid: %s\" %(0, start_id))\n",
    "end = n\n",
    "#end = 10000\n",
    "count = 0\n",
    "is_first = True\n",
    "res = 'LINESTRING('\n",
    "time_array = []\n",
    "distance_array = []\n",
    "speed_array = []\n",
    "direction_array = []\n",
    "prev_time = 0\n",
    "prev_lat = 0\n",
    "prev_lon = 0\n",
    "for index in range(0, end):\n",
    "    data_id = target_2631.loc[index]['caid']\n",
    "    single_data = target_2631.loc[index]\n",
    "  # is_data_valid = (single_data['latitude'] < 38.85) & (single_data['latitude'] > 38.099) & (single_data['longitude'] < -122.35) & (single_data['longitude'] > -123.55)\n",
    "  \n",
    "    if data_id != start_id:\n",
    "    # print(\"end index: %d, caid: %s\" %(index - 1, target_2631.loc[index - 1]['caid']))\n",
    "        res+=')'\n",
    "        df_new.loc[count] = {'index': count, 'caid': target_2631.loc[index - 1]['caid'], 'start_time' : start_time,\n",
    "                             'end_time' : target_2631.loc[index - 1]['la_datetime'],'count' : (index - start_index),\n",
    "                             'is_process' : False, 'is_success' : False, 'res' : res, 'time' : time_array,\n",
    "                             'distance' : distance_array, 'speed' : speed_array, 'direction': direction_array }\n",
    "        is_first = True\n",
    "        res = 'LINESTRING('\n",
    "        count+=1\n",
    "        start_index = index\n",
    "        start_id = data_id\n",
    "        start_time = target_2631.loc[index]['la_datetime']\n",
    "        time_array = []\n",
    "        distance_array = []\n",
    "        speed_array = []\n",
    "        direction_array = []\n",
    "    time = single_data['la_datetime']\n",
    "    lat = float(single_data['latitude'])\n",
    "    lon = float(single_data['longitude'])\n",
    "    if is_first:\n",
    "        is_first = False\n",
    "        res+= (str(lon) + ' ' + str(lat))\n",
    "    else:\n",
    "        res+= (',' + str(lon) + ' ' + str(lat))\n",
    "        t = (time - prev_time) / pd.Timedelta('1 second')\n",
    "        time_array.append(t)\n",
    "        loc1=(prev_lat, prev_lon)\n",
    "        loc2=(lat, lon)\n",
    "        x, d = calculate_bearing(prev_lat, prev_lon, lat, lon)\n",
    "        distance_array.append(x)\n",
    "        speed_array.append(x / t * 2.23693629)\n",
    "        direction_array.append(d)\n",
    "    prev_time = time\n",
    "    prev_lat = lat\n",
    "    prev_lon = lon\n",
    "    \n",
    "    "
   ]
  },
  {
   "cell_type": "code",
   "execution_count": 82,
   "metadata": {},
   "outputs": [
    {
     "data": {
      "text/plain": [
       "13.670156849504076"
      ]
     },
     "execution_count": 82,
     "metadata": {},
     "output_type": "execute_result"
    }
   ],
   "source": [
    "np.array(df_new.loc[4]['speed']).mean()"
   ]
  },
  {
   "cell_type": "code",
   "execution_count": 85,
   "metadata": {},
   "outputs": [],
   "source": [
    "df_new.to_csv('data/GPS.nosync/Sonoma-2631-new-points/out3.csv')"
   ]
  },
  {
   "cell_type": "code",
   "execution_count": 33,
   "metadata": {},
   "outputs": [],
   "source": [
    "df = pd.read_csv('data/GPS.nosync/Sonoma-2631-new-points/out2.csv')"
   ]
  },
  {
   "cell_type": "code",
   "execution_count": 48,
   "metadata": {},
   "outputs": [
    {
     "name": "stdout",
     "output_type": "stream",
     "text": [
      "2019-10-25 17:03:02-07:00\n"
     ]
    },
    {
     "data": {
      "text/plain": [
       "Timestamp('2019-10-25 17:03:02-0700', tz='pytz.FixedOffset(-420)')"
      ]
     },
     "execution_count": 48,
     "metadata": {},
     "output_type": "execute_result"
    }
   ],
   "source": [
    "time = df['start_time'][4]\n",
    "print(time)\n",
    "pd.Timestamp(time)"
   ]
  }
 ],
 "metadata": {
  "interpreter": {
   "hash": "f00c615e92f1089787b4383c598132903447dd55f0c95a566e13a91c578bceb5"
  },
  "kernelspec": {
   "display_name": "Python 3.9.7 ('base')",
   "language": "python",
   "name": "python3"
  },
  "language_info": {
   "codemirror_mode": {
    "name": "ipython",
    "version": 3
   },
   "file_extension": ".py",
   "mimetype": "text/x-python",
   "name": "python",
   "nbconvert_exporter": "python",
   "pygments_lexer": "ipython3",
   "version": "3.9.7"
  },
  "orig_nbformat": 4
 },
 "nbformat": 4,
 "nbformat_minor": 2
}
