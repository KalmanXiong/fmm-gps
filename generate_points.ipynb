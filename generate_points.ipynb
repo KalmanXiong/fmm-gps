{
 "cells": [
  {
   "cell_type": "code",
   "execution_count": 1,
   "metadata": {},
   "outputs": [],
   "source": [
    "import geopandas as gpd\n",
    "import pyarrow\n",
    "import pandas as pd\n",
    "import os"
   ]
  },
  {
   "cell_type": "code",
   "execution_count": 2,
   "metadata": {},
   "outputs": [],
   "source": [
    "target_2631 = pd.read_parquet('data/GPS.nosync/filter/Sonoma_2631_new', engine='pyarrow')"
   ]
  },
  {
   "cell_type": "code",
   "execution_count": 4,
   "metadata": {},
   "outputs": [
    {
     "data": {
      "text/plain": [
       "4724838"
      ]
     },
     "execution_count": 4,
     "metadata": {},
     "output_type": "execute_result"
    }
   ],
   "source": [
    "n = len(target_2631)\n"
   ]
  },
  {
   "cell_type": "code",
   "execution_count": 6,
   "metadata": {},
   "outputs": [
    {
     "data": {
      "text/plain": [
       "utc_timestamp                                           1572117649\n",
       "caid             0000dec3ca31d5b1b07771650fb6ee077059a5a579f0e3...\n",
       "geo_hash                                                 9qbdwqx8v\n",
       "latitude                                                   38.4441\n",
       "longitude                                                 -122.762\n",
       "utc_datetime                             2019-10-26 19:20:49+00:00\n",
       "la_datetime                              2019-10-26 12:20:49-07:00\n",
       "hour                                                            12\n",
       "lat_epsg_3857                                         -1.36658e+07\n",
       "lon_epsg_3857                                          4.64235e+06\n",
       "Name: 0, dtype: object"
      ]
     },
     "execution_count": 6,
     "metadata": {},
     "output_type": "execute_result"
    }
   ],
   "source": [
    "target_2631.loc[0]"
   ]
  },
  {
   "cell_type": "code",
   "execution_count": 31,
   "metadata": {},
   "outputs": [
    {
     "name": "stdout",
     "output_type": "stream",
     "text": [
      "start index: 0, caid: 0000dec3ca31d5b1b07771650fb6ee077059a5a579f0e35c30d5d68a0008feb6\n"
     ]
    }
   ],
   "source": [
    "start_index = 0\n",
    "start_id = target_2631.loc[start_index]['caid']\n",
    "start_time = target_2631.loc[start_index]['la_datetime']\n",
    "end_time = target_2631.loc[start_index]['la_datetime']\n",
    "data = {'index': [-1], 'caid': [start_id], 'start_time' : [start_time], 'end_time' : [end_time], 'count' : [0], 'is_process' : [False], 'is_success' : [False], 'res' : ['LINESTRING()'] }  \n",
    "df_new = pd.DataFrame(columns=['index', 'caid', 'start_time', 'end_time', 'count', 'is_process', 'is_success', 'res'])\n",
    "# Create DataFrame  \n",
    "df_new = pd.DataFrame(data)\n",
    "print(\"start index: %d, caid: %s\" %(0, start_id))\n",
    "end = n\n",
    "#end = 10000\n",
    "count = 0\n",
    "is_first = True\n",
    "res = 'LINESTRING('\n",
    "for index in range(0, end):\n",
    "    data_id = target_2631.loc[index]['caid']\n",
    "    single_data = target_2631.loc[index]\n",
    "  # is_data_valid = (single_data['latitude'] < 38.85) & (single_data['latitude'] > 38.099) & (single_data['longitude'] < -122.35) & (single_data['longitude'] > -123.55)\n",
    "  \n",
    "    if data_id != start_id:\n",
    "    # print(\"end index: %d, caid: %s\" %(index - 1, target_2631.loc[index - 1]['caid']))\n",
    "        res+=')'\n",
    "        df_new.loc[count] = {'index': count, 'caid': target_2631.loc[index - 1]['caid'], 'start_time' : start_time, 'end_time' : target_2631.loc[index - 1]['la_datetime'], 'count' : (index - start_index), 'is_process' : False, 'is_success' : False, 'res' : res }\n",
    "        is_first = True\n",
    "        res = 'LINESTRING('\n",
    "        count+=1\n",
    "        start_index = index\n",
    "        start_id = data_id\n",
    "        start_time = target_2631.loc[index]['la_datetime']\n",
    "    lat = float(single_data['latitude'])\n",
    "    lon = float(single_data['longitude'])\n",
    "    if is_first:\n",
    "        is_first = False\n",
    "        res+= (str(lon) + ' ' + str(lat))\n",
    "    else:\n",
    "        res+= (',' + str(lon) + ' ' + str(lat))"
   ]
  },
  {
   "cell_type": "code",
   "execution_count": 32,
   "metadata": {},
   "outputs": [],
   "source": [
    "df_new.to_csv('data/GPS.nosync/Sonoma-2631-new-points/out2.csv')"
   ]
  },
  {
   "cell_type": "code",
   "execution_count": 33,
   "metadata": {},
   "outputs": [],
   "source": [
    "df = pd.read_csv('data/GPS.nosync/Sonoma-2631-new-points/out2.csv')"
   ]
  },
  {
   "cell_type": "code",
   "execution_count": 48,
   "metadata": {},
   "outputs": [
    {
     "name": "stdout",
     "output_type": "stream",
     "text": [
      "2019-10-25 17:03:02-07:00\n"
     ]
    },
    {
     "data": {
      "text/plain": [
       "Timestamp('2019-10-25 17:03:02-0700', tz='pytz.FixedOffset(-420)')"
      ]
     },
     "execution_count": 48,
     "metadata": {},
     "output_type": "execute_result"
    }
   ],
   "source": [
    "time = df['start_time'][4]\n",
    "print(time)\n",
    "pd.Timestamp(time)"
   ]
  }
 ],
 "metadata": {
  "interpreter": {
   "hash": "d09d77df69fb55faecef2336bb8caa4cf5fc8bfe24d907a74aa20d27ebe2799f"
  },
  "kernelspec": {
   "display_name": "Python 3.9.7 ('base')",
   "language": "python",
   "name": "python3"
  },
  "language_info": {
   "codemirror_mode": {
    "name": "ipython",
    "version": 3
   },
   "file_extension": ".py",
   "mimetype": "text/x-python",
   "name": "python",
   "nbconvert_exporter": "python",
   "pygments_lexer": "ipython3",
   "version": "3.6.9"
  },
  "orig_nbformat": 4
 },
 "nbformat": 4,
 "nbformat_minor": 2
}
